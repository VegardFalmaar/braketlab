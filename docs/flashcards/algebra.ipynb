{
 "cells": [
  {
   "cell_type": "markdown",
   "id": "8940ca40",
   "metadata": {},
   "source": [
    "# Algebra\n",
    "\n",
    "---"
   ]
  },
  {
   "cell_type": "markdown",
   "id": "9e1901d8",
   "metadata": {},
   "source": [
    "Intances of the BraketLab ```ket```-class are able to do most of the things you would expect if them: they can be added and subtracted, multiplied in various ways with scalars and each other, projected into other bases, formed into inner products, acted upon by operators and much more. In addition, they have a ```.view()```, which yields a visualization in the *representation* they were defined. (BraketLab kets are defined in a given representation, not from operators, and as such may have a conceptual difference from the Dirac-kets you find in books).\n",
    "\n",
    "Let's defined two harmonic oscillator functions in position representation to illustrate the algebra:"
   ]
  },
  {
   "cell_type": "code",
   "execution_count": 1,
   "id": "098d69f7",
   "metadata": {},
   "outputs": [],
   "source": [
    "import braketlab as bk\n",
    "\n",
    "p = bk.basisbank.get_harmonic_oscillator_function(1)\n",
    "q = bk.basisbank.get_harmonic_oscillator_function(2)"
   ]
  },
  {
   "cell_type": "markdown",
   "id": "fe11e920",
   "metadata": {},
   "source": [
    "## Addition and subtraction"
   ]
  },
  {
   "cell_type": "code",
   "execution_count": 2,
   "id": "b18e0732",
   "metadata": {},
   "outputs": [
    {
     "data": {
      "application/vnd.jupyter.widget-view+json": {
       "model_id": "8e37115892e54fb591beb435a9d72ea5",
       "version_major": 2,
       "version_minor": 0
      },
      "text/plain": [
       "BraketView(additive=False, ao=[1], bg_color=[1.0, 1.0, 1.0], fragment_shader='uniform vec3 user_color;\\nunifor…"
      ]
     },
     "execution_count": 2,
     "metadata": {},
     "output_type": "execute_result"
    }
   ],
   "source": [
    "(p+q).view(web = True)"
   ]
  },
  {
   "cell_type": "code",
   "execution_count": 3,
   "id": "683aed15",
   "metadata": {},
   "outputs": [
    {
     "data": {
      "application/vnd.jupyter.widget-view+json": {
       "model_id": "2a7dc6b9c00642d5b6d8616a8f717079",
       "version_major": 2,
       "version_minor": 0
      },
      "text/plain": [
       "BraketView(additive=False, ao=[1], bg_color=[1.0, 1.0, 1.0], fragment_shader='uniform vec3 user_color;\\nunifor…"
      ]
     },
     "execution_count": 3,
     "metadata": {},
     "output_type": "execute_result"
    }
   ],
   "source": [
    "(p-q).view(web = True)"
   ]
  },
  {
   "cell_type": "markdown",
   "id": "286af6d6",
   "metadata": {},
   "source": [
    "## Scalar multiplication"
   ]
  },
  {
   "cell_type": "code",
   "execution_count": 4,
   "id": "0d6fd30c",
   "metadata": {},
   "outputs": [
    {
     "data": {
      "application/vnd.jupyter.widget-view+json": {
       "model_id": "9d3f67414eaa407e93e66ea591d6dc6d",
       "version_major": 2,
       "version_minor": 0
      },
      "text/plain": [
       "BraketView(additive=False, ao=[1], bg_color=[1.0, 1.0, 1.0], fragment_shader='uniform vec3 user_color;\\nunifor…"
      ]
     },
     "execution_count": 4,
     "metadata": {},
     "output_type": "execute_result"
    }
   ],
   "source": [
    "(2.0*p).view(web = True)"
   ]
  },
  {
   "cell_type": "markdown",
   "id": "0d1c6180",
   "metadata": {},
   "source": [
    "## Other products\n",
    "\n",
    "### Inner product\n",
    "\n",
    "The inner product can be defined in various ways. In BraketLab it is either the <a href=\"\">dot product</a> for vectors in Euclidean space:\n",
    "\n",
    "\\begin{equation}\n",
    "\\langle p \\vert q  \\rangle := \\sum_{i} p_i q_i,\n",
    "\\end{equation}\n",
    "\n",
    "or the <a href=\"https://mathworld.wolfram.com/InnerProduct.html\">Hermitian inner product</a> for the vector space of complex functions of arbitrary dimensionality:\n",
    "\n",
    "\\begin{equation}\n",
    "\\langle p \\vert q  \\rangle := \\int_{\\mathbb{R}^N} p(\\mathbf{x})^* q(\\mathbf{x}) d\\mathbf{x}.\n",
    "\\end{equation}\n",
    "\n",
    "You may compute it as follows:*"
   ]
  },
  {
   "cell_type": "code",
   "execution_count": 5,
   "id": "49fb7ddd",
   "metadata": {},
   "outputs": [
    {
     "data": {
      "text/plain": [
       "0.0"
      ]
     },
     "execution_count": 5,
     "metadata": {},
     "output_type": "execute_result"
    }
   ],
   "source": [
    "p.bra@q #should be zero for the orthogonal eigenstates of the Harmonic Oscillator"
   ]
  },
  {
   "cell_type": "markdown",
   "id": "d7fc7328",
   "metadata": {},
   "source": [
    "**Note** that the inner-product of BraketLab is approximated numerically for complex functions, using quadrature in one dimension and Monte Carlo-integration in higher dimensions. "
   ]
  },
  {
   "cell_type": "markdown",
   "id": "1aa3ea9a",
   "metadata": {},
   "source": [
    "### Pointwise product\n",
    "\n",
    "The <a href=\"https://en.wikipedia.org/wiki/Pointwise_product\">pointwise product</a> for two functions $p$ and $q$ is\n",
    "\n",
    "\\begin{equation}\n",
    "(p \\cdot q)(x) = p(x) \\cdot q(x)\n",
    "\\end{equation}\n",
    "\n",
    "In BraketLab, the corresponding operation is"
   ]
  },
  {
   "cell_type": "code",
   "execution_count": 6,
   "id": "a578f510",
   "metadata": {},
   "outputs": [
    {
     "data": {
      "application/vnd.jupyter.widget-view+json": {
       "model_id": "62b1fa580ccd4ca9907e4642627ca99c",
       "version_major": 2,
       "version_minor": 0
      },
      "text/plain": [
       "BraketView(additive=False, ao=[1], bg_color=[1.0, 1.0, 1.0], fragment_shader='uniform vec3 user_color;\\nunifor…"
      ]
     },
     "execution_count": 6,
     "metadata": {},
     "output_type": "execute_result"
    }
   ],
   "source": [
    "(p*q).view(web = True)"
   ]
  },
  {
   "cell_type": "markdown",
   "id": "42957275",
   "metadata": {},
   "source": [
    "### Direct product\n",
    "\n",
    "For convenience, the direct product in BraketLab is defined to be\n",
    "\n",
    "\\begin{equation}\n",
    "p(\\mathbf{x}) \\times q(\\mathbf{x}) = p(\\mathbf{x}_1) q(\\mathbf{x}_2).\n",
    "\\end{equation}\n",
    "\n",
    "The forking of the variable $\\mathbf{x}$ is done to simplify treatment of many-body systems and separable Hamiltonians, which was some of the original focus of BraketLab. It is computed as follows:"
   ]
  },
  {
   "cell_type": "code",
   "execution_count": 7,
   "id": "cad67ade",
   "metadata": {},
   "outputs": [
    {
     "data": {
      "application/vnd.jupyter.widget-view+json": {
       "model_id": "2e76089aa66d409a9fb8a3fd5fc995bf",
       "version_major": 2,
       "version_minor": 0
      },
      "text/plain": [
       "BraketView(ao=[1], bg_color=[0.0, 0.0, 0.0], fragment_shader='uniform vec3 user_color;\\nuniform float time;\\n\\…"
      ]
     },
     "execution_count": 7,
     "metadata": {},
     "output_type": "execute_result"
    }
   ],
   "source": [
    "(p@q).view()"
   ]
  },
  {
   "cell_type": "markdown",
   "id": "a2f72c2a",
   "metadata": {},
   "source": [
    "### Outer product\n",
    "\n",
    "The outer product is special to linear algebra, but is still useful within BraketLab for many reasons. For our purpose, you may view it as\n",
    "\n",
    "\\begin{equation}\n",
    "\\vert p \\rangle \\langle q \\vert \n",
    "\\end{equation}\n",
    "\n",
    "and compute it by"
   ]
  },
  {
   "cell_type": "code",
   "execution_count": 8,
   "id": "dce09408",
   "metadata": {},
   "outputs": [
    {
     "data": {
      "text/html": [
       "$$\\sum_{ij} \\vert 1_i \\rangle \\langle 2_j \\vert$$"
      ],
      "text/plain": [
       "<braketlab.core.outerprod at 0x12c7d65f0>"
      ]
     },
     "execution_count": 8,
     "metadata": {},
     "output_type": "execute_result"
    }
   ],
   "source": [
    "P = p@q.bra\n",
    "P"
   ]
  },
  {
   "cell_type": "markdown",
   "id": "d348966a",
   "metadata": {},
   "source": [
    "The *bra* in the expression above is more than simply a complex conjugate ket - it is an instruction to integrate whatever it encounter to its right. This can be understood from the following operations (make sure you agree that the first operation yields a blank window while the second do not:"
   ]
  },
  {
   "cell_type": "code",
   "execution_count": 9,
   "id": "b237d280",
   "metadata": {},
   "outputs": [
    {
     "data": {
      "application/vnd.jupyter.widget-view+json": {
       "model_id": "0d0b8f8bd3504791b9ee33972038efac",
       "version_major": 2,
       "version_minor": 0
      },
      "text/plain": [
       "BraketView(additive=False, ao=[1], bg_color=[1.0, 1.0, 1.0], fragment_shader='uniform vec3 user_color;\\nunifor…"
      ]
     },
     "execution_count": 9,
     "metadata": {},
     "output_type": "execute_result"
    }
   ],
   "source": [
    "(P*p).view(web = True)"
   ]
  },
  {
   "cell_type": "code",
   "execution_count": 10,
   "id": "b2eaf7df",
   "metadata": {},
   "outputs": [
    {
     "data": {
      "application/vnd.jupyter.widget-view+json": {
       "model_id": "e23b994768a847f6a6d3a2f44632e0ed",
       "version_major": 2,
       "version_minor": 0
      },
      "text/plain": [
       "BraketView(additive=False, ao=[1], bg_color=[1.0, 1.0, 1.0], fragment_shader='uniform vec3 user_color;\\nunifor…"
      ]
     },
     "execution_count": 10,
     "metadata": {},
     "output_type": "execute_result"
    }
   ],
   "source": [
    "(P*q).view(web = True)"
   ]
  },
  {
   "cell_type": "code",
   "execution_count": null,
   "id": "c7f4ada5",
   "metadata": {},
   "outputs": [],
   "source": []
  }
 ],
 "metadata": {
  "kernelspec": {
   "display_name": "Python 3 (ipykernel)",
   "language": "python",
   "name": "python3"
  },
  "language_info": {
   "codemirror_mode": {
    "name": "ipython",
    "version": 3
   },
   "file_extension": ".py",
   "mimetype": "text/x-python",
   "name": "python",
   "nbconvert_exporter": "python",
   "pygments_lexer": "ipython3",
   "version": "3.10.6"
  },
  "widgets": {
   "application/vnd.jupyter.widget-state+json": {
    "state": {
     "0107d6117f22491dbcf5c2762098c1f3": {
      "model_module": "@jupyter-widgets/base",
      "model_module_version": "2.0.0",
      "model_name": "LayoutModel",
      "state": {
       "_model_module_version": "2.0.0",
       "_view_module_version": "2.0.0",
       "border_bottom": null,
       "border_left": null,
       "border_right": null,
       "border_top": null
      }
     },
     "0d0b8f8bd3504791b9ee33972038efac": {
      "model_module": "evince",
      "model_module_version": "^0.36.0",
      "model_name": "BraketModel",
      "state": {
       "_model_module_version": "^0.36.0",
       "_view_module_version": "^0.36.0",
       "additive": false,
       "ao": [
        1
       ],
       "bg_color": [
        1,
        1,
        1
       ],
       "fragment_shader": "uniform vec3 user_color;\nuniform float time;\n\nvarying vec2 vUv;\nvarying vec3 pos;\nvarying vec3 tex;\nvarying float q;\nvarying float csI;\nvarying float csR;\nvarying float cs0;\nvarying float cs;\n\nvoid main() {\n\n    vec2 p = vUv;\n    float q =;\n    float cs0 = q;\n    float csI = -1.0*cs0*sin(1.500000*time) ;\n    float csR = cs0*cos(1.500000*time) ;\n",
       "layout": "IPY_MODEL_31b920b9c99043d6ad599aba1eeee316",
       "pos": [],
       "surf": [],
       "surface_view": true,
       "tabbable": null,
       "tooltip": null
      }
     },
     "0edfeaa7ad5442dba0f01304113a6301": {
      "model_module": "evince",
      "model_module_version": "^0.31.0",
      "model_name": "BraketModel",
      "state": {
       "_model_module_version": "^0.31.0",
       "_view_module_version": "^0.31.0",
       "additive": false,
       "ao": [
        1
       ],
       "bg_color": [
        1,
        1,
        1
       ],
       "fragment_shader": "uniform vec3 user_color;\nuniform float time;\n\nvarying vec2 vUv;\nvarying vec3 pos;\nvarying vec3 tex;\nvarying float q;\nvarying float csI;\nvarying float csR;\nvarying float cs0;\nvarying float cs;\n\nvoid main() {\n\n    vec2 p = vUv;\n    float q = tex[0]*tex[0] ;\n    float cs0 = 1.0622519320271941*tex[0]*exp(-1.0/2.0*q);\n    float csI = -1.0*cs0*sin(1.500000*time) ;\n    float csR = cs0*cos(1.500000*time) ;\n    csR = smoothstep(0.9*tex[1], tex[1], csR);\n    csI = smoothstep(0.9*tex[1], tex[1], csI);\n    gl_FragColor = gl_FragColor + vec4(csR + .06*csI, csR + .1*csI, .7*csR + .5*csI, 1.0);\n}",
       "layout": "IPY_MODEL_78ee965ccf0b4151ab34d12b1f4af040",
       "pos": [],
       "surf": [],
       "surface_view": true,
       "tabbable": null,
       "tooltip": null
      }
     },
     "0f9047ff0fa741799a7a014d50efcde5": {
      "model_module": "evince",
      "model_module_version": "^0.31.0",
      "model_name": "BraketModel",
      "state": {
       "_model_module_version": "^0.31.0",
       "_view_module_version": "^0.31.0",
       "additive": false,
       "ao": [
        1
       ],
       "bg_color": [
        1,
        1,
        1
       ],
       "fragment_shader": "uniform vec3 user_color;\nuniform float time;\n\nvarying vec2 vUv;\nvarying vec3 pos;\nvarying vec3 tex;\nvarying float q;\nvarying float csI;\nvarying float csR;\nvarying float cs0;\nvarying float cs;\n\nvoid main() {\n\n    vec2 p = vUv;\n    float q = tex[0]*tex[0] ;\n    float cs0 = 2.1245038640543936*tex[0]*exp(-1.0/2.0*q);\n    float csI = 0.0 ;\n    float csR = cs0 ;\n    csR = smoothstep(0.9*tex[1], tex[1], csR);\n    csI = smoothstep(0.9*tex[1], tex[1], csI);\n    gl_FragColor = gl_FragColor + vec4(csR + .06*csI, csR + .1*csI, .7*csR + .5*csI, 1.0);\n}",
       "layout": "IPY_MODEL_d3b453e6ac8d48549171f79d3107a6f5",
       "pos": [],
       "surf": [],
       "surface_view": true,
       "tabbable": null,
       "tooltip": null
      }
     },
     "0fc0be2638904e0498fd46b720a471cc": {
      "model_module": "@jupyter-widgets/base",
      "model_module_version": "2.0.0",
      "model_name": "LayoutModel",
      "state": {
       "_model_module_version": "2.0.0",
       "_view_module_version": "2.0.0",
       "border_bottom": null,
       "border_left": null,
       "border_right": null,
       "border_top": null
      }
     },
     "19d8d75593b0437d91c535ec3b4a8392": {
      "model_module": "@jupyter-widgets/base",
      "model_module_version": "2.0.0",
      "model_name": "LayoutModel",
      "state": {
       "_model_module_version": "2.0.0",
       "_view_module_version": "2.0.0",
       "border_bottom": null,
       "border_left": null,
       "border_right": null,
       "border_top": null
      }
     },
     "1b3987d45dff4ca5924e42449714e05d": {
      "model_module": "evince",
      "model_module_version": "^0.30.0",
      "model_name": "BraketModel",
      "state": {
       "_model_module_version": "^0.30.0",
       "_view_module_version": "^0.30.0",
       "additive": true,
       "ao": [
        1
       ],
       "bg_color": [
        0,
        0,
        0
       ],
       "fragment_shader": "uniform vec3 user_color;\nuniform float time;\n\nvarying vec2 vUv;\nvarying vec3 pos;\nvarying vec3 tex;\nvarying float q;\nvarying float csI;\nvarying float csR;\nvarying float cs0;\nvarying float cs;\n\nvoid main() {\n\n    vec2 p = vUv;\n    float q = tex[0]*tex[0] +tex[1]*tex[1] ;\n    float cs0 = 0.28209479177387808*tex[0]*(4.0*pow(tex[1], 2.0) - 2.0)*exp(-1.0/2.0*pow(tex[0], 2.0) - 1.0/2.0*pow(tex[1], 2.0));\n    float csI = 0.0 ;\n    float csR = cs0 ;\n    gl_FragColor = gl_FragColor + vec4(csR, csI, -1.0*csR, 1);\n}",
       "layout": "IPY_MODEL_7cee3a62050248378618e928c57e282e",
       "pos": [],
       "surf": [],
       "surface_view": true,
       "tabbable": null,
       "tooltip": null
      }
     },
     "1bd59a73f9154666a0d9a2757dc44e41": {
      "model_module": "@jupyter-widgets/base",
      "model_module_version": "2.0.0",
      "model_name": "LayoutModel",
      "state": {
       "_model_module_version": "2.0.0",
       "_view_module_version": "2.0.0",
       "border_bottom": null,
       "border_left": null,
       "border_right": null,
       "border_top": null
      }
     },
     "1cd2dd4b96c34e22863c03b1a8c6e99f": {
      "model_module": "@jupyter-widgets/base",
      "model_module_version": "2.0.0",
      "model_name": "LayoutModel",
      "state": {
       "_model_module_version": "2.0.0",
       "_view_module_version": "2.0.0",
       "border_bottom": null,
       "border_left": null,
       "border_right": null,
       "border_top": null
      }
     },
     "1dd7fdd1cda848efbc2e53e9013e29ef": {
      "model_module": "evince",
      "model_module_version": "^0.30.0",
      "model_name": "BraketModel",
      "state": {
       "_model_module_version": "^0.30.0",
       "_view_module_version": "^0.30.0",
       "additive": false,
       "ao": [
        1
       ],
       "bg_color": [
        1,
        1,
        1
       ],
       "fragment_shader": "uniform vec3 user_color;\nuniform float time;\n\nvarying vec2 vUv;\nvarying vec3 pos;\nvarying vec3 tex;\nvarying float q;\nvarying float csI;\nvarying float csR;\nvarying float cs0;\nvarying float cs;\n\nvoid main() {\n\n    vec2 p = vUv;\n    float q = tex[0]*tex[0] ;\n    float cs0 = 2.1245038640543936*tex[0]*exp(-1.0/2.0*q);\n    float csI = 0.0 ;\n    float csR = cs0 ;\n    csR = smoothstep(0.9*tex[1], tex[1], csR);\n    csI = smoothstep(0.9*tex[1], tex[1], csI);\n    gl_FragColor = gl_FragColor + vec4(csR + .06*csI, csR + .1*csI, .7*csR + .5*csI, 1.0);\n}",
       "layout": "IPY_MODEL_1bd59a73f9154666a0d9a2757dc44e41",
       "pos": [],
       "surf": [],
       "surface_view": true,
       "tabbable": null,
       "tooltip": null
      }
     },
     "2180cf0e6bd74b0189bb98b82d3403e8": {
      "model_module": "evince",
      "model_module_version": "^0.31.0",
      "model_name": "BraketModel",
      "state": {
       "_model_module_version": "^0.31.0",
       "_view_module_version": "^0.31.0",
       "additive": false,
       "ao": [
        1
       ],
       "bg_color": [
        1,
        1,
        1
       ],
       "fragment_shader": "uniform vec3 user_color;\nuniform float time;\n\nvarying vec2 vUv;\nvarying vec3 pos;\nvarying vec3 tex;\nvarying float q;\nvarying float csI;\nvarying float csR;\nvarying float cs0;\nvarying float cs;\n\nvoid main() {\n\n    vec2 p = vUv;\n    float q = tex[0]*tex[0] ;\n    float cs0 = 1.0622519320271941*tex[0]*exp(-1.0/2.0*q);\n    float csI = -1.0*cs0*sin(1.500000*time) ;\n    float csR = cs0*cos(1.500000*time) ;\n    csR = smoothstep(0.9*tex[1], tex[1], csR);\n    csI = smoothstep(0.9*tex[1], tex[1], csI);\n    gl_FragColor = gl_FragColor + vec4(csR + .06*csI, csR + .1*csI, .7*csR + .5*csI, 1.0);\n}",
       "layout": "IPY_MODEL_19d8d75593b0437d91c535ec3b4a8392",
       "pos": [],
       "surf": [],
       "surface_view": true,
       "tabbable": null,
       "tooltip": null
      }
     },
     "250e1d98ea6942eba79ebb280070479e": {
      "model_module": "@jupyter-widgets/base",
      "model_module_version": "2.0.0",
      "model_name": "LayoutModel",
      "state": {
       "_model_module_version": "2.0.0",
       "_view_module_version": "2.0.0",
       "border_bottom": null,
       "border_left": null,
       "border_right": null,
       "border_top": null
      }
     },
     "29c2563c80bf4df5a4e081b6e27f1126": {
      "model_module": "@jupyter-widgets/base",
      "model_module_version": "2.0.0",
      "model_name": "LayoutModel",
      "state": {
       "_model_module_version": "2.0.0",
       "_view_module_version": "2.0.0",
       "border_bottom": null,
       "border_left": null,
       "border_right": null,
       "border_top": null
      }
     },
     "2a7dc6b9c00642d5b6d8616a8f717079": {
      "model_module": "evince",
      "model_module_version": "^0.36.0",
      "model_name": "BraketModel",
      "state": {
       "_model_module_version": "^0.36.0",
       "_view_module_version": "^0.36.0",
       "additive": false,
       "ao": [
        1
       ],
       "bg_color": [
        1,
        1,
        1
       ],
       "fragment_shader": "uniform vec3 user_color;\nuniform float time;\n\nvarying vec2 vUv;\nvarying vec3 pos;\nvarying vec3 tex;\nvarying float q;\nvarying float csI;\nvarying float csR;\nvarying float cs0;\nvarying float cs1;\nvarying float cs;\n\nvoid main() {\n\n    vec2 p = vUv;\n    float q = tex[0]*tex[0] ;\n    float cs0 = 1.0622519320271968*tex[0]*exp(-1.0/2.0*q);\n    float cs1 = (0.53112596601359841 - 1.0622519320271968*q)*exp(-1.0/2.0*q);\n    float csI = -1.0*cs0*sin(1.500000*time) + -1.0*cs1*sin(2.500000*time) ;\n    float csR = cs0*cos(1.500000*time) + cs1*cos(2.500000*time) ;\n    csR = smoothstep(0.9*tex[1], tex[1], csR);\n    csI = smoothstep(0.9*tex[1], tex[1], csI);\n    gl_FragColor = gl_FragColor + vec4(csR + .06*csI, csR + .1*csI, .7*csR + .5*csI, 1.0);\n}",
       "layout": "IPY_MODEL_250e1d98ea6942eba79ebb280070479e",
       "pos": [],
       "surf": [],
       "surface_view": true,
       "tabbable": null,
       "tooltip": null
      }
     },
     "2d16bed62ef14591a18ff5a9b719079f": {
      "model_module": "evince",
      "model_module_version": "^0.30.0",
      "model_name": "BraketModel",
      "state": {
       "_model_module_version": "^0.30.0",
       "_view_module_version": "^0.30.0",
       "additive": false,
       "ao": [
        1
       ],
       "bg_color": [
        1,
        1,
        1
       ],
       "fragment_shader": "uniform vec3 user_color;\nuniform float time;\n\nvarying vec2 vUv;\nvarying vec3 pos;\nvarying vec3 tex;\nvarying float q;\nvarying float csI;\nvarying float csR;\nvarying float cs0;\nvarying float cs1;\nvarying float cs;\n\nvoid main() {\n\n    vec2 p = vUv;\n    float q = tex[0]*tex[0] ;\n    float cs0 = 1.0622519320271968*tex[0]*exp(-1.0/2.0*q);\n    float cs1 = (0.53112596601359841 - 1.0622519320271968*q)*exp(-1.0/2.0*q);\n    float csI = -1.0*cs0*sin(1.500000*time) + -1.0*cs1*sin(2.500000*time) ;\n    float csR = cs0*cos(1.500000*time) + cs1*cos(2.500000*time) ;\n    csR = smoothstep(0.9*tex[1], tex[1], csR);\n    csI = smoothstep(0.9*tex[1], tex[1], csI);\n    gl_FragColor = gl_FragColor + vec4(csR + .06*csI, csR + .1*csI, .7*csR + .5*csI, 1.0);\n}",
       "layout": "IPY_MODEL_0107d6117f22491dbcf5c2762098c1f3",
       "pos": [],
       "surf": [],
       "surface_view": true,
       "tabbable": null,
       "tooltip": null
      }
     },
     "2e55bcf51aee430a857b21c8b767ee14": {
      "model_module": "@jupyter-widgets/base",
      "model_module_version": "2.0.0",
      "model_name": "LayoutModel",
      "state": {
       "_model_module_version": "2.0.0",
       "_view_module_version": "2.0.0",
       "border_bottom": null,
       "border_left": null,
       "border_right": null,
       "border_top": null
      }
     },
     "2e76089aa66d409a9fb8a3fd5fc995bf": {
      "model_module": "evince",
      "model_module_version": "^0.36.0",
      "model_name": "BraketModel",
      "state": {
       "_model_module_version": "^0.36.0",
       "_view_module_version": "^0.36.0",
       "additive": true,
       "ao": [
        1
       ],
       "bg_color": [
        0,
        0,
        0
       ],
       "fragment_shader": "uniform vec3 user_color;\nuniform float time;\n\nvarying vec2 vUv;\nvarying vec3 pos;\nvarying vec3 tex;\nvarying float q;\nvarying float csI;\nvarying float csR;\nvarying float cs0;\nvarying float cs;\n\nvoid main() {\n\n    vec2 p = vUv;\n    float q = tex[0]*tex[0] +tex[1]*tex[1] ;\n    float cs0 = 0.28209479177387808*tex[0]*(4.0*pow(tex[1], 2.0) - 2.0)*exp(-1.0/2.0*pow(tex[0], 2.0) - 1.0/2.0*pow(tex[1], 2.0));\n    float csI = 0.0 ;\n    float csR = cs0 ;\n    gl_FragColor = gl_FragColor + vec4(csR, csI, -1.0*csR, 1);\n}",
       "layout": "IPY_MODEL_d9878b72eb7a499ea971df4978ef0765",
       "pos": [],
       "surf": [],
       "surface_view": true,
       "tabbable": null,
       "tooltip": null
      }
     },
     "2ec750b4db96401999f4a223200834bc": {
      "model_module": "@jupyter-widgets/base",
      "model_module_version": "2.0.0",
      "model_name": "LayoutModel",
      "state": {
       "_model_module_version": "2.0.0",
       "_view_module_version": "2.0.0",
       "border_bottom": null,
       "border_left": null,
       "border_right": null,
       "border_top": null
      }
     },
     "31b920b9c99043d6ad599aba1eeee316": {
      "model_module": "@jupyter-widgets/base",
      "model_module_version": "2.0.0",
      "model_name": "LayoutModel",
      "state": {
       "_model_module_version": "2.0.0",
       "_view_module_version": "2.0.0",
       "border_bottom": null,
       "border_left": null,
       "border_right": null,
       "border_top": null
      }
     },
     "340ef910d8ed427eb4290eafe225fd31": {
      "model_module": "@jupyter-widgets/base",
      "model_module_version": "2.0.0",
      "model_name": "LayoutModel",
      "state": {
       "_model_module_version": "2.0.0",
       "_view_module_version": "2.0.0",
       "border_bottom": null,
       "border_left": null,
       "border_right": null,
       "border_top": null
      }
     },
     "3519586744a64c1e9c6c5064b7545c86": {
      "model_module": "@jupyter-widgets/base",
      "model_module_version": "2.0.0",
      "model_name": "LayoutModel",
      "state": {
       "_model_module_version": "2.0.0",
       "_view_module_version": "2.0.0",
       "border_bottom": null,
       "border_left": null,
       "border_right": null,
       "border_top": null
      }
     },
     "3fb8fd2c768348a0b0737e70c3af47bc": {
      "model_module": "@jupyter-widgets/base",
      "model_module_version": "2.0.0",
      "model_name": "LayoutModel",
      "state": {
       "_model_module_version": "2.0.0",
       "_view_module_version": "2.0.0",
       "border_bottom": null,
       "border_left": null,
       "border_right": null,
       "border_top": null
      }
     },
     "4cad8a70826042b49e052cf985dc48eb": {
      "model_module": "evince",
      "model_module_version": "^0.31.0",
      "model_name": "BraketModel",
      "state": {
       "_model_module_version": "^0.31.0",
       "_view_module_version": "^0.31.0",
       "additive": false,
       "ao": [
        1
       ],
       "bg_color": [
        1,
        1,
        1
       ],
       "fragment_shader": "uniform vec3 user_color;\nuniform float time;\n\nvarying vec2 vUv;\nvarying vec3 pos;\nvarying vec3 tex;\nvarying float q;\nvarying float csI;\nvarying float csR;\nvarying float cs0;\nvarying float cs;\n\nvoid main() {\n\n    vec2 p = vUv;\n    float q = tex[0]*tex[0] ;\n    float cs0 = 0.28209479177387808*tex[0]*(4.0*q - 2.0)*exp(-q);\n    float csI = -1.0*cs0*sin(3.750000*time) ;\n    float csR = cs0*cos(3.750000*time) ;\n    csR = smoothstep(0.9*tex[1], tex[1], csR);\n    csI = smoothstep(0.9*tex[1], tex[1], csI);\n    gl_FragColor = gl_FragColor + vec4(csR + .06*csI, csR + .1*csI, .7*csR + .5*csI, 1.0);\n}",
       "layout": "IPY_MODEL_7f76c595d43e41a3bf6247b939f5565b",
       "pos": [],
       "surf": [],
       "surface_view": true,
       "tabbable": null,
       "tooltip": null
      }
     },
     "4e64ac44b5bc4558b1ca0d393c413b1f": {
      "model_module": "evince",
      "model_module_version": "^0.31.0",
      "model_name": "BraketModel",
      "state": {
       "_model_module_version": "^0.31.0",
       "_view_module_version": "^0.31.0",
       "additive": false,
       "ao": [
        1
       ],
       "bg_color": [
        1,
        1,
        1
       ],
       "fragment_shader": "uniform vec3 user_color;\nuniform float time;\n\nvarying vec2 vUv;\nvarying vec3 pos;\nvarying vec3 tex;\nvarying float q;\nvarying float csI;\nvarying float csR;\nvarying float cs0;\nvarying float cs1;\nvarying float cs;\n\nvoid main() {\n\n    vec2 p = vUv;\n    float q = tex[0]*tex[0] ;\n    float cs0 = 1.0622519320271968*tex[0]*exp(-1.0/2.0*q);\n    float cs1 = (1.0622519320271968*q - 0.53112596601359841)*exp(-1.0/2.0*q);\n    float csI = -1.0*cs0*sin(1.500000*time) + -1.0*cs1*sin(2.500000*time) ;\n    float csR = cs0*cos(1.500000*time) + cs1*cos(2.500000*time) ;\n    csR = smoothstep(0.9*tex[1], tex[1], csR);\n    csI = smoothstep(0.9*tex[1], tex[1], csI);\n    gl_FragColor = gl_FragColor + vec4(csR + .06*csI, csR + .1*csI, .7*csR + .5*csI, 1.0);\n}",
       "layout": "IPY_MODEL_9dc66927d0d34cf0a4020da9c3026b8c",
       "pos": [],
       "surf": [],
       "surface_view": true,
       "tabbable": null,
       "tooltip": null
      }
     },
     "5f6cb76813dd4a7588fb7bd794b1f9ac": {
      "model_module": "evince",
      "model_module_version": "^0.31.0",
      "model_name": "BraketModel",
      "state": {
       "_model_module_version": "^0.31.0",
       "_view_module_version": "^0.31.0",
       "additive": false,
       "ao": [
        1
       ],
       "bg_color": [
        1,
        1,
        1
       ],
       "fragment_shader": "uniform vec3 user_color;\nuniform float time;\n\nvarying vec2 vUv;\nvarying vec3 pos;\nvarying vec3 tex;\nvarying float q;\nvarying float csI;\nvarying float csR;\nvarying float cs0;\nvarying float cs1;\nvarying float cs;\n\nvoid main() {\n\n    vec2 p = vUv;\n    float q = tex[0]*tex[0] ;\n    float cs0 = 1.0622519320271968*tex[0]*exp(-1.0/2.0*q);\n    float cs1 = (0.53112596601359841 - 1.0622519320271968*q)*exp(-1.0/2.0*q);\n    float csI = -1.0*cs0*sin(1.500000*time) + -1.0*cs1*sin(2.500000*time) ;\n    float csR = cs0*cos(1.500000*time) + cs1*cos(2.500000*time) ;\n    csR = smoothstep(0.9*tex[1], tex[1], csR);\n    csI = smoothstep(0.9*tex[1], tex[1], csI);\n    gl_FragColor = gl_FragColor + vec4(csR + .06*csI, csR + .1*csI, .7*csR + .5*csI, 1.0);\n}",
       "layout": "IPY_MODEL_3fb8fd2c768348a0b0737e70c3af47bc",
       "pos": [],
       "surf": [],
       "surface_view": true,
       "tabbable": null,
       "tooltip": null
      }
     },
     "5fae01d032af497f9e1ce641a1617e30": {
      "model_module": "evince",
      "model_module_version": "^0.31.0",
      "model_name": "BraketModel",
      "state": {
       "_model_module_version": "^0.31.0",
       "_view_module_version": "^0.31.0",
       "additive": true,
       "ao": [
        1
       ],
       "bg_color": [
        0,
        0,
        0
       ],
       "fragment_shader": "uniform vec3 user_color;\nuniform float time;\n\nvarying vec2 vUv;\nvarying vec3 pos;\nvarying vec3 tex;\nvarying float q;\nvarying float csI;\nvarying float csR;\nvarying float cs0;\nvarying float cs;\n\nvoid main() {\n\n    vec2 p = vUv;\n    float q = tex[0]*tex[0] +tex[1]*tex[1] ;\n    float cs0 = 0.28209479177387808*tex[0]*(4.0*pow(tex[1], 2.0) - 2.0)*exp(-1.0/2.0*pow(tex[0], 2.0) - 1.0/2.0*pow(tex[1], 2.0));\n    float csI = 0.0 ;\n    float csR = cs0 ;\n    gl_FragColor = gl_FragColor + vec4(csR, csI, -1.0*csR, 1);\n}",
       "layout": "IPY_MODEL_29c2563c80bf4df5a4e081b6e27f1126",
       "pos": [],
       "surf": [],
       "surface_view": true,
       "tabbable": null,
       "tooltip": null
      }
     },
     "62b1fa580ccd4ca9907e4642627ca99c": {
      "model_module": "evince",
      "model_module_version": "^0.36.0",
      "model_name": "BraketModel",
      "state": {
       "_model_module_version": "^0.36.0",
       "_view_module_version": "^0.36.0",
       "additive": false,
       "ao": [
        1
       ],
       "bg_color": [
        1,
        1,
        1
       ],
       "fragment_shader": "uniform vec3 user_color;\nuniform float time;\n\nvarying vec2 vUv;\nvarying vec3 pos;\nvarying vec3 tex;\nvarying float q;\nvarying float csI;\nvarying float csR;\nvarying float cs0;\nvarying float cs;\n\nvoid main() {\n\n    vec2 p = vUv;\n    float q = tex[0]*tex[0] ;\n    float cs0 = 0.28209479177387808*tex[0]*(4.0*q - 2.0)*exp(-q);\n    float csI = -1.0*cs0*sin(3.750000*time) ;\n    float csR = cs0*cos(3.750000*time) ;\n    csR = smoothstep(0.9*tex[1], tex[1], csR);\n    csI = smoothstep(0.9*tex[1], tex[1], csI);\n    gl_FragColor = gl_FragColor + vec4(csR + .06*csI, csR + .1*csI, .7*csR + .5*csI, 1.0);\n}",
       "layout": "IPY_MODEL_2e55bcf51aee430a857b21c8b767ee14",
       "pos": [],
       "surf": [],
       "surface_view": true,
       "tabbable": null,
       "tooltip": null
      }
     },
     "6ac2d13e7f0d4a4f951af3168bea3477": {
      "model_module": "@jupyter-widgets/base",
      "model_module_version": "2.0.0",
      "model_name": "LayoutModel",
      "state": {
       "_model_module_version": "2.0.0",
       "_view_module_version": "2.0.0",
       "border_bottom": null,
       "border_left": null,
       "border_right": null,
       "border_top": null
      }
     },
     "6fb21e5997934e76bc5a34a236e8b895": {
      "model_module": "@jupyter-widgets/base",
      "model_module_version": "2.0.0",
      "model_name": "LayoutModel",
      "state": {
       "_model_module_version": "2.0.0",
       "_view_module_version": "2.0.0",
       "border_bottom": null,
       "border_left": null,
       "border_right": null,
       "border_top": null
      }
     },
     "71c69759aa684b5eb37ef269d12ce429": {
      "model_module": "evince",
      "model_module_version": "^0.31.0",
      "model_name": "BraketModel",
      "state": {
       "_model_module_version": "^0.31.0",
       "_view_module_version": "^0.31.0",
       "additive": false,
       "ao": [
        1
       ],
       "bg_color": [
        1,
        1,
        1
       ],
       "fragment_shader": "uniform vec3 user_color;\nuniform float time;\n\nvarying vec2 vUv;\nvarying vec3 pos;\nvarying vec3 tex;\nvarying float q;\nvarying float csI;\nvarying float csR;\nvarying float cs0;\nvarying float cs;\n\nvoid main() {\n\n    vec2 p = vUv;\n    float q =;\n    float cs0 = q;\n    float csI = -1.0*cs0*sin(1.500000*time) ;\n    float csR = cs0*cos(1.500000*time) ;\n",
       "layout": "IPY_MODEL_e4ef03f213b44b81849f64ad0451c1e8",
       "pos": [],
       "surf": [],
       "surface_view": true,
       "tabbable": null,
       "tooltip": null
      }
     },
     "737e5e55fac64fa1a32ace79005788f8": {
      "model_module": "@jupyter-widgets/base",
      "model_module_version": "2.0.0",
      "model_name": "LayoutModel",
      "state": {
       "_model_module_version": "2.0.0",
       "_view_module_version": "2.0.0",
       "border_bottom": null,
       "border_left": null,
       "border_right": null,
       "border_top": null
      }
     },
     "73db13a420d4475d9273e1ac988dbbb3": {
      "model_module": "@jupyter-widgets/base",
      "model_module_version": "2.0.0",
      "model_name": "LayoutModel",
      "state": {
       "_model_module_version": "2.0.0",
       "_view_module_version": "2.0.0",
       "border_bottom": null,
       "border_left": null,
       "border_right": null,
       "border_top": null
      }
     },
     "75097783b7034d04b1028a8b3e05eb60": {
      "model_module": "evince",
      "model_module_version": "^0.31.0",
      "model_name": "BraketModel",
      "state": {
       "_model_module_version": "^0.31.0",
       "_view_module_version": "^0.31.0",
       "additive": true,
       "ao": [
        1
       ],
       "bg_color": [
        0,
        0,
        0
       ],
       "fragment_shader": "uniform vec3 user_color;\nuniform float time;\n\nvarying vec2 vUv;\nvarying vec3 pos;\nvarying vec3 tex;\nvarying float q;\nvarying float csI;\nvarying float csR;\nvarying float cs0;\nvarying float cs;\n\nvoid main() {\n\n    vec2 p = vUv;\n    float q = tex[0]*tex[0] +tex[1]*tex[1] ;\n    float cs0 = 0.28209479177387808*tex[0]*(4.0*pow(tex[1], 2.0) - 2.0)*exp(-1.0/2.0*pow(tex[0], 2.0) - 1.0/2.0*pow(tex[1], 2.0));\n    float csI = 0.0 ;\n    float csR = cs0 ;\n    gl_FragColor = gl_FragColor + vec4(csR, csI, -1.0*csR, 1);\n}",
       "layout": "IPY_MODEL_aeab271e833e40d09c77136fc53df51c",
       "pos": [],
       "surf": [],
       "surface_view": true,
       "tabbable": null,
       "tooltip": null
      }
     },
     "78ee965ccf0b4151ab34d12b1f4af040": {
      "model_module": "@jupyter-widgets/base",
      "model_module_version": "2.0.0",
      "model_name": "LayoutModel",
      "state": {
       "_model_module_version": "2.0.0",
       "_view_module_version": "2.0.0",
       "border_bottom": null,
       "border_left": null,
       "border_right": null,
       "border_top": null
      }
     },
     "7cee3a62050248378618e928c57e282e": {
      "model_module": "@jupyter-widgets/base",
      "model_module_version": "2.0.0",
      "model_name": "LayoutModel",
      "state": {
       "_model_module_version": "2.0.0",
       "_view_module_version": "2.0.0",
       "border_bottom": null,
       "border_left": null,
       "border_right": null,
       "border_top": null
      }
     },
     "7e0856e8216c4293954d2182ab381176": {
      "model_module": "evince",
      "model_module_version": "^0.31.0",
      "model_name": "BraketModel",
      "state": {
       "_model_module_version": "^0.31.0",
       "_view_module_version": "^0.31.0",
       "additive": false,
       "ao": [
        1
       ],
       "bg_color": [
        1,
        1,
        1
       ],
       "fragment_shader": "uniform vec3 user_color;\nuniform float time;\n\nvarying vec2 vUv;\nvarying vec3 pos;\nvarying vec3 tex;\nvarying float q;\nvarying float csI;\nvarying float csR;\nvarying float cs0;\nvarying float cs;\n\nvoid main() {\n\n    vec2 p = vUv;\n    float q =;\n    float cs0 = q;\n    float csI = -1.0*cs0*sin(1.500000*time) ;\n    float csR = cs0*cos(1.500000*time) ;\n",
       "layout": "IPY_MODEL_d5841e266ae34305b801d78fe903394a",
       "pos": [],
       "surf": [],
       "surface_view": true,
       "tabbable": null,
       "tooltip": null
      }
     },
     "7e3b862c02024c8bb406966004e6f0eb": {
      "model_module": "evince",
      "model_module_version": "^0.31.0",
      "model_name": "BraketModel",
      "state": {
       "_model_module_version": "^0.31.0",
       "_view_module_version": "^0.31.0",
       "additive": false,
       "ao": [
        1
       ],
       "bg_color": [
        1,
        1,
        1
       ],
       "fragment_shader": "uniform vec3 user_color;\nuniform float time;\n\nvarying vec2 vUv;\nvarying vec3 pos;\nvarying vec3 tex;\nvarying float q;\nvarying float csI;\nvarying float csR;\nvarying float cs0;\nvarying float cs1;\nvarying float cs;\n\nvoid main() {\n\n    vec2 p = vUv;\n    float q = tex[0]*tex[0] ;\n    float cs0 = 1.0622519320271968*tex[0]*exp(-1.0/2.0*q);\n    float cs1 = (0.53112596601359841 - 1.0622519320271968*q)*exp(-1.0/2.0*q);\n    float csI = -1.0*cs0*sin(1.500000*time) + -1.0*cs1*sin(2.500000*time) ;\n    float csR = cs0*cos(1.500000*time) + cs1*cos(2.500000*time) ;\n    csR = smoothstep(0.9*tex[1], tex[1], csR);\n    csI = smoothstep(0.9*tex[1], tex[1], csI);\n    gl_FragColor = gl_FragColor + vec4(csR + .06*csI, csR + .1*csI, .7*csR + .5*csI, 1.0);\n}",
       "layout": "IPY_MODEL_f5cec2e78d6d410fbb72b0cb48f4d766",
       "pos": [],
       "surf": [],
       "surface_view": true,
       "tabbable": null,
       "tooltip": null
      }
     },
     "7ea938ab94554afd846a07001af71f8f": {
      "model_module": "@jupyter-widgets/base",
      "model_module_version": "2.0.0",
      "model_name": "LayoutModel",
      "state": {
       "_model_module_version": "2.0.0",
       "_view_module_version": "2.0.0",
       "border_bottom": null,
       "border_left": null,
       "border_right": null,
       "border_top": null
      }
     },
     "7f76c595d43e41a3bf6247b939f5565b": {
      "model_module": "@jupyter-widgets/base",
      "model_module_version": "2.0.0",
      "model_name": "LayoutModel",
      "state": {
       "_model_module_version": "2.0.0",
       "_view_module_version": "2.0.0",
       "border_bottom": null,
       "border_left": null,
       "border_right": null,
       "border_top": null
      }
     },
     "80b90318d57c41bbb758f9d001232691": {
      "model_module": "@jupyter-widgets/base",
      "model_module_version": "2.0.0",
      "model_name": "LayoutModel",
      "state": {
       "_model_module_version": "2.0.0",
       "_view_module_version": "2.0.0",
       "border_bottom": null,
       "border_left": null,
       "border_right": null,
       "border_top": null
      }
     },
     "8101f29ca4604269a09248e40bcffb68": {
      "model_module": "evince",
      "model_module_version": "^0.31.0",
      "model_name": "BraketModel",
      "state": {
       "_model_module_version": "^0.31.0",
       "_view_module_version": "^0.31.0",
       "additive": false,
       "ao": [
        1
       ],
       "bg_color": [
        1,
        1,
        1
       ],
       "fragment_shader": "uniform vec3 user_color;\nuniform float time;\n\nvarying vec2 vUv;\nvarying vec3 pos;\nvarying vec3 tex;\nvarying float q;\nvarying float csI;\nvarying float csR;\nvarying float cs0;\nvarying float cs1;\nvarying float cs;\n\nvoid main() {\n\n    vec2 p = vUv;\n    float q = tex[0]*tex[0] ;\n    float cs0 = 1.0622519320271968*tex[0]*exp(-1.0/2.0*q);\n    float cs1 = (1.0622519320271968*q - 0.53112596601359841)*exp(-1.0/2.0*q);\n    float csI = -1.0*cs0*sin(1.500000*time) + -1.0*cs1*sin(2.500000*time) ;\n    float csR = cs0*cos(1.500000*time) + cs1*cos(2.500000*time) ;\n    csR = smoothstep(0.9*tex[1], tex[1], csR);\n    csI = smoothstep(0.9*tex[1], tex[1], csI);\n    gl_FragColor = gl_FragColor + vec4(csR + .06*csI, csR + .1*csI, .7*csR + .5*csI, 1.0);\n}",
       "layout": "IPY_MODEL_f1b796c8acd14f919f0e1f4147b6f351",
       "pos": [],
       "surf": [],
       "surface_view": true,
       "tabbable": null,
       "tooltip": null
      }
     },
     "84fe6e18b06f4764a8bfacb052790e7b": {
      "model_module": "evince",
      "model_module_version": "^0.31.0",
      "model_name": "BraketModel",
      "state": {
       "_model_module_version": "^0.31.0",
       "_view_module_version": "^0.31.0",
       "additive": false,
       "ao": [
        1
       ],
       "bg_color": [
        1,
        1,
        1
       ],
       "fragment_shader": "uniform vec3 user_color;\nuniform float time;\n\nvarying vec2 vUv;\nvarying vec3 pos;\nvarying vec3 tex;\nvarying float q;\nvarying float csI;\nvarying float csR;\nvarying float cs0;\nvarying float cs;\n\nvoid main() {\n\n    vec2 p = vUv;\n    float q = tex[0]*tex[0] ;\n    float cs0 = 2.1245038640543936*tex[0]*exp(-1.0/2.0*q);\n    float csI = 0.0 ;\n    float csR = cs0 ;\n    csR = smoothstep(0.9*tex[1], tex[1], csR);\n    csI = smoothstep(0.9*tex[1], tex[1], csI);\n    gl_FragColor = gl_FragColor + vec4(csR + .06*csI, csR + .1*csI, .7*csR + .5*csI, 1.0);\n}",
       "layout": "IPY_MODEL_0fc0be2638904e0498fd46b720a471cc",
       "pos": [],
       "surf": [],
       "surface_view": true,
       "tabbable": null,
       "tooltip": null
      }
     },
     "8e37115892e54fb591beb435a9d72ea5": {
      "model_module": "evince",
      "model_module_version": "^0.36.0",
      "model_name": "BraketModel",
      "state": {
       "_model_module_version": "^0.36.0",
       "_view_module_version": "^0.36.0",
       "additive": false,
       "ao": [
        1
       ],
       "bg_color": [
        1,
        1,
        1
       ],
       "fragment_shader": "uniform vec3 user_color;\nuniform float time;\n\nvarying vec2 vUv;\nvarying vec3 pos;\nvarying vec3 tex;\nvarying float q;\nvarying float csI;\nvarying float csR;\nvarying float cs0;\nvarying float cs1;\nvarying float cs;\n\nvoid main() {\n\n    vec2 p = vUv;\n    float q = tex[0]*tex[0] ;\n    float cs0 = 1.0622519320271968*tex[0]*exp(-1.0/2.0*q);\n    float cs1 = (1.0622519320271968*q - 0.53112596601359841)*exp(-1.0/2.0*q);\n    float csI = -1.0*cs0*sin(1.500000*time) + -1.0*cs1*sin(2.500000*time) ;\n    float csR = cs0*cos(1.500000*time) + cs1*cos(2.500000*time) ;\n    csR = smoothstep(0.9*tex[1], tex[1], csR);\n    csI = smoothstep(0.9*tex[1], tex[1], csI);\n    gl_FragColor = gl_FragColor + vec4(csR + .06*csI, csR + .1*csI, .7*csR + .5*csI, 1.0);\n}",
       "layout": "IPY_MODEL_7ea938ab94554afd846a07001af71f8f",
       "pos": [],
       "surf": [],
       "surface_view": true,
       "tabbable": null,
       "tooltip": null
      }
     },
     "974ce469081a4dc788668518ab28f302": {
      "model_module": "evince",
      "model_module_version": "^0.31.0",
      "model_name": "BraketModel",
      "state": {
       "_model_module_version": "^0.31.0",
       "_view_module_version": "^0.31.0",
       "additive": true,
       "ao": [
        1
       ],
       "bg_color": [
        0,
        0,
        0
       ],
       "fragment_shader": "uniform vec3 user_color;\nuniform float time;\n\nvarying vec2 vUv;\nvarying vec3 pos;\nvarying vec3 tex;\nvarying float q;\nvarying float csI;\nvarying float csR;\nvarying float cs0;\nvarying float cs;\n\nvoid main() {\n\n    vec2 p = vUv;\n    float q = tex[0]*tex[0] +tex[1]*tex[1] ;\n    float cs0 = 0.28209479177387808*tex[0]*(4.0*pow(tex[1], 2.0) - 2.0)*exp(-1.0/2.0*pow(tex[0], 2.0) - 1.0/2.0*pow(tex[1], 2.0));\n    float csI = 0.0 ;\n    float csR = cs0 ;\n    gl_FragColor = gl_FragColor + vec4(csR, csI, -1.0*csR, 1);\n}",
       "layout": "IPY_MODEL_2ec750b4db96401999f4a223200834bc",
       "pos": [],
       "surf": [],
       "surface_view": true,
       "tabbable": null,
       "tooltip": null
      }
     },
     "9d3f67414eaa407e93e66ea591d6dc6d": {
      "model_module": "evince",
      "model_module_version": "^0.36.0",
      "model_name": "BraketModel",
      "state": {
       "_model_module_version": "^0.36.0",
       "_view_module_version": "^0.36.0",
       "additive": false,
       "ao": [
        1
       ],
       "bg_color": [
        1,
        1,
        1
       ],
       "fragment_shader": "uniform vec3 user_color;\nuniform float time;\n\nvarying vec2 vUv;\nvarying vec3 pos;\nvarying vec3 tex;\nvarying float q;\nvarying float csI;\nvarying float csR;\nvarying float cs0;\nvarying float cs;\n\nvoid main() {\n\n    vec2 p = vUv;\n    float q = tex[0]*tex[0] ;\n    float cs0 = 2.1245038640543936*tex[0]*exp(-1.0/2.0*q);\n    float csI = 0.0 ;\n    float csR = cs0 ;\n    csR = smoothstep(0.9*tex[1], tex[1], csR);\n    csI = smoothstep(0.9*tex[1], tex[1], csI);\n    gl_FragColor = gl_FragColor + vec4(csR + .06*csI, csR + .1*csI, .7*csR + .5*csI, 1.0);\n}",
       "layout": "IPY_MODEL_d869ae4615b2465d93cf784a8b56abfe",
       "pos": [],
       "surf": [],
       "surface_view": true,
       "tabbable": null,
       "tooltip": null
      }
     },
     "9dc66927d0d34cf0a4020da9c3026b8c": {
      "model_module": "@jupyter-widgets/base",
      "model_module_version": "2.0.0",
      "model_name": "LayoutModel",
      "state": {
       "_model_module_version": "2.0.0",
       "_view_module_version": "2.0.0",
       "border_bottom": null,
       "border_left": null,
       "border_right": null,
       "border_top": null
      }
     },
     "9e197bd2c76647ac97cae30fed474f02": {
      "model_module": "evince",
      "model_module_version": "^0.30.0",
      "model_name": "BraketModel",
      "state": {
       "_model_module_version": "^0.30.0",
       "_view_module_version": "^0.30.0",
       "additive": false,
       "ao": [
        1
       ],
       "bg_color": [
        1,
        1,
        1
       ],
       "fragment_shader": "uniform vec3 user_color;\nuniform float time;\n\nvarying vec2 vUv;\nvarying vec3 pos;\nvarying vec3 tex;\nvarying float q;\nvarying float csI;\nvarying float csR;\nvarying float cs0;\nvarying float cs;\n\nvoid main() {\n\n    vec2 p = vUv;\n    float q =;\n    float cs0 = q;\n    float csI = -1.0*cs0*sin(1.500000*time) ;\n    float csR = cs0*cos(1.500000*time) ;\n",
       "layout": "IPY_MODEL_737e5e55fac64fa1a32ace79005788f8",
       "pos": [],
       "surf": [],
       "surface_view": true,
       "tabbable": null,
       "tooltip": null
      }
     },
     "a5b2d720e0ef45cca3a4c1e0794cef14": {
      "model_module": "@jupyter-widgets/base",
      "model_module_version": "2.0.0",
      "model_name": "LayoutModel",
      "state": {
       "_model_module_version": "2.0.0",
       "_view_module_version": "2.0.0",
       "border_bottom": null,
       "border_left": null,
       "border_right": null,
       "border_top": null
      }
     },
     "acb97fe530574374820ae5c2686f739c": {
      "model_module": "evince",
      "model_module_version": "^0.30.0",
      "model_name": "BraketModel",
      "state": {
       "_model_module_version": "^0.30.0",
       "_view_module_version": "^0.30.0",
       "additive": false,
       "ao": [
        1
       ],
       "bg_color": [
        1,
        1,
        1
       ],
       "fragment_shader": "uniform vec3 user_color;\nuniform float time;\n\nvarying vec2 vUv;\nvarying vec3 pos;\nvarying vec3 tex;\nvarying float q;\nvarying float csI;\nvarying float csR;\nvarying float cs0;\nvarying float cs;\n\nvoid main() {\n\n    vec2 p = vUv;\n    float q = tex[0]*tex[0] ;\n    float cs0 = 1.0622519320271941*tex[0]*exp(-1.0/2.0*q);\n    float csI = -1.0*cs0*sin(1.500000*time) ;\n    float csR = cs0*cos(1.500000*time) ;\n    csR = smoothstep(0.9*tex[1], tex[1], csR);\n    csI = smoothstep(0.9*tex[1], tex[1], csI);\n    gl_FragColor = gl_FragColor + vec4(csR + .06*csI, csR + .1*csI, .7*csR + .5*csI, 1.0);\n}",
       "layout": "IPY_MODEL_80b90318d57c41bbb758f9d001232691",
       "pos": [],
       "surf": [],
       "surface_view": true,
       "tabbable": null,
       "tooltip": null
      }
     },
     "aeab271e833e40d09c77136fc53df51c": {
      "model_module": "@jupyter-widgets/base",
      "model_module_version": "2.0.0",
      "model_name": "LayoutModel",
      "state": {
       "_model_module_version": "2.0.0",
       "_view_module_version": "2.0.0",
       "border_bottom": null,
       "border_left": null,
       "border_right": null,
       "border_top": null
      }
     },
     "baa1a54a9089416badfb864cd5f50f6d": {
      "model_module": "evince",
      "model_module_version": "^0.31.0",
      "model_name": "BraketModel",
      "state": {
       "_model_module_version": "^0.31.0",
       "_view_module_version": "^0.31.0",
       "additive": false,
       "ao": [
        1
       ],
       "bg_color": [
        1,
        1,
        1
       ],
       "fragment_shader": "uniform vec3 user_color;\nuniform float time;\n\nvarying vec2 vUv;\nvarying vec3 pos;\nvarying vec3 tex;\nvarying float q;\nvarying float csI;\nvarying float csR;\nvarying float cs0;\nvarying float cs1;\nvarying float cs;\n\nvoid main() {\n\n    vec2 p = vUv;\n    float q = tex[0]*tex[0] ;\n    float cs0 = 1.0622519320271968*tex[0]*exp(-1.0/2.0*q);\n    float cs1 = (1.0622519320271968*q - 0.53112596601359841)*exp(-1.0/2.0*q);\n    float csI = -1.0*cs0*sin(1.500000*time) + -1.0*cs1*sin(2.500000*time) ;\n    float csR = cs0*cos(1.500000*time) + cs1*cos(2.500000*time) ;\n    csR = smoothstep(0.9*tex[1], tex[1], csR);\n    csI = smoothstep(0.9*tex[1], tex[1], csI);\n    gl_FragColor = gl_FragColor + vec4(csR + .06*csI, csR + .1*csI, .7*csR + .5*csI, 1.0);\n}",
       "layout": "IPY_MODEL_6fb21e5997934e76bc5a34a236e8b895",
       "pos": [],
       "surf": [],
       "surface_view": true,
       "tabbable": null,
       "tooltip": null
      }
     },
     "bcf9d53586e443bea92aca2f249dd0e1": {
      "model_module": "@jupyter-widgets/base",
      "model_module_version": "2.0.0",
      "model_name": "LayoutModel",
      "state": {
       "_model_module_version": "2.0.0",
       "_view_module_version": "2.0.0",
       "border_bottom": null,
       "border_left": null,
       "border_right": null,
       "border_top": null
      }
     },
     "bf0f351d80ee40d1983b9d166299e524": {
      "model_module": "evince",
      "model_module_version": "^0.31.0",
      "model_name": "BraketModel",
      "state": {
       "_model_module_version": "^0.31.0",
       "_view_module_version": "^0.31.0",
       "additive": false,
       "ao": [
        1
       ],
       "bg_color": [
        1,
        1,
        1
       ],
       "fragment_shader": "uniform vec3 user_color;\nuniform float time;\n\nvarying vec2 vUv;\nvarying vec3 pos;\nvarying vec3 tex;\nvarying float q;\nvarying float csI;\nvarying float csR;\nvarying float cs0;\nvarying float cs;\n\nvoid main() {\n\n    vec2 p = vUv;\n    float q = tex[0]*tex[0] ;\n    float cs0 = 0.28209479177387808*tex[0]*(4.0*q - 2.0)*exp(-q);\n    float csI = -1.0*cs0*sin(3.750000*time) ;\n    float csR = cs0*cos(3.750000*time) ;\n    csR = smoothstep(0.9*tex[1], tex[1], csR);\n    csI = smoothstep(0.9*tex[1], tex[1], csI);\n    gl_FragColor = gl_FragColor + vec4(csR + .06*csI, csR + .1*csI, .7*csR + .5*csI, 1.0);\n}",
       "layout": "IPY_MODEL_340ef910d8ed427eb4290eafe225fd31",
       "pos": [],
       "surf": [],
       "surface_view": true,
       "tabbable": null,
       "tooltip": null
      }
     },
     "c6d84a5069434bafb44ae41cfdaa8977": {
      "model_module": "@jupyter-widgets/base",
      "model_module_version": "2.0.0",
      "model_name": "LayoutModel",
      "state": {
       "_model_module_version": "2.0.0",
       "_view_module_version": "2.0.0",
       "border_bottom": null,
       "border_left": null,
       "border_right": null,
       "border_top": null
      }
     },
     "d3b453e6ac8d48549171f79d3107a6f5": {
      "model_module": "@jupyter-widgets/base",
      "model_module_version": "2.0.0",
      "model_name": "LayoutModel",
      "state": {
       "_model_module_version": "2.0.0",
       "_view_module_version": "2.0.0",
       "border_bottom": null,
       "border_left": null,
       "border_right": null,
       "border_top": null
      }
     },
     "d5841e266ae34305b801d78fe903394a": {
      "model_module": "@jupyter-widgets/base",
      "model_module_version": "2.0.0",
      "model_name": "LayoutModel",
      "state": {
       "_model_module_version": "2.0.0",
       "_view_module_version": "2.0.0",
       "border_bottom": null,
       "border_left": null,
       "border_right": null,
       "border_top": null
      }
     },
     "d869ae4615b2465d93cf784a8b56abfe": {
      "model_module": "@jupyter-widgets/base",
      "model_module_version": "2.0.0",
      "model_name": "LayoutModel",
      "state": {
       "_model_module_version": "2.0.0",
       "_view_module_version": "2.0.0",
       "border_bottom": null,
       "border_left": null,
       "border_right": null,
       "border_top": null
      }
     },
     "d8eaea4b422c4c19845099509ae32cdf": {
      "model_module": "evince",
      "model_module_version": "^0.31.0",
      "model_name": "BraketModel",
      "state": {
       "_model_module_version": "^0.31.0",
       "_view_module_version": "^0.31.0",
       "additive": false,
       "ao": [
        1
       ],
       "bg_color": [
        1,
        1,
        1
       ],
       "fragment_shader": "uniform vec3 user_color;\nuniform float time;\n\nvarying vec2 vUv;\nvarying vec3 pos;\nvarying vec3 tex;\nvarying float q;\nvarying float csI;\nvarying float csR;\nvarying float cs0;\nvarying float cs;\n\nvoid main() {\n\n    vec2 p = vUv;\n    float q = tex[0]*tex[0] ;\n    float cs0 = 2.1245038640543936*tex[0]*exp(-1.0/2.0*q);\n    float csI = 0.0 ;\n    float csR = cs0 ;\n    csR = smoothstep(0.9*tex[1], tex[1], csR);\n    csI = smoothstep(0.9*tex[1], tex[1], csI);\n    gl_FragColor = gl_FragColor + vec4(csR + .06*csI, csR + .1*csI, .7*csR + .5*csI, 1.0);\n}",
       "layout": "IPY_MODEL_1cd2dd4b96c34e22863c03b1a8c6e99f",
       "pos": [],
       "surf": [],
       "surface_view": true,
       "tabbable": null,
       "tooltip": null
      }
     },
     "d9878b72eb7a499ea971df4978ef0765": {
      "model_module": "@jupyter-widgets/base",
      "model_module_version": "2.0.0",
      "model_name": "LayoutModel",
      "state": {
       "_model_module_version": "2.0.0",
       "_view_module_version": "2.0.0",
       "border_bottom": null,
       "border_left": null,
       "border_right": null,
       "border_top": null
      }
     },
     "dae9d20971504006a744d1dcf2d401e8": {
      "model_module": "evince",
      "model_module_version": "^0.31.0",
      "model_name": "BraketModel",
      "state": {
       "_model_module_version": "^0.31.0",
       "_view_module_version": "^0.31.0",
       "additive": false,
       "ao": [
        1
       ],
       "bg_color": [
        1,
        1,
        1
       ],
       "fragment_shader": "uniform vec3 user_color;\nuniform float time;\n\nvarying vec2 vUv;\nvarying vec3 pos;\nvarying vec3 tex;\nvarying float q;\nvarying float csI;\nvarying float csR;\nvarying float cs0;\nvarying float cs;\n\nvoid main() {\n\n    vec2 p = vUv;\n    float q = tex[0]*tex[0] ;\n    float cs0 = 0.28209479177387808*tex[0]*(4.0*q - 2.0)*exp(-q);\n    float csI = -1.0*cs0*sin(3.750000*time) ;\n    float csR = cs0*cos(3.750000*time) ;\n    csR = smoothstep(0.9*tex[1], tex[1], csR);\n    csI = smoothstep(0.9*tex[1], tex[1], csI);\n    gl_FragColor = gl_FragColor + vec4(csR + .06*csI, csR + .1*csI, .7*csR + .5*csI, 1.0);\n}",
       "layout": "IPY_MODEL_c6d84a5069434bafb44ae41cfdaa8977",
       "pos": [],
       "surf": [],
       "surface_view": true,
       "tabbable": null,
       "tooltip": null
      }
     },
     "e23b994768a847f6a6d3a2f44632e0ed": {
      "model_module": "evince",
      "model_module_version": "^0.36.0",
      "model_name": "BraketModel",
      "state": {
       "_model_module_version": "^0.36.0",
       "_view_module_version": "^0.36.0",
       "additive": false,
       "ao": [
        1
       ],
       "bg_color": [
        1,
        1,
        1
       ],
       "fragment_shader": "uniform vec3 user_color;\nuniform float time;\n\nvarying vec2 vUv;\nvarying vec3 pos;\nvarying vec3 tex;\nvarying float q;\nvarying float csI;\nvarying float csR;\nvarying float cs0;\nvarying float cs;\n\nvoid main() {\n\n    vec2 p = vUv;\n    float q = tex[0]*tex[0] ;\n    float cs0 = 1.0622519320271941*tex[0]*exp(-1.0/2.0*q);\n    float csI = -1.0*cs0*sin(1.500000*time) ;\n    float csR = cs0*cos(1.500000*time) ;\n    csR = smoothstep(0.9*tex[1], tex[1], csR);\n    csI = smoothstep(0.9*tex[1], tex[1], csI);\n    gl_FragColor = gl_FragColor + vec4(csR + .06*csI, csR + .1*csI, .7*csR + .5*csI, 1.0);\n}",
       "layout": "IPY_MODEL_6ac2d13e7f0d4a4f951af3168bea3477",
       "pos": [],
       "surf": [],
       "surface_view": true,
       "tabbable": null,
       "tooltip": null
      }
     },
     "e4ef03f213b44b81849f64ad0451c1e8": {
      "model_module": "@jupyter-widgets/base",
      "model_module_version": "2.0.0",
      "model_name": "LayoutModel",
      "state": {
       "_model_module_version": "2.0.0",
       "_view_module_version": "2.0.0",
       "border_bottom": null,
       "border_left": null,
       "border_right": null,
       "border_top": null
      }
     },
     "e4f3a9a9e9c14c48ae124d0ccd10c858": {
      "model_module": "evince",
      "model_module_version": "^0.30.0",
      "model_name": "BraketModel",
      "state": {
       "_model_module_version": "^0.30.0",
       "_view_module_version": "^0.30.0",
       "additive": false,
       "ao": [
        1
       ],
       "bg_color": [
        1,
        1,
        1
       ],
       "fragment_shader": "uniform vec3 user_color;\nuniform float time;\n\nvarying vec2 vUv;\nvarying vec3 pos;\nvarying vec3 tex;\nvarying float q;\nvarying float csI;\nvarying float csR;\nvarying float cs0;\nvarying float cs1;\nvarying float cs;\n\nvoid main() {\n\n    vec2 p = vUv;\n    float q = tex[0]*tex[0] ;\n    float cs0 = 1.0622519320271968*tex[0]*exp(-1.0/2.0*q);\n    float cs1 = (1.0622519320271968*q - 0.53112596601359841)*exp(-1.0/2.0*q);\n    float csI = -1.0*cs0*sin(1.500000*time) + -1.0*cs1*sin(2.500000*time) ;\n    float csR = cs0*cos(1.500000*time) + cs1*cos(2.500000*time) ;\n    csR = smoothstep(0.9*tex[1], tex[1], csR);\n    csI = smoothstep(0.9*tex[1], tex[1], csI);\n    gl_FragColor = gl_FragColor + vec4(csR + .06*csI, csR + .1*csI, .7*csR + .5*csI, 1.0);\n}",
       "layout": "IPY_MODEL_3519586744a64c1e9c6c5064b7545c86",
       "pos": [],
       "surf": [],
       "surface_view": true,
       "tabbable": null,
       "tooltip": null
      }
     },
     "e71f9c0c9b474fc58e5be76a58bdbc70": {
      "model_module": "evince",
      "model_module_version": "^0.31.0",
      "model_name": "BraketModel",
      "state": {
       "_model_module_version": "^0.31.0",
       "_view_module_version": "^0.31.0",
       "additive": false,
       "ao": [
        1
       ],
       "bg_color": [
        1,
        1,
        1
       ],
       "fragment_shader": "uniform vec3 user_color;\nuniform float time;\n\nvarying vec2 vUv;\nvarying vec3 pos;\nvarying vec3 tex;\nvarying float q;\nvarying float csI;\nvarying float csR;\nvarying float cs0;\nvarying float cs;\n\nvoid main() {\n\n    vec2 p = vUv;\n    float q =;\n    float cs0 = q;\n    float csI = -1.0*cs0*sin(1.500000*time) ;\n    float csR = cs0*cos(1.500000*time) ;\n",
       "layout": "IPY_MODEL_bcf9d53586e443bea92aca2f249dd0e1",
       "pos": [],
       "surf": [],
       "surface_view": true,
       "tabbable": null,
       "tooltip": null
      }
     },
     "ebb681f0a0a74e87b2f4917011d16da7": {
      "model_module": "@jupyter-widgets/base",
      "model_module_version": "2.0.0",
      "model_name": "LayoutModel",
      "state": {
       "_model_module_version": "2.0.0",
       "_view_module_version": "2.0.0",
       "border_bottom": null,
       "border_left": null,
       "border_right": null,
       "border_top": null
      }
     },
     "f01e143824e345ba9a15332a6bd5fcc1": {
      "model_module": "evince",
      "model_module_version": "^0.31.0",
      "model_name": "BraketModel",
      "state": {
       "_model_module_version": "^0.31.0",
       "_view_module_version": "^0.31.0",
       "additive": false,
       "ao": [
        1
       ],
       "bg_color": [
        1,
        1,
        1
       ],
       "fragment_shader": "uniform vec3 user_color;\nuniform float time;\n\nvarying vec2 vUv;\nvarying vec3 pos;\nvarying vec3 tex;\nvarying float q;\nvarying float csI;\nvarying float csR;\nvarying float cs0;\nvarying float cs1;\nvarying float cs;\n\nvoid main() {\n\n    vec2 p = vUv;\n    float q = tex[0]*tex[0] ;\n    float cs0 = 1.0622519320271968*tex[0]*exp(-1.0/2.0*q);\n    float cs1 = (0.53112596601359841 - 1.0622519320271968*q)*exp(-1.0/2.0*q);\n    float csI = -1.0*cs0*sin(1.500000*time) + -1.0*cs1*sin(2.500000*time) ;\n    float csR = cs0*cos(1.500000*time) + cs1*cos(2.500000*time) ;\n    csR = smoothstep(0.9*tex[1], tex[1], csR);\n    csI = smoothstep(0.9*tex[1], tex[1], csI);\n    gl_FragColor = gl_FragColor + vec4(csR + .06*csI, csR + .1*csI, .7*csR + .5*csI, 1.0);\n}",
       "layout": "IPY_MODEL_ebb681f0a0a74e87b2f4917011d16da7",
       "pos": [],
       "surf": [],
       "surface_view": true,
       "tabbable": null,
       "tooltip": null
      }
     },
     "f1b796c8acd14f919f0e1f4147b6f351": {
      "model_module": "@jupyter-widgets/base",
      "model_module_version": "2.0.0",
      "model_name": "LayoutModel",
      "state": {
       "_model_module_version": "2.0.0",
       "_view_module_version": "2.0.0",
       "border_bottom": null,
       "border_left": null,
       "border_right": null,
       "border_top": null
      }
     },
     "f5cec2e78d6d410fbb72b0cb48f4d766": {
      "model_module": "@jupyter-widgets/base",
      "model_module_version": "2.0.0",
      "model_name": "LayoutModel",
      "state": {
       "_model_module_version": "2.0.0",
       "_view_module_version": "2.0.0",
       "border_bottom": null,
       "border_left": null,
       "border_right": null,
       "border_top": null
      }
     },
     "fa56b156dc9a4c34964882e494df22bc": {
      "model_module": "evince",
      "model_module_version": "^0.30.0",
      "model_name": "BraketModel",
      "state": {
       "_model_module_version": "^0.30.0",
       "_view_module_version": "^0.30.0",
       "additive": false,
       "ao": [
        1
       ],
       "bg_color": [
        1,
        1,
        1
       ],
       "fragment_shader": "uniform vec3 user_color;\nuniform float time;\n\nvarying vec2 vUv;\nvarying vec3 pos;\nvarying vec3 tex;\nvarying float q;\nvarying float csI;\nvarying float csR;\nvarying float cs0;\nvarying float cs;\n\nvoid main() {\n\n    vec2 p = vUv;\n    float q = tex[0]*tex[0] ;\n    float cs0 = 0.28209479177387808*tex[0]*(4.0*q - 2.0)*exp(-q);\n    float csI = -1.0*cs0*sin(3.750000*time) ;\n    float csR = cs0*cos(3.750000*time) ;\n    csR = smoothstep(0.9*tex[1], tex[1], csR);\n    csI = smoothstep(0.9*tex[1], tex[1], csI);\n    gl_FragColor = gl_FragColor + vec4(csR + .06*csI, csR + .1*csI, .7*csR + .5*csI, 1.0);\n}",
       "layout": "IPY_MODEL_73db13a420d4475d9273e1ac988dbbb3",
       "pos": [],
       "surf": [],
       "surface_view": true,
       "tabbable": null,
       "tooltip": null
      }
     },
     "fc79774a5e41432abc74c0229dd1b08d": {
      "model_module": "evince",
      "model_module_version": "^0.31.0",
      "model_name": "BraketModel",
      "state": {
       "_model_module_version": "^0.31.0",
       "_view_module_version": "^0.31.0",
       "additive": false,
       "ao": [
        1
       ],
       "bg_color": [
        1,
        1,
        1
       ],
       "fragment_shader": "uniform vec3 user_color;\nuniform float time;\n\nvarying vec2 vUv;\nvarying vec3 pos;\nvarying vec3 tex;\nvarying float q;\nvarying float csI;\nvarying float csR;\nvarying float cs0;\nvarying float cs;\n\nvoid main() {\n\n    vec2 p = vUv;\n    float q = tex[0]*tex[0] ;\n    float cs0 = 1.0622519320271941*tex[0]*exp(-1.0/2.0*q);\n    float csI = -1.0*cs0*sin(1.500000*time) ;\n    float csR = cs0*cos(1.500000*time) ;\n    csR = smoothstep(0.9*tex[1], tex[1], csR);\n    csI = smoothstep(0.9*tex[1], tex[1], csI);\n    gl_FragColor = gl_FragColor + vec4(csR + .06*csI, csR + .1*csI, .7*csR + .5*csI, 1.0);\n}",
       "layout": "IPY_MODEL_a5b2d720e0ef45cca3a4c1e0794cef14",
       "pos": [],
       "surf": [],
       "surface_view": true,
       "tabbable": null,
       "tooltip": null
      }
     }
    },
    "version_major": 2,
    "version_minor": 0
   }
  }
 },
 "nbformat": 4,
 "nbformat_minor": 5
}
