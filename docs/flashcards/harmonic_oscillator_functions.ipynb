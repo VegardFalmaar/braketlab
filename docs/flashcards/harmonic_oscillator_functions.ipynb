{
 "cells": [
  {
   "cell_type": "code",
   "execution_count": null,
   "id": "3b28f693",
   "metadata": {},
   "outputs": [],
   "source": [
    "!pip3 install braketlab #automatically install evince (for standalone: pip install evince)"
   ]
  },
  {
   "cell_type": "markdown",
   "id": "44d7d2e5",
   "metadata": {},
   "source": [
    "<script src=\"https://cdnjs.cloudflare.com/ajax/libs/require.js/2.3.4/require.min.js\" integrity=\"sha256-Ae2Vz/4ePdIu6ZyI/5ZGsYnb+m0JlOmKPjt6XZ9JJkA=\" crossorigin=\"anonymous\"></script>"
   ]
  },
  {
   "cell_type": "code",
   "execution_count": 1,
   "id": "eb7fab92",
   "metadata": {},
   "outputs": [],
   "source": [
    "import braketlab as bk"
   ]
  },
  {
   "cell_type": "code",
   "execution_count": 2,
   "id": "5bea975c",
   "metadata": {},
   "outputs": [
    {
     "data": {
      "application/vnd.jupyter.widget-view+json": {
       "model_id": "3288934b0ec54fe49901489aa0611e6d",
       "version_major": 2,
       "version_minor": 0
      },
      "text/plain": [
       "BraketView(additive=False, ao=[1], bg_color=[1.0, 1.0, 1.0], fragment_shader='uniform vec3 user_color;\\nunifor…"
      ]
     },
     "execution_count": 2,
     "metadata": {},
     "output_type": "execute_result"
    }
   ],
   "source": [
    "p4 = bk.basisbank.get_harmonic_oscillator_function(4)\n",
    "p6 = bk.basisbank.get_harmonic_oscillator_function(6)\n",
    "p8 = bk.basisbank.get_harmonic_oscillator_function(8)\n",
    "p10 = bk.basisbank.get_harmonic_oscillator_function(10)\n",
    "p12 = bk.basisbank.get_harmonic_oscillator_function(12)\n",
    "\n",
    "(p4*.5 + p6*.6 + p8*.7 + p10*.8 + p12*.9).view(web = True)"
   ]
  },
  {
   "cell_type": "code",
   "execution_count": null,
   "id": "2ce41ecb",
   "metadata": {},
   "outputs": [],
   "source": []
  }
 ],
 "metadata": {
  "kernelspec": {
   "display_name": "Python 3 (ipykernel)",
   "language": "python",
   "name": "python3"
  },
  "language_info": {
   "codemirror_mode": {
    "name": "ipython",
    "version": 3
   },
   "file_extension": ".py",
   "mimetype": "text/x-python",
   "name": "python",
   "nbconvert_exporter": "python",
   "pygments_lexer": "ipython3",
   "version": "3.10.6"
  },
  "widgets": {
   "application/vnd.jupyter.widget-state+json": {
    "state": {
     "3288934b0ec54fe49901489aa0611e6d": {
      "model_module": "evince",
      "model_module_version": "^0.33.0",
      "model_name": "BraketModel",
      "state": {
       "_model_module_version": "^0.33.0",
       "_view_module_version": "^0.33.0",
       "additive": false,
       "ao": [
        1
       ],
       "bg_color": [
        1,
        1,
        1
       ],
       "fragment_shader": "uniform vec3 user_color;\nuniform float time;\n\nvarying vec2 vUv;\nvarying vec3 pos;\nvarying vec3 tex;\nvarying float q;\nvarying float csI;\nvarying float csR;\nvarying float cs0;\nvarying float cs1;\nvarying float cs2;\nvarying float cs3;\nvarying float cs4;\nvarying float cs;\n\nvoid main() {\n\n    vec2 p = vUv;\n    float q = tex[0]*tex[0] ;\n    float cs0 = (-0.91993715835465351*q + 0.30664571945155117*pow(q, 2.0) + 0.22998428958866338)*exp(-1.0/2.0*q);\n    float cs1 = (1.5116109993541373*q - 1.0077406662360915*pow(q, 2.0) + 0.1343654221648122*pow(q, 3.0) - 0.25193516655902287)*exp(-1.0/2.0*q);\n    float cs2 = (-2.1995285128686124*q + 2.1995285128686124*pow(q, 2.0) - 0.58654093676496333*pow(q, 3.0) + 0.04189578119749738*pow(q, 4.0) + 0.27494106410857655)*exp(-1.0/2.0*q);\n    float cs3 = (2.980937091063339*q - 3.9745827880844522*pow(q, 2.0) + 1.5898331152337808*pow(q, 3.0) - 0.22711901646196869*pow(q, 4.0) + 0.010094178509420831*pow(q, 5.0) - 0.29809370910633393)*exp(-1.0/2.0*q);\n    float cs4 = (-3.852940469625493*q + 6.4215674493758215*pow(q, 2.0) - 3.4248359730004378*pow(q, 3.0) + 0.73389342278580816*pow(q, 4.0) - 0.06523497091429406*pow(q, 5.0) + 0.0019768173004331533*pow(q, 6.0) + 0.32107837246879106)*exp(-1.0/2.0*q);\n    float csI = -1.0*cs0*sin(4.500000*time) + -1.0*cs1*sin(6.500000*time) + -1.0*cs2*sin(8.500000*time) + -1.0*cs3*sin(10.500000*time) + -1.0*cs4*sin(12.500000*time) ;\n    float csR = cs0*cos(4.500000*time) + cs1*cos(6.500000*time) + cs2*cos(8.500000*time) + cs3*cos(10.500000*time) + cs4*cos(12.500000*time) ;\n    csR = smoothstep(0.9*tex[1], tex[1], csR);\n    csI = smoothstep(0.9*tex[1], tex[1], csI);\n    gl_FragColor = gl_FragColor + vec4(csR + .06*csI, csR + .1*csI, .7*csR + .5*csI, 1.0);\n}",
       "layout": "IPY_MODEL_9d464eff6297493cb005df5ecc6483e5",
       "pos": [],
       "surf": [],
       "surface_view": true,
       "tabbable": null,
       "tooltip": null
      }
     },
     "9d464eff6297493cb005df5ecc6483e5": {
      "model_module": "@jupyter-widgets/base",
      "model_module_version": "2.0.0",
      "model_name": "LayoutModel",
      "state": {
       "_model_module_version": "2.0.0",
       "_view_module_version": "2.0.0",
       "border_bottom": null,
       "border_left": null,
       "border_right": null,
       "border_top": null
      }
     }
    },
    "version_major": 2,
    "version_minor": 0
   }
  }
 },
 "nbformat": 4,
 "nbformat_minor": 5
}
