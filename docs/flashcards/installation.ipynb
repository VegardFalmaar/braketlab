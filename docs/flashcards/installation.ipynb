{
 "cells": [
  {
   "cell_type": "markdown",
   "id": "a33345bc",
   "metadata": {},
   "source": [
    "# Installing BraketLab\n",
    "\n",
    "---"
   ]
  },
  {
   "cell_type": "markdown",
   "id": "d722a2b7",
   "metadata": {},
   "source": [
    "BraketLab is available through Python Package Index (PyPI), and is most easily installed by invoking ```pip install braketlab``` from your terminal.\n",
    "\n",
    "Note that it is also possible to install directly in the Jupyter Notebook environment using ```!pip install braketlab``` from a cell.\n",
    "\n"
   ]
  }
 ],
 "metadata": {
  "kernelspec": {
   "display_name": "Python 3 (ipykernel)",
   "language": "python",
   "name": "python3"
  },
  "language_info": {
   "codemirror_mode": {
    "name": "ipython",
    "version": 3
   },
   "file_extension": ".py",
   "mimetype": "text/x-python",
   "name": "python",
   "nbconvert_exporter": "python",
   "pygments_lexer": "ipython3",
   "version": "3.8.9"
  }
 },
 "nbformat": 4,
 "nbformat_minor": 5
}
