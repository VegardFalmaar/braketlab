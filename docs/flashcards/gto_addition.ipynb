{
 "cells": [
  {
   "cell_type": "code",
   "execution_count": 1,
   "id": "dfd392d1",
   "metadata": {},
   "outputs": [],
   "source": [
    "import braketlab as bk\n",
    "import numpy as np"
   ]
  },
  {
   "cell_type": "code",
   "execution_count": 2,
   "id": "c0adfa32",
   "metadata": {},
   "outputs": [
    {
     "data": {
      "text/latex": [
       "$\\displaystyle 9.58898360245158 x_{0; 0} x_{0; 2} e^{- \\left(x_{0; 0}^{2.0} + x_{0; 1}^{2.0} + x_{0; 2}^{2.0}\\right) 2.0} + 3.39021766499006 x_{0; 0} e^{- \\left(x_{0; 0}^{2.0} + x_{0; 1}^{2.0} + x_{0; 2}^{2.0}\\right) 2.0} + 9.58898360245158 x_{0; 1} x_{0; 2} e^{- \\left(x_{0; 0}^{2.0} + x_{0; 1}^{2.0} + x_{0; 2}^{2.0}\\right) 2.0} + 8.57664766808502 x_{0; 1} \\cdot \\left(5.0 x_{0; 2}^{2.0} - \\left(x_{0; 0}^{2.0} + x_{0; 1}^{2.0} + x_{0; 2}^{2.0}\\right)^{1.0}\\right) e^{- \\left(x_{0; 0}^{2.0} + x_{0; 1}^{2.0} + x_{0; 2}^{2.0}\\right) 2.0} + 6.78043532998012 x_{0; 1} e^{- \\left(x_{0; 0}^{2.0} + x_{0; 1}^{2.0} + x_{0; 2}^{2.0}\\right) 2.0} + 5.53620226413033 \\cdot \\left(0.866025403784439 x_{0; 0}^{2.0} - 0.866025403784439 x_{0; 1}^{2.0}\\right) e^{- \\left(x_{0; 0}^{2.0} + x_{0; 1}^{2.0} + x_{0; 2}^{2.0}\\right) 2.0} + 4.18497554246902 \\left(x_{0; 0}^{2.0} - x_{0; 1}^{2.0}\\right) \\left(7.0 x_{0; 2}^{2.0} - \\left(x_{0; 0}^{2.0} + x_{0; 1}^{2.0} + x_{0; 2}^{2.0}\\right)^{1.0}\\right) e^{- \\left(x_{0; 0}^{2.0} + x_{0; 1}^{2.0} + x_{0; 2}^{2.0}\\right) 2.0} + 2.3972459006129 e^{- \\left(x_{0; 0}^{2.0} + x_{0; 1}^{2.0} + x_{0; 2}^{2.0}\\right) 2.0}$"
      ],
      "text/plain": [
       "9.58898360245158*x_{0; 0}*x_{0; 2}*exp(-(x_{0; 0}**2.0 + x_{0; 1}**2.0 + x_{0; 2}**2.0)*2.0) + 3.39021766499006*x_{0; 0}*exp(-(x_{0; 0}**2.0 + x_{0; 1}**2.0 + x_{0; 2}**2.0)*2.0) + 9.58898360245158*x_{0; 1}*x_{0; 2}*exp(-(x_{0; 0}**2.0 + x_{0; 1}**2.0 + x_{0; 2}**2.0)*2.0) + 8.57664766808502*x_{0; 1}*(5.0*x_{0; 2}**2.0 - (x_{0; 0}**2.0 + x_{0; 1}**2.0 + x_{0; 2}**2.0)**1.0)*exp(-(x_{0; 0}**2.0 + x_{0; 1}**2.0 + x_{0; 2}**2.0)*2.0) + 6.78043532998012*x_{0; 1}*exp(-(x_{0; 0}**2.0 + x_{0; 1}**2.0 + x_{0; 2}**2.0)*2.0) + 5.53620226413033*(0.866025403784439*x_{0; 0}**2.0 - 0.866025403784439*x_{0; 1}**2.0)*exp(-(x_{0; 0}**2.0 + x_{0; 1}**2.0 + x_{0; 2}**2.0)*2.0) + 4.18497554246902*(x_{0; 0}**2.0 - x_{0; 1}**2.0)*(7.0*x_{0; 2}**2.0 - (x_{0; 0}**2.0 + x_{0; 1}**2.0 + x_{0; 2}**2.0)**1.0)*exp(-(x_{0; 0}**2.0 + x_{0; 1}**2.0 + x_{0; 2}**2.0)*2.0) + 2.3972459006129*exp(-(x_{0; 0}**2.0 + x_{0; 1}**2.0 + x_{0; 2}**2.0)*2.0)"
      ]
     },
     "execution_count": 2,
     "metadata": {},
     "output_type": "execute_result"
    }
   ],
   "source": [
    "a = 2.0\n",
    "l = 0\n",
    "m = 0\n",
    "p = bk.basisbank.get_gto(a,l,m)\n",
    "p.energy=[.5] #assign some energy to the state\n",
    "\n",
    "# make a random linear combination\n",
    "\n",
    "for i in range(10):\n",
    "    l = np.random.randint(0,5)\n",
    "    m = np.random.randint(-l,l+1)\n",
    "    \n",
    "    pn = bk.basisbank.get_gto(a,l,m)\n",
    "    pn.energy = [.5 + .1*i] \n",
    "    \n",
    "    p += pn\n",
    "    \n",
    "p.ket_sympy_expression"
   ]
  },
  {
   "cell_type": "code",
   "execution_count": 3,
   "id": "a6087cc1",
   "metadata": {},
   "outputs": [
    {
     "data": {
      "application/vnd.jupyter.widget-view+json": {
       "model_id": "25b16dada1c54643ab86d9d04a3d84ac",
       "version_major": 2,
       "version_minor": 0
      },
      "text/plain": [
       "BraketView(ao=[1], bg_color=[0.0, 0.0, 0.0], fragment_shader='uniform vec3 user_color;\\nuniform float time;\\n\\…"
      ]
     },
     "execution_count": 3,
     "metadata": {},
     "output_type": "execute_result"
    }
   ],
   "source": [
    "p.view() ## Evince is called here (from the BraketLab side)"
   ]
  },
  {
   "cell_type": "code",
   "execution_count": 4,
   "id": "ced80278",
   "metadata": {},
   "outputs": [
    {
     "name": "stdout",
     "output_type": "stream",
     "text": [
      "uniform vec3 user_color;\n",
      "uniform float time;\n",
      "\n",
      "varying vec2 vUv;\n",
      "varying vec3 pos;\n",
      "varying vec3 tex;\n",
      "varying float q;\n",
      "varying float csI;\n",
      "varying float csR;\n",
      "varying float cs0;\n",
      "varying float cs1;\n",
      "varying float cs2;\n",
      "varying float cs3;\n",
      "varying float cs4;\n",
      "varying float cs5;\n",
      "varying float cs6;\n",
      "varying float cs7;\n",
      "varying float cs;\n",
      "\n",
      "void main() {\n",
      "\n",
      "    vec2 p = vUv;\n",
      "    float q = tex[0]*tex[0] +tex[1]*tex[1] +tex[2]*tex[2] ;\n",
      "    float cs0 = 2.3972459006128952*exp(-2.0*q);\n",
      "    float cs1 = 6.7804353299801221*tex[1]*exp(-2.0*q);\n",
      "    float cs2 = tex[1]*(-8.5766476680850197*pow(q, 1.0) + 42.883238340425095*pow(tex[2], 2.0))*exp(-2.0*q);\n",
      "    float cs3 = 9.5889836024515809*tex[0]*tex[2]*exp(-2.0*q);\n",
      "    float cs4 = -4.1849755424690196*(pow(q, 1.0) - 7.0*pow(tex[2], 2.0))*(pow(tex[0], 2.0) - pow(tex[1], 2.0))*exp(-2.0*q);\n",
      "    float cs5 = 3.3902176649900611*tex[0]*exp(-2.0*q);\n",
      "    float cs6 = 4.7944918012257904*(pow(tex[0], 2.0) - pow(tex[1], 2.0))*exp(-2.0*q);\n",
      "    float cs7 = 9.5889836024515809*tex[1]*tex[2]*exp(-2.0*q);\n",
      "    float csI = -1.0*cs0*sin(0.500000*time) + -1.0*cs1*sin(0.500000*time) + -1.0*cs2*sin(0.600000*time) + -1.0*cs3*sin(0.800000*time) + -1.0*cs4*sin(1.100000*time) + -1.0*cs5*sin(1.200000*time) + -1.0*cs6*sin(1.300000*time) + -1.0*cs7*sin(1.400000*time) ;\n",
      "    float csR = cs0*cos(0.500000*time) + cs1*cos(0.500000*time) + cs2*cos(0.600000*time) + cs3*cos(0.800000*time) + cs4*cos(1.100000*time) + cs5*cos(1.200000*time) + cs6*cos(1.300000*time) + cs7*cos(1.400000*time) ;\n",
      "    gl_FragColor = gl_FragColor + vec4(csR, csI, -1.0*csR, .1);\n",
      "}\n"
     ]
    }
   ],
   "source": [
    "# Behind the scenes, BrakteLab generates a shader (WebGL-program) for the GPU, \n",
    "# passes it to Evince, which in turn creates a view in the browser where the orbital\n",
    "# can be evaluated as many times per second as possible (typically 60 fps)\n",
    "\n",
    "import evince\n",
    "\n",
    "print(evince.braketview.generate_webgl_shader(p, time_dependent = True)[0])"
   ]
  },
  {
   "cell_type": "code",
   "execution_count": null,
   "id": "e6c0623d",
   "metadata": {},
   "outputs": [],
   "source": []
  }
 ],
 "metadata": {
  "kernelspec": {
   "display_name": "Python 3 (ipykernel)",
   "language": "python",
   "name": "python3"
  },
  "language_info": {
   "codemirror_mode": {
    "name": "ipython",
    "version": 3
   },
   "file_extension": ".py",
   "mimetype": "text/x-python",
   "name": "python",
   "nbconvert_exporter": "python",
   "pygments_lexer": "ipython3",
   "version": "3.10.6"
  },
  "widgets": {
   "application/vnd.jupyter.widget-state+json": {
    "state": {
     "25b16dada1c54643ab86d9d04a3d84ac": {
      "model_module": "evince",
      "model_module_version": "^0.33.0",
      "model_name": "BraketModel",
      "state": {
       "_model_module_version": "^0.33.0",
       "_view_module_version": "^0.33.0",
       "additive": true,
       "ao": [
        1
       ],
       "bg_color": [
        0,
        0,
        0
       ],
       "fragment_shader": "uniform vec3 user_color;\nuniform float time;\n\nvarying vec2 vUv;\nvarying vec3 pos;\nvarying vec3 tex;\nvarying float q;\nvarying float csI;\nvarying float csR;\nvarying float cs0;\nvarying float cs1;\nvarying float cs2;\nvarying float cs3;\nvarying float cs4;\nvarying float cs5;\nvarying float cs6;\nvarying float cs7;\nvarying float cs;\n\nvoid main() {\n\n    vec2 p = vUv;\n    float q = tex[0]*tex[0] +tex[1]*tex[1] +tex[2]*tex[2] ;\n    float cs0 = 2.3972459006128952*exp(-2.0*q);\n    float cs1 = 6.7804353299801221*tex[1]*exp(-2.0*q);\n    float cs2 = tex[1]*(-8.5766476680850197*pow(q, 1.0) + 42.883238340425095*pow(tex[2], 2.0))*exp(-2.0*q);\n    float cs3 = 9.5889836024515809*tex[0]*tex[2]*exp(-2.0*q);\n    float cs4 = -4.1849755424690196*(pow(q, 1.0) - 7.0*pow(tex[2], 2.0))*(pow(tex[0], 2.0) - pow(tex[1], 2.0))*exp(-2.0*q);\n    float cs5 = 3.3902176649900611*tex[0]*exp(-2.0*q);\n    float cs6 = 4.7944918012257904*(pow(tex[0], 2.0) - pow(tex[1], 2.0))*exp(-2.0*q);\n    float cs7 = 9.5889836024515809*tex[1]*tex[2]*exp(-2.0*q);\n    float csI = -1.0*cs0*sin(0.500000*time) + -1.0*cs1*sin(0.500000*time) + -1.0*cs2*sin(0.600000*time) + -1.0*cs3*sin(0.800000*time) + -1.0*cs4*sin(1.100000*time) + -1.0*cs5*sin(1.200000*time) + -1.0*cs6*sin(1.300000*time) + -1.0*cs7*sin(1.400000*time) ;\n    float csR = cs0*cos(0.500000*time) + cs1*cos(0.500000*time) + cs2*cos(0.600000*time) + cs3*cos(0.800000*time) + cs4*cos(1.100000*time) + cs5*cos(1.200000*time) + cs6*cos(1.300000*time) + cs7*cos(1.400000*time) ;\n    gl_FragColor = gl_FragColor + vec4(csR, csI, -1.0*csR, .1);\n}",
       "layout": "IPY_MODEL_7c2a3e70bc00421f8708bdc875764fbb",
       "pos": [],
       "surf": [],
       "surface_view": false,
       "tabbable": null,
       "tooltip": null
      }
     },
     "27c6cf9e347448259511df39cb1c41e2": {
      "model_module": "@jupyter-widgets/base",
      "model_module_version": "2.0.0",
      "model_name": "LayoutModel",
      "state": {
       "_model_module_version": "2.0.0",
       "_view_module_version": "2.0.0",
       "border_bottom": null,
       "border_left": null,
       "border_right": null,
       "border_top": null
      }
     },
     "54494f2db08d433eb391502de937ee3c": {
      "model_module": "evince",
      "model_module_version": "^0.33.0",
      "model_name": "BraketModel",
      "state": {
       "_model_module_version": "^0.33.0",
       "_view_module_version": "^0.33.0",
       "additive": true,
       "ao": [
        1
       ],
       "bg_color": [
        0,
        0,
        0
       ],
       "fragment_shader": "uniform vec3 user_color;\nuniform float time;\n\nvarying vec2 vUv;\nvarying vec3 pos;\nvarying vec3 tex;\nvarying float q;\nvarying float csI;\nvarying float csR;\nvarying float cs0;\nvarying float cs1;\nvarying float cs2;\nvarying float cs3;\nvarying float cs4;\nvarying float cs5;\nvarying float cs6;\nvarying float cs7;\nvarying float cs8;\nvarying float cs;\n\nvoid main() {\n\n    vec2 p = vUv;\n    float q = tex[0]*tex[0] +tex[1]*tex[1] +tex[2]*tex[2] ;\n    float cs0 = 2.3972459006128952*exp(-2.0*q);\n    float cs1 = 9.5889836024515809*tex[0]*tex[2]*exp(-2.0*q);\n    float cs2 = tex[0]*(-4.2883238340425098*pow(q, 1.0) + 21.441619170212547*pow(tex[2], 2.0))*exp(-2.0*q);\n    float cs3 = tex[1]*(-4.2883238340425098*pow(q, 1.0) + 21.441619170212547*pow(tex[2], 2.0))*exp(-2.0*q);\n    float cs4 = 27.121741319920488*tex[0]*tex[1]*tex[2]*exp(-2.0*q);\n    float cs5 = -4.1849755424690196*(pow(q, 1.0) - 7.0*pow(tex[2], 2.0))*(pow(tex[0], 2.0) - pow(tex[1], 2.0))*exp(-2.0*q);\n    float cs6 = 3.3902176649900611*tex[0]*exp(-2.0*q);\n    float cs7 = 9.5889836024515809*(pow(tex[0], 2.0) - pow(tex[1], 2.0))*exp(-2.0*q);\n    float cs8 = tex[0]*tex[1]*(-8.3699510849380392*pow(q, 1.0) + 58.589657594566276*pow(tex[2], 2.0))*exp(-2.0*q);\n    float csI = -1.0*cs0*sin(0.500000*time) + -1.0*cs1*sin(0.500000*time) + -1.0*cs2*sin(0.600000*time) + -1.0*cs3*sin(0.700000*time) + -1.0*cs4*sin(0.900000*time) + -1.0*cs5*sin(1.000000*time) + -1.0*cs6*sin(1.100000*time) + -1.0*cs7*sin(1.200000*time) + -1.0*cs8*sin(1.300000*time) ;\n    float csR = cs0*cos(0.500000*time) + cs1*cos(0.500000*time) + cs2*cos(0.600000*time) + cs3*cos(0.700000*time) + cs4*cos(0.900000*time) + cs5*cos(1.000000*time) + cs6*cos(1.100000*time) + cs7*cos(1.200000*time) + cs8*cos(1.300000*time) ;\n    gl_FragColor = gl_FragColor + vec4(csR, csI, -1.0*csR, .1);\n}",
       "layout": "IPY_MODEL_27c6cf9e347448259511df39cb1c41e2",
       "pos": [],
       "surf": [],
       "surface_view": false,
       "tabbable": null,
       "tooltip": null
      }
     },
     "7c2a3e70bc00421f8708bdc875764fbb": {
      "model_module": "@jupyter-widgets/base",
      "model_module_version": "2.0.0",
      "model_name": "LayoutModel",
      "state": {
       "_model_module_version": "2.0.0",
       "_view_module_version": "2.0.0",
       "border_bottom": null,
       "border_left": null,
       "border_right": null,
       "border_top": null
      }
     }
    },
    "version_major": 2,
    "version_minor": 0
   }
  }
 },
 "nbformat": 4,
 "nbformat_minor": 5
}
