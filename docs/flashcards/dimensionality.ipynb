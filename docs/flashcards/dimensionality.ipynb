{
 "cells": [
  {
   "cell_type": "markdown",
   "id": "909fb948",
   "metadata": {},
   "source": [
    "# Dimensionality and default coordinates\n",
    "\n",
    "---"
   ]
  },
  {
   "cell_type": "markdown",
   "id": "fe720604",
   "metadata": {},
   "source": [
    "Dimensionality is to a large extent defined implicitly in Braketlab, meaning that there is no universal variable defining the dimensionality of integrals or visualization routines.\n",
    "\n",
    "Rather, a ket has a number of coordinates associated with each dimension (and potentially various particles in the system). The default coordinates can be obtained as ```Sympy```-variables as follows: "
   ]
  },
  {
   "cell_type": "code",
   "execution_count": 1,
   "id": "147c985d",
   "metadata": {},
   "outputs": [
    {
     "data": {
      "text/latex": [
       "$\\displaystyle x_{0; 0} + x_{0; 1} + x_{0; 2}$"
      ],
      "text/plain": [
       "x_{0; 0} + x_{0; 1} + x_{0; 2}"
      ]
     },
     "execution_count": 1,
     "metadata": {},
     "output_type": "execute_result"
    }
   ],
   "source": [
    "import braketlab as bk\n",
    "import sympy as sp\n",
    "\n",
    "x,y,z = bk.get_default_variables(0,3) #for particle p=0, get three default coordinates\n",
    "\n",
    "x + y + z # display the variables in a sum"
   ]
  },
  {
   "cell_type": "markdown",
   "id": "5191fec0",
   "metadata": {},
   "source": [
    "Kets are initialized with a Sympy-function, from which the number of variables are taken as the dimensionality. Thus, for a one dimensional system we may do"
   ]
  },
  {
   "cell_type": "code",
   "execution_count": 2,
   "id": "6a9cea80",
   "metadata": {},
   "outputs": [
    {
     "data": {
      "application/vnd.jupyter.widget-view+json": {
       "model_id": "9e2f9cc2018645fb9af1f19f229e9a02",
       "version_major": 2,
       "version_minor": 0
      },
      "text/plain": [
       "BraketView(additive=False, ao=[1], bg_color=[1.0, 1.0, 1.0], fragment_shader='uniform vec3 user_color;\\nunifor…"
      ]
     },
     "execution_count": 2,
     "metadata": {},
     "output_type": "execute_result"
    }
   ],
   "source": [
    "p = bk.ket( sp.sin(2.0*x)*sp.exp(-.1*x**2) ) \n",
    "\n",
    "p.view(web = True)"
   ]
  },
  {
   "cell_type": "markdown",
   "id": "66f0f6f6",
   "metadata": {},
   "source": [
    "For a two-dimensional system, we have instead"
   ]
  },
  {
   "cell_type": "code",
   "execution_count": 3,
   "id": "48f1d4f4",
   "metadata": {},
   "outputs": [
    {
     "data": {
      "application/vnd.jupyter.widget-view+json": {
       "model_id": "75400e1d29f545c5accf9473209c284e",
       "version_major": 2,
       "version_minor": 0
      },
      "text/plain": [
       "BraketView(ao=[1], bg_color=[0.0, 0.0, 0.0], fragment_shader='uniform vec3 user_color;\\nuniform float time;\\n\\…"
      ]
     },
     "execution_count": 3,
     "metadata": {},
     "output_type": "execute_result"
    }
   ],
   "source": [
    "p = bk.ket( x* sp.cos(0.2*(x**2 + y**2))*sp.exp(-.5*(x**2 + y**2)) ) \n",
    "p.view()"
   ]
  },
  {
   "cell_type": "markdown",
   "id": "fd57366a",
   "metadata": {},
   "source": [
    "..and the three-dimensional case, which happens to be our own world:"
   ]
  },
  {
   "cell_type": "code",
   "execution_count": 4,
   "id": "e4068700",
   "metadata": {},
   "outputs": [
    {
     "data": {
      "application/vnd.jupyter.widget-view+json": {
       "model_id": "4283c7a7d6de4f4783cdac9b9478ad50",
       "version_major": 2,
       "version_minor": 0
      },
      "text/plain": [
       "BraketView(ao=[1], bg_color=[0.0, 0.0, 0.0], fragment_shader='uniform vec3 user_color;\\nuniform float time;\\n\\…"
      ]
     },
     "execution_count": 4,
     "metadata": {},
     "output_type": "execute_result"
    }
   ],
   "source": [
    "p = bk.ket( x*y*sp.exp(-0.5*(x**2 + y**2 + z**2) ) )\n",
    "\n",
    "p.view()"
   ]
  },
  {
   "cell_type": "markdown",
   "id": "8725e860",
   "metadata": {},
   "source": [
    "## What is beyond the third dimension?\n",
    "\n",
    "BraketLab is totally fine working in more than three dimensions, so feel free to define something like"
   ]
  },
  {
   "cell_type": "code",
   "execution_count": 5,
   "id": "e533b508",
   "metadata": {},
   "outputs": [],
   "source": [
    "x,y,z,w = bk.get_default_variables(0,4)\n",
    "\n",
    "p = bk.ket( x*y*sp.exp(-0.5*(x**2 + y**2 + z**2 + w**2) ) )"
   ]
  },
  {
   "cell_type": "markdown",
   "id": "5d6f7027",
   "metadata": {},
   "source": [
    "While the algebraic treatment is agnostic to the number of dimensions, the visualization can only handle up to three dimensions. Thus, calling "
   ]
  },
  {
   "cell_type": "code",
   "execution_count": null,
   "id": "1b47bde6",
   "metadata": {},
   "outputs": [],
   "source": [
    "p.view(web = True)"
   ]
  },
  {
   "cell_type": "markdown",
   "id": "3e24b8e7",
   "metadata": {},
   "source": [
    "... will only show a projection onto the first three dimensions. "
   ]
  }
 ],
 "metadata": {
  "kernelspec": {
   "display_name": "Python 3 (ipykernel)",
   "language": "python",
   "name": "python3"
  },
  "language_info": {
   "codemirror_mode": {
    "name": "ipython",
    "version": 3
   },
   "file_extension": ".py",
   "mimetype": "text/x-python",
   "name": "python",
   "nbconvert_exporter": "python",
   "pygments_lexer": "ipython3",
   "version": "3.10.6"
  },
  "widgets": {
   "application/vnd.jupyter.widget-state+json": {
    "state": {
     "0103f5daeeb544c68ee38faca5292435": {
      "model_module": "evince",
      "model_module_version": "^0.25.0",
      "model_name": "BraketModel",
      "state": {
       "_model_module_version": "^0.25.0",
       "_view_module_version": "^0.25.0",
       "additive": true,
       "ao": [
        1
       ],
       "bg_color": [
        0,
        0,
        0
       ],
       "fragment_shader": "uniform vec3 user_color;\nuniform float time;\n\nvarying vec2 vUv;\nvarying vec3 pos;\nvarying vec3 tex;\nvarying float q;\nvarying float csI;\nvarying float csR;\nvarying float cs0;\nvarying float cs;\n\nvoid main() {\n\n    vec2 p = vUv;\n    float q = tex[0]*tex[0] ;\n    float cs0 = 1.0*exp(-0.10000000000000001*q)*sin(2.0*tex[0]);\n    float csI = 0.0 ;\n    float csR = cs0 ;\n    csR = smoothstep(0.9*tex[1], tex[1], csR);\n    csI = smoothstep(0.9*tex[1], tex[1], csI);\n    gl_FragColor = gl_FragColor + vec4(csR, csI, -1.0*csR, 1.0);\n}",
       "layout": "IPY_MODEL_ff879fb93c7548c2a92dd81f38a70c8f",
       "pos": [],
       "surf": [],
       "surface_view": true
      }
     },
     "03cef7d684254e088029f0713c9c9e9c": {
      "model_module": "@jupyter-widgets/base",
      "model_module_version": "2.0.0",
      "model_name": "LayoutModel",
      "state": {
       "_model_module_version": "2.0.0",
       "_view_module_version": "2.0.0",
       "border_bottom": null,
       "border_left": null,
       "border_right": null,
       "border_top": null
      }
     },
     "04ca86fb190740c9814607bdc5e857cf": {
      "model_module": "@jupyter-widgets/base",
      "model_module_version": "2.0.0",
      "model_name": "LayoutModel",
      "state": {
       "_model_module_version": "2.0.0",
       "_view_module_version": "2.0.0",
       "border_bottom": null,
       "border_left": null,
       "border_right": null,
       "border_top": null
      }
     },
     "07d2f1116cf04b58a512d629b2860d92": {
      "model_module": "@jupyter-widgets/base",
      "model_module_version": "2.0.0",
      "model_name": "LayoutModel",
      "state": {
       "_model_module_version": "2.0.0",
       "_view_module_version": "2.0.0",
       "border_bottom": null,
       "border_left": null,
       "border_right": null,
       "border_top": null
      }
     },
     "155ea5a335384a2da9a90e1081eb340a": {
      "model_module": "evince",
      "model_module_version": "^0.30.0",
      "model_name": "BraketModel",
      "state": {
       "_model_module_version": "^0.30.0",
       "_view_module_version": "^0.30.0",
       "additive": true,
       "ao": [
        1
       ],
       "bg_color": [
        0,
        0,
        0
       ],
       "fragment_shader": "uniform vec3 user_color;\nuniform float time;\n\nvarying vec2 vUv;\nvarying vec3 pos;\nvarying vec3 tex;\nvarying float q;\nvarying float csI;\nvarying float csR;\nvarying float cs0;\nvarying float cs;\n\nvoid main() {\n\n    vec2 p = vUv;\n    float q = tex[0]*tex[0] +tex[1]*tex[1] +tex[2]*tex[2] ;\n    float cs0 = 1.0*tex[0]*tex[1]*exp(-0.5*pow(tex[0], 2.0) - 0.5*pow(tex[1], 2.0) - 0.5*pow(tex[2], 2.0));\n    float csI = 0.0 ;\n    float csR = cs0 ;\n    gl_FragColor = gl_FragColor + vec4(csR, csI, -1.0*csR, .1);\n}",
       "layout": "IPY_MODEL_b3114edbf97b467cb5181b5343337b11",
       "pos": [],
       "surf": [],
       "surface_view": false,
       "tabbable": null,
       "tooltip": null
      }
     },
     "1a9644af199b45f684c7e12b4c54f7be": {
      "model_module": "@jupyter-widgets/base",
      "model_module_version": "2.0.0",
      "model_name": "LayoutModel",
      "state": {
       "_model_module_version": "2.0.0",
       "_view_module_version": "2.0.0",
       "border_bottom": null,
       "border_left": null,
       "border_right": null,
       "border_top": null
      }
     },
     "1c9f02d9f7504fef87bce8f0273b7833": {
      "model_module": "evince",
      "model_module_version": "^0.25.0",
      "model_name": "BraketModel",
      "state": {
       "_model_module_version": "^0.25.0",
       "_view_module_version": "^0.25.0",
       "ao": [
        1
       ],
       "fragment_shader": "uniform vec3 user_color;\nuniform float time;\n\nvarying vec2 vUv;\nvarying vec3 pos;\nvarying vec3 tex;\nvarying float q;\nvarying float csI;\nvarying float csR;\nvarying float cs0;\nvarying float cs;\n\nvoid main() {\n\n    vec2 p = vUv;\n    float q = tex[0]*tex[0] +tex[1]*tex[1] +tex[2]*tex[2] ;\n    float cs0 = 1.0*tex[0]*tex[1]*exp(-0.5*pow(tex[0], 2.0) - 0.5*pow(tex[1], 2.0) - 0.5*pow(tex[2], 2.0));\n    float csI = 0.0 ;\n    float csR = cs0 ;\n    gl_FragColor = gl_FragColor + vec4(csR, csI, -1.0*csR, .1);\n}",
       "layout": "IPY_MODEL_db82f8a7bc2d49498b9ee281e79d5d6a",
       "pos": [],
       "surf": [],
       "surface_view": false
      }
     },
     "234e9ad5fb8f455fb798eb6033b33fe4": {
      "model_module": "evince",
      "model_module_version": "^0.31.0",
      "model_name": "BraketModel",
      "state": {
       "_model_module_version": "^0.31.0",
       "_view_module_version": "^0.31.0",
       "additive": true,
       "ao": [
        1
       ],
       "bg_color": [
        0,
        0,
        0
       ],
       "fragment_shader": "uniform vec3 user_color;\nuniform float time;\n\nvarying vec2 vUv;\nvarying vec3 pos;\nvarying vec3 tex;\nvarying float q;\nvarying float csI;\nvarying float csR;\nvarying float cs0;\nvarying float cs;\n\nvoid main() {\n\n    vec2 p = vUv;\n    float q = tex[0]*tex[0] +tex[1]*tex[1] +tex[2]*tex[2] ;\n    float cs0 = 1.0*tex[0]*tex[1]*exp(-0.5*pow(tex[0], 2.0) - 0.5*pow(tex[1], 2.0) - 0.5*pow(tex[2], 2.0));\n    float csI = 0.0 ;\n    float csR = cs0 ;\n    gl_FragColor = gl_FragColor + vec4(csR, csI, -1.0*csR, .1);\n}",
       "layout": "IPY_MODEL_37cb4bfb7f9d4aa196015615668066a4",
       "pos": [],
       "surf": [],
       "surface_view": false,
       "tabbable": null,
       "tooltip": null
      }
     },
     "27aeefd1eaf443fc9b767cf09879325b": {
      "model_module": "evince",
      "model_module_version": "^0.24.0",
      "model_name": "BraketModel",
      "state": {
       "_model_module_version": "^0.24.0",
       "_view_module_version": "^0.24.0",
       "ao": [
        1
       ],
       "fragment_shader": "uniform vec3 user_color;\nuniform float time;\n\nvarying vec2 vUv;\nvarying vec3 pos;\nvarying vec3 tex;\nvarying float q;\nvarying float csI;\nvarying float csR;\nvarying float cs0;\nvarying float cs;\n\nvoid main() {\n\n    vec2 p = vUv;\n    float q = tex[0]*tex[0] +tex[1]*tex[1] +tex[2]*tex[2] ;\n    float cs0 = 1.0*tex[0]*tex[1]*exp(-0.5*pow(tex[0], 2.0) - 0.5*pow(tex[1], 2.0) - 0.5*pow(tex[2], 2.0));\n    float csI = 0.0 ;\n    float csR = cs0 ;\n    gl_FragColor = gl_FragColor + vec4(csR, csI, -1.0*csR, .1);\n}",
       "layout": "IPY_MODEL_9cca226ce6c54affb448e15968538104",
       "pos": [],
       "surf": []
      }
     },
     "2d8c5a537abc4db9ab416b4c90f0182a": {
      "model_module": "evince",
      "model_module_version": "^0.31.0",
      "model_name": "BraketModel",
      "state": {
       "_model_module_version": "^0.31.0",
       "_view_module_version": "^0.31.0",
       "additive": false,
       "ao": [
        1
       ],
       "bg_color": [
        1,
        1,
        1
       ],
       "fragment_shader": "uniform vec3 user_color;\nuniform float time;\n\nvarying vec2 vUv;\nvarying vec3 pos;\nvarying vec3 tex;\nvarying float q;\nvarying float csI;\nvarying float csR;\nvarying float cs0;\nvarying float cs;\n\nvoid main() {\n\n    vec2 p = vUv;\n    float q = tex[0]*tex[0] ;\n    float cs0 = 1.0*exp(-0.10000000000000001*q)*sin(2.0*tex[0]);\n    float csI = 0.0 ;\n    float csR = cs0 ;\n    csR = smoothstep(0.9*tex[1], tex[1], csR);\n    csI = smoothstep(0.9*tex[1], tex[1], csI);\n    gl_FragColor = gl_FragColor + vec4(csR + .06*csI, csR + .1*csI, .7*csR + .5*csI, 1.0);\n}",
       "layout": "IPY_MODEL_c8cddf5352734ec1acb3b8d01bb34fa4",
       "pos": [],
       "surf": [],
       "surface_view": true,
       "tabbable": null,
       "tooltip": null
      }
     },
     "37cb4bfb7f9d4aa196015615668066a4": {
      "model_module": "@jupyter-widgets/base",
      "model_module_version": "2.0.0",
      "model_name": "LayoutModel",
      "state": {
       "_model_module_version": "2.0.0",
       "_view_module_version": "2.0.0",
       "border_bottom": null,
       "border_left": null,
       "border_right": null,
       "border_top": null
      }
     },
     "4283c7a7d6de4f4783cdac9b9478ad50": {
      "model_module": "evince",
      "model_module_version": "^0.36.0",
      "model_name": "BraketModel",
      "state": {
       "_model_module_version": "^0.36.0",
       "_view_module_version": "^0.36.0",
       "additive": true,
       "ao": [
        1
       ],
       "bg_color": [
        0,
        0,
        0
       ],
       "fragment_shader": "uniform vec3 user_color;\nuniform float time;\n\nvarying vec2 vUv;\nvarying vec3 pos;\nvarying vec3 tex;\nvarying float q;\nvarying float csI;\nvarying float csR;\nvarying float cs0;\nvarying float cs;\n\nvoid main() {\n\n    vec2 p = vUv;\n    float q = tex[0]*tex[0] +tex[1]*tex[1] +tex[2]*tex[2] ;\n    float cs0 = 1.0*tex[0]*tex[1]*exp(-0.5*pow(tex[0], 2.0) - 0.5*pow(tex[1], 2.0) - 0.5*pow(tex[2], 2.0));\n    float csI = 0.0 ;\n    float csR = cs0 ;\n    gl_FragColor = gl_FragColor + vec4(csR, csI, -1.0*csR, .1);\n}",
       "layout": "IPY_MODEL_1a9644af199b45f684c7e12b4c54f7be",
       "pos": [],
       "surf": [],
       "surface_view": false,
       "tabbable": null,
       "tooltip": null
      }
     },
     "51371479f719410f9855a3dd8bf21953": {
      "model_module": "evince",
      "model_module_version": "^0.25.0",
      "model_name": "BraketModel",
      "state": {
       "_model_module_version": "^0.25.0",
       "_view_module_version": "^0.25.0",
       "ao": [
        1
       ],
       "fragment_shader": "uniform vec3 user_color;\nuniform float time;\n\nvarying vec2 vUv;\nvarying vec3 pos;\nvarying vec3 tex;\nvarying float q;\nvarying float csI;\nvarying float csR;\nvarying float cs0;\nvarying float cs;\n\nvoid main() {\n\n    vec2 p = vUv;\n    float q = tex[0]*tex[0] +tex[1]*tex[1] ;\n    float cs0 = 1.0*exp(-0.20000000000000001*pow(tex[0], 2.0) - 0.20000000000000001*pow(tex[1], 2.0))*cos(1.0*pow(tex[0], 2.0) + 1.0*pow(tex[1], 2.0));\n    float csI = 0.0 ;\n    float csR = cs0 ;\n    gl_FragColor = gl_FragColor + vec4(csR, csI, -1.0*csR, 1.0);\n}",
       "layout": "IPY_MODEL_901945def83b4f8f8d15077cb41be1cc",
       "pos": [],
       "surf": [],
       "surface_view": true
      }
     },
     "51c4cc799a8947d3ac3699464e90d4b8": {
      "model_module": "evince",
      "model_module_version": "^0.30.0",
      "model_name": "BraketModel",
      "state": {
       "_model_module_version": "^0.30.0",
       "_view_module_version": "^0.30.0",
       "additive": true,
       "ao": [
        1
       ],
       "bg_color": [
        0,
        0,
        0
       ],
       "fragment_shader": "uniform vec3 user_color;\nuniform float time;\n\nvarying vec2 vUv;\nvarying vec3 pos;\nvarying vec3 tex;\nvarying float q;\nvarying float csI;\nvarying float csR;\nvarying float cs0;\nvarying float cs;\n\nvoid main() {\n\n    vec2 p = vUv;\n    float q = tex[0]*tex[0] +tex[1]*tex[1] ;\n    float cs0 = 1.0*tex[0]*exp(-0.5*pow(tex[0], 2.0) - 0.5*pow(tex[1], 2.0))*cos(0.20000000000000001*pow(tex[0], 2.0) + 0.20000000000000001*pow(tex[1], 2.0));\n    float csI = 0.0 ;\n    float csR = cs0 ;\n    gl_FragColor = gl_FragColor + vec4(csR, csI, -1.0*csR, 1);\n}",
       "layout": "IPY_MODEL_590e8b6d069f4ec78b751f8d4aafe647",
       "pos": [],
       "surf": [],
       "surface_view": true
      }
     },
     "52fa7d5d62af4ec38f00e62c399b1ef8": {
      "model_module": "evince",
      "model_module_version": "^0.30.0",
      "model_name": "BraketModel",
      "state": {
       "_model_module_version": "^0.30.0",
       "_view_module_version": "^0.30.0",
       "additive": false,
       "ao": [
        1
       ],
       "bg_color": [
        1,
        1,
        1
       ],
       "fragment_shader": "uniform vec3 user_color;\nuniform float time;\n\nvarying vec2 vUv;\nvarying vec3 pos;\nvarying vec3 tex;\nvarying float q;\nvarying float csI;\nvarying float csR;\nvarying float cs0;\nvarying float cs;\n\nvoid main() {\n\n    vec2 p = vUv;\n    float q = tex[0]*tex[0] ;\n    float cs0 = 1.0*exp(-0.10000000000000001*q)*sin(2.0*tex[0]);\n    float csI = 0.0 ;\n    float csR = cs0 ;\n    csR = smoothstep(0.9*tex[1], tex[1], csR);\n    csI = smoothstep(0.9*tex[1], tex[1], csI);\n    gl_FragColor = gl_FragColor + vec4(csR + .06*csI, csR + .1*csI, .7*csR + .5*csI, 1.0);\n}",
       "layout": "IPY_MODEL_03cef7d684254e088029f0713c9c9e9c",
       "pos": [],
       "surf": [],
       "surface_view": true,
       "tabbable": null,
       "tooltip": null
      }
     },
     "53e233d04af14921b1872ed8ac7ebe5e": {
      "model_module": "@jupyter-widgets/base",
      "model_module_version": "1.2.0",
      "model_name": "LayoutModel",
      "state": {}
     },
     "590e8b6d069f4ec78b751f8d4aafe647": {
      "model_module": "@jupyter-widgets/base",
      "model_module_version": "1.2.0",
      "model_name": "LayoutModel",
      "state": {}
     },
     "5f0d7d0059c842f18c4f4915b2665940": {
      "model_module": "evince",
      "model_module_version": "^0.30.0",
      "model_name": "BraketModel",
      "state": {
       "_model_module_version": "^0.30.0",
       "_view_module_version": "^0.30.0",
       "additive": false,
       "ao": [
        1
       ],
       "bg_color": [
        1,
        1,
        1
       ],
       "fragment_shader": "uniform vec3 user_color;\nuniform float time;\n\nvarying vec2 vUv;\nvarying vec3 pos;\nvarying vec3 tex;\nvarying float q;\nvarying float csI;\nvarying float csR;\nvarying float cs0;\nvarying float cs;\n\nvoid main() {\n\n    vec2 p = vUv;\n    float q = tex[0]*tex[0] ;\n    float cs0 = 1.0*exp(-0.10000000000000001*q)*sin(2.0*tex[0]);\n    float csI = 0.0 ;\n    float csR = cs0 ;\n    csR = smoothstep(0.9*tex[1], tex[1], csR);\n    csI = smoothstep(0.9*tex[1], tex[1], csI);\n    gl_FragColor = gl_FragColor + vec4(csR + .06*csI, csR + .1*csI, .7*csR + .5*csI, 1.0);\n}",
       "layout": "IPY_MODEL_c47f49a9f5194864a105599fc54e1ae6",
       "pos": [],
       "surf": [],
       "surface_view": true
      }
     },
     "69a97c8c47054d44971182063f217468": {
      "model_module": "@jupyter-widgets/base",
      "model_module_version": "1.2.0",
      "model_name": "LayoutModel",
      "state": {}
     },
     "6ae358f0a19b442dbbea379b18369c0f": {
      "model_module": "@jupyter-widgets/base",
      "model_module_version": "1.2.0",
      "model_name": "LayoutModel",
      "state": {}
     },
     "717bc018fb52449b85fcc8cd54300c26": {
      "model_module": "evince",
      "model_module_version": "^0.30.0",
      "model_name": "BraketModel",
      "state": {
       "_model_module_version": "^0.30.0",
       "_view_module_version": "^0.30.0",
       "additive": true,
       "ao": [
        1
       ],
       "bg_color": [
        0,
        0,
        0
       ],
       "fragment_shader": "uniform vec3 user_color;\nuniform float time;\n\nvarying vec2 vUv;\nvarying vec3 pos;\nvarying vec3 tex;\nvarying float q;\nvarying float csI;\nvarying float csR;\nvarying float cs0;\nvarying float cs;\n\nvoid main() {\n\n    vec2 p = vUv;\n    float q = tex[0]*tex[0] +tex[1]*tex[1] ;\n    float cs0 = 1.0*tex[0]*exp(-0.5*pow(tex[0], 2.0) - 0.5*pow(tex[1], 2.0))*cos(0.20000000000000001*pow(tex[0], 2.0) + 0.20000000000000001*pow(tex[1], 2.0));\n    float csI = 0.0 ;\n    float csR = cs0 ;\n    gl_FragColor = gl_FragColor + vec4(csR, csI, -1.0*csR, 1);\n}",
       "layout": "IPY_MODEL_e296c068e9fe4935b8e1735d893200bc",
       "pos": [],
       "surf": [],
       "surface_view": true
      }
     },
     "72a3ee5dcf4b4e70acf34b33358cde26": {
      "model_module": "evince",
      "model_module_version": "^0.25.0",
      "model_name": "BraketModel",
      "state": {
       "_model_module_version": "^0.25.0",
       "_view_module_version": "^0.25.0",
       "ao": [
        1
       ],
       "fragment_shader": "uniform vec3 user_color;\nuniform float time;\n\nvarying vec2 vUv;\nvarying vec3 pos;\nvarying vec3 tex;\nvarying float q;\nvarying float csI;\nvarying float csR;\nvarying float cs0;\nvarying float cs;\n\nvoid main() {\n\n    vec2 p = vUv;\n    float q = tex[0]*tex[0] ;\n    float cs0 = 1.0*exp(-0.10000000000000001*q)*sin(2.0*tex[0]);\n    float csI = 0.0 ;\n    float csR = cs0 ;\n    csR = smoothstep(0.9*tex[1], tex[1], csR);\n    csI = smoothstep(0.9*tex[1], tex[1], csI);\n    gl_FragColor = gl_FragColor + vec4(csR, csI, -1.0*csR, 1.0);\n}",
       "layout": "IPY_MODEL_7e620d7fca8b4ec89fba3c83382da43c",
       "pos": [],
       "surf": [],
       "surface_view": true
      }
     },
     "75400e1d29f545c5accf9473209c284e": {
      "model_module": "evince",
      "model_module_version": "^0.36.0",
      "model_name": "BraketModel",
      "state": {
       "_model_module_version": "^0.36.0",
       "_view_module_version": "^0.36.0",
       "additive": true,
       "ao": [
        1
       ],
       "bg_color": [
        0,
        0,
        0
       ],
       "fragment_shader": "uniform vec3 user_color;\nuniform float time;\n\nvarying vec2 vUv;\nvarying vec3 pos;\nvarying vec3 tex;\nvarying float q;\nvarying float csI;\nvarying float csR;\nvarying float cs0;\nvarying float cs;\n\nvoid main() {\n\n    vec2 p = vUv;\n    float q = tex[0]*tex[0] +tex[1]*tex[1] ;\n    float cs0 = 1.0*tex[0]*exp(-0.5*pow(tex[0], 2.0) - 0.5*pow(tex[1], 2.0))*cos(0.20000000000000001*pow(tex[0], 2.0) + 0.20000000000000001*pow(tex[1], 2.0));\n    float csI = 0.0 ;\n    float csR = cs0 ;\n    gl_FragColor = gl_FragColor + vec4(csR, csI, -1.0*csR, 1);\n}",
       "layout": "IPY_MODEL_04ca86fb190740c9814607bdc5e857cf",
       "pos": [],
       "surf": [],
       "surface_view": true,
       "tabbable": null,
       "tooltip": null
      }
     },
     "7667ad0fa3ce4bf2930fb51c263eb674": {
      "model_module": "evince",
      "model_module_version": "^0.30.0",
      "model_name": "BraketModel",
      "state": {
       "_model_module_version": "^0.30.0",
       "_view_module_version": "^0.30.0",
       "additive": true,
       "ao": [
        1
       ],
       "bg_color": [
        0,
        0,
        0
       ],
       "fragment_shader": "uniform vec3 user_color;\nuniform float time;\n\nvarying vec2 vUv;\nvarying vec3 pos;\nvarying vec3 tex;\nvarying float q;\nvarying float csI;\nvarying float csR;\nvarying float cs0;\nvarying float cs;\n\nvoid main() {\n\n    vec2 p = vUv;\n    float q = tex[0]*tex[0] +tex[1]*tex[1] ;\n    float cs0 = 1.0*tex[0]*exp(-0.5*pow(tex[0], 2.0) - 0.5*pow(tex[1], 2.0))*cos(0.20000000000000001*pow(tex[0], 2.0) + 0.20000000000000001*pow(tex[1], 2.0));\n    float csI = 0.0 ;\n    float csR = cs0 ;\n    gl_FragColor = gl_FragColor + vec4(csR, csI, -1.0*csR, 1);\n}",
       "layout": "IPY_MODEL_d4305e2a7c034092b1611386b6447c98",
       "pos": [],
       "surf": [],
       "surface_view": true,
       "tabbable": null,
       "tooltip": null
      }
     },
     "7e620d7fca8b4ec89fba3c83382da43c": {
      "model_module": "@jupyter-widgets/base",
      "model_module_version": "1.2.0",
      "model_name": "LayoutModel",
      "state": {}
     },
     "80eed1a0f0ab4dfd8ab010a4ea70aef1": {
      "model_module": "evince",
      "model_module_version": "^0.30.0",
      "model_name": "BraketModel",
      "state": {
       "_model_module_version": "^0.30.0",
       "_view_module_version": "^0.30.0",
       "additive": false,
       "ao": [
        1
       ],
       "bg_color": [
        1,
        1,
        1
       ],
       "fragment_shader": "uniform vec3 user_color;\nuniform float time;\n\nvarying vec2 vUv;\nvarying vec3 pos;\nvarying vec3 tex;\nvarying float q;\nvarying float csI;\nvarying float csR;\nvarying float cs0;\nvarying float cs;\n\nvoid main() {\n\n    vec2 p = vUv;\n    float q = tex[0]*tex[0] +tex[1]*tex[1] ;\n    float cs0 = 1.0*tex[0]*exp(-0.20000000000000001*pow(tex[0], 2.0) - 0.20000000000000001*pow(tex[1], 2.0))*cos(1.0*pow(tex[0], 2.0) + 1.0*pow(tex[1], 2.0));\n    float csI = 0.0 ;\n    float csR = cs0 ;\n    gl_FragColor = gl_FragColor + vec4(csR + .06*csI, csR + .1*csI, .7*csR + .5*csI, 1.0);\n}",
       "layout": "IPY_MODEL_69a97c8c47054d44971182063f217468",
       "pos": [],
       "surf": [],
       "surface_view": true
      }
     },
     "8535b506532e4ab4877bac4cd2bd5a18": {
      "model_module": "evince",
      "model_module_version": "^0.31.0",
      "model_name": "BraketModel",
      "state": {
       "_model_module_version": "^0.31.0",
       "_view_module_version": "^0.31.0",
       "additive": true,
       "ao": [
        1
       ],
       "bg_color": [
        0,
        0,
        0
       ],
       "fragment_shader": "uniform vec3 user_color;\nuniform float time;\n\nvarying vec2 vUv;\nvarying vec3 pos;\nvarying vec3 tex;\nvarying float q;\nvarying float csI;\nvarying float csR;\nvarying float cs0;\nvarying float cs;\n\nvoid main() {\n\n    vec2 p = vUv;\n    float q = tex[0]*tex[0] +tex[1]*tex[1] ;\n    float cs0 = 1.0*tex[0]*exp(-0.5*pow(tex[0], 2.0) - 0.5*pow(tex[1], 2.0))*cos(0.20000000000000001*pow(tex[0], 2.0) + 0.20000000000000001*pow(tex[1], 2.0));\n    float csI = 0.0 ;\n    float csR = cs0 ;\n    gl_FragColor = gl_FragColor + vec4(csR, csI, -1.0*csR, 1);\n}",
       "layout": "IPY_MODEL_07d2f1116cf04b58a512d629b2860d92",
       "pos": [],
       "surf": [],
       "surface_view": true,
       "tabbable": null,
       "tooltip": null
      }
     },
     "901945def83b4f8f8d15077cb41be1cc": {
      "model_module": "@jupyter-widgets/base",
      "model_module_version": "1.2.0",
      "model_name": "LayoutModel",
      "state": {}
     },
     "98a6833e03fd4b99875b4c6573841b18": {
      "model_module": "evince",
      "model_module_version": "^0.30.0",
      "model_name": "BraketModel",
      "state": {
       "_model_module_version": "^0.30.0",
       "_view_module_version": "^0.30.0",
       "additive": false,
       "ao": [
        1
       ],
       "bg_color": [
        1,
        1,
        1
       ],
       "fragment_shader": "uniform vec3 user_color;\nuniform float time;\n\nvarying vec2 vUv;\nvarying vec3 pos;\nvarying vec3 tex;\nvarying float q;\nvarying float csI;\nvarying float csR;\nvarying float cs0;\nvarying float cs;\n\nvoid main() {\n\n    vec2 p = vUv;\n    float q = tex[0]*tex[0] +tex[1]*tex[1] ;\n    float cs0 = 1.0*tex[0]*exp(-0.5*pow(tex[0], 2.0) - 0.5*pow(tex[1], 2.0))*cos(0.20000000000000001*pow(tex[0], 2.0) + 0.20000000000000001*pow(tex[1], 2.0));\n    float csI = 0.0 ;\n    float csR = cs0 ;\n    gl_FragColor = gl_FragColor + vec4(csR + .06*csI, csR + .1*csI, .7*csR + .5*csI, 1.0);\n}",
       "layout": "IPY_MODEL_6ae358f0a19b442dbbea379b18369c0f",
       "pos": [],
       "surf": [],
       "surface_view": true
      }
     },
     "9cca226ce6c54affb448e15968538104": {
      "model_module": "@jupyter-widgets/base",
      "model_module_version": "1.2.0",
      "model_name": "LayoutModel",
      "state": {}
     },
     "9e2f9cc2018645fb9af1f19f229e9a02": {
      "model_module": "evince",
      "model_module_version": "^0.36.0",
      "model_name": "BraketModel",
      "state": {
       "_model_module_version": "^0.36.0",
       "_view_module_version": "^0.36.0",
       "additive": false,
       "ao": [
        1
       ],
       "bg_color": [
        1,
        1,
        1
       ],
       "fragment_shader": "uniform vec3 user_color;\nuniform float time;\n\nvarying vec2 vUv;\nvarying vec3 pos;\nvarying vec3 tex;\nvarying float q;\nvarying float csI;\nvarying float csR;\nvarying float cs0;\nvarying float cs;\n\nvoid main() {\n\n    vec2 p = vUv;\n    float q = tex[0]*tex[0] ;\n    float cs0 = 1.0*exp(-0.10000000000000001*q)*sin(2.0*tex[0]);\n    float csI = 0.0 ;\n    float csR = cs0 ;\n    csR = smoothstep(0.9*tex[1], tex[1], csR);\n    csI = smoothstep(0.9*tex[1], tex[1], csI);\n    gl_FragColor = gl_FragColor + vec4(csR + .06*csI, csR + .1*csI, .7*csR + .5*csI, 1.0);\n}",
       "layout": "IPY_MODEL_bd9d3942b11e461db17e5628473b4450",
       "pos": [],
       "surf": [],
       "surface_view": true,
       "tabbable": null,
       "tooltip": null
      }
     },
     "a984157e3f7547c69936096c7584d1b8": {
      "model_module": "@jupyter-widgets/base",
      "model_module_version": "1.2.0",
      "model_name": "LayoutModel",
      "state": {}
     },
     "ac70ab698157439c94e0b8cb50f1c5d0": {
      "model_module": "evince",
      "model_module_version": "^0.24.0",
      "model_name": "BraketModel",
      "state": {
       "_model_module_version": "^0.24.0",
       "_view_module_version": "^0.24.0",
       "ao": [
        1
       ],
       "fragment_shader": "uniform vec3 user_color;\nuniform float time;\n\nvarying vec2 vUv;\nvarying vec3 pos;\nvarying vec3 tex;\nvarying float q;\nvarying float csI;\nvarying float csR;\nvarying float cs0;\nvarying float cs;\n\nvoid main() {\n\n    vec2 p = vUv;\n    float q = tex[0]*tex[0] ;\n    float cs0 = 1.0*exp(-0.10000000000000001*q)*sin(2.0*tex[0]);\n    float csI = 0.0 ;\n    float csR = cs0 ;\n    gl_FragColor = gl_FragColor + vec4(csR, csI, -1.0*csR, .1);\n}",
       "layout": "IPY_MODEL_a984157e3f7547c69936096c7584d1b8",
       "pos": [],
       "surf": []
      }
     },
     "b3114edbf97b467cb5181b5343337b11": {
      "model_module": "@jupyter-widgets/base",
      "model_module_version": "2.0.0",
      "model_name": "LayoutModel",
      "state": {
       "_model_module_version": "2.0.0",
       "_view_module_version": "2.0.0",
       "border_bottom": null,
       "border_left": null,
       "border_right": null,
       "border_top": null
      }
     },
     "bb01120e5e4a483a8a7e192a9340becc": {
      "model_module": "evince",
      "model_module_version": "^0.30.0",
      "model_name": "BraketModel",
      "state": {
       "_model_module_version": "^0.30.0",
       "_view_module_version": "^0.30.0",
       "additive": true,
       "ao": [
        1
       ],
       "bg_color": [
        0,
        0,
        0
       ],
       "fragment_shader": "uniform vec3 user_color;\nuniform float time;\n\nvarying vec2 vUv;\nvarying vec3 pos;\nvarying vec3 tex;\nvarying float q;\nvarying float csI;\nvarying float csR;\nvarying float cs0;\nvarying float cs;\n\nvoid main() {\n\n    vec2 p = vUv;\n    float q = tex[0]*tex[0] +tex[1]*tex[1] +tex[2]*tex[2] ;\n    float cs0 = 1.0*tex[0]*tex[1]*exp(-0.5*pow(tex[0], 2.0) - 0.5*pow(tex[1], 2.0) - 0.5*pow(tex[2], 2.0));\n    float csI = 0.0 ;\n    float csR = cs0 ;\n    gl_FragColor = gl_FragColor + vec4(csR, csI, -1.0*csR, .1);\n}",
       "layout": "IPY_MODEL_53e233d04af14921b1872ed8ac7ebe5e",
       "pos": [],
       "surf": [],
       "surface_view": false
      }
     },
     "bd9d3942b11e461db17e5628473b4450": {
      "model_module": "@jupyter-widgets/base",
      "model_module_version": "2.0.0",
      "model_name": "LayoutModel",
      "state": {
       "_model_module_version": "2.0.0",
       "_view_module_version": "2.0.0",
       "border_bottom": null,
       "border_left": null,
       "border_right": null,
       "border_top": null
      }
     },
     "c47f49a9f5194864a105599fc54e1ae6": {
      "model_module": "@jupyter-widgets/base",
      "model_module_version": "1.2.0",
      "model_name": "LayoutModel",
      "state": {}
     },
     "c589b11363ab4e33b0afb15fedd94c8b": {
      "model_module": "evince",
      "model_module_version": "^0.24.0",
      "model_name": "BraketModel",
      "state": {
       "_model_module_version": "^0.24.0",
       "_view_module_version": "^0.24.0",
       "ao": [
        1
       ],
       "fragment_shader": "uniform vec3 user_color;\nuniform float time;\n\nvarying vec2 vUv;\nvarying vec3 pos;\nvarying vec3 tex;\nvarying float q;\nvarying float csI;\nvarying float csR;\nvarying float cs0;\nvarying float cs;\n\nvoid main() {\n\n    vec2 p = vUv;\n    float q = tex[0]*tex[0] +tex[1]*tex[1] ;\n    float cs0 = 1.0*exp(-0.20000000000000001*pow(tex[0], 2.0) - 0.20000000000000001*pow(tex[1], 2.0))*cos(1.0*pow(tex[0], 2.0) + 1.0*pow(tex[1], 2.0));\n    float csI = 0.0 ;\n    float csR = cs0 ;\n    gl_FragColor = gl_FragColor + vec4(csR, csI, -1.0*csR, .1);\n}",
       "layout": "IPY_MODEL_fbccbbb4ad014f51948c3c7abbe640d8",
       "pos": [],
       "surf": []
      }
     },
     "c8449e9cfabd43dc980297cabbdff70d": {
      "model_module": "@jupyter-widgets/base",
      "model_module_version": "2.0.0",
      "model_name": "LayoutModel",
      "state": {
       "_model_module_version": "2.0.0",
       "_view_module_version": "2.0.0",
       "border_bottom": null,
       "border_left": null,
       "border_right": null,
       "border_top": null
      }
     },
     "c8cddf5352734ec1acb3b8d01bb34fa4": {
      "model_module": "@jupyter-widgets/base",
      "model_module_version": "2.0.0",
      "model_name": "LayoutModel",
      "state": {
       "_model_module_version": "2.0.0",
       "_view_module_version": "2.0.0",
       "border_bottom": null,
       "border_left": null,
       "border_right": null,
       "border_top": null
      }
     },
     "d4305e2a7c034092b1611386b6447c98": {
      "model_module": "@jupyter-widgets/base",
      "model_module_version": "2.0.0",
      "model_name": "LayoutModel",
      "state": {
       "_model_module_version": "2.0.0",
       "_view_module_version": "2.0.0",
       "border_bottom": null,
       "border_left": null,
       "border_right": null,
       "border_top": null
      }
     },
     "db82f8a7bc2d49498b9ee281e79d5d6a": {
      "model_module": "@jupyter-widgets/base",
      "model_module_version": "1.2.0",
      "model_name": "LayoutModel",
      "state": {}
     },
     "e296c068e9fe4935b8e1735d893200bc": {
      "model_module": "@jupyter-widgets/base",
      "model_module_version": "1.2.0",
      "model_name": "LayoutModel",
      "state": {}
     },
     "f6e898908817460a9746dcf69c8893a7": {
      "model_module": "evince",
      "model_module_version": "^0.31.0",
      "model_name": "BraketModel",
      "state": {
       "_model_module_version": "^0.31.0",
       "_view_module_version": "^0.31.0",
       "additive": false,
       "ao": [
        1
       ],
       "bg_color": [
        1,
        1,
        1
       ],
       "fragment_shader": "uniform vec3 user_color;\nuniform float time;\n\nvarying vec2 vUv;\nvarying vec3 pos;\nvarying vec3 tex;\nvarying float q;\nvarying float csI;\nvarying float csR;\nvarying float cs0;\nvarying float cs;\n\nvoid main() {\n\n    vec2 p = vUv;\n    float q = tex[0]*tex[0] ;\n    float cs0 = 1.0*exp(-0.10000000000000001*q)*sin(2.0*tex[0]);\n    float csI = 0.0 ;\n    float csR = cs0 ;\n    csR = smoothstep(0.9*tex[1], tex[1], csR);\n    csI = smoothstep(0.9*tex[1], tex[1], csI);\n    gl_FragColor = gl_FragColor + vec4(csR + .06*csI, csR + .1*csI, .7*csR + .5*csI, 1.0);\n}",
       "layout": "IPY_MODEL_c8449e9cfabd43dc980297cabbdff70d",
       "pos": [],
       "surf": [],
       "surface_view": true,
       "tabbable": null,
       "tooltip": null
      }
     },
     "fbccbbb4ad014f51948c3c7abbe640d8": {
      "model_module": "@jupyter-widgets/base",
      "model_module_version": "1.2.0",
      "model_name": "LayoutModel",
      "state": {}
     },
     "ff879fb93c7548c2a92dd81f38a70c8f": {
      "model_module": "@jupyter-widgets/base",
      "model_module_version": "1.2.0",
      "model_name": "LayoutModel",
      "state": {}
     }
    },
    "version_major": 2,
    "version_minor": 0
   }
  }
 },
 "nbformat": 4,
 "nbformat_minor": 5
}
