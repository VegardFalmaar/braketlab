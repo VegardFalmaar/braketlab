{
 "cells": [
  {
   "cell_type": "markdown",
   "id": "90f2c54b",
   "metadata": {},
   "source": [
    "# Importing BraketLab\n",
    "\n",
    "---"
   ]
  },
  {
   "cell_type": "markdown",
   "id": "1aa50e95",
   "metadata": {},
   "source": [
    "When running a typical BraketLab-session, you'll likely want to do module import as follows:"
   ]
  },
  {
   "cell_type": "code",
   "execution_count": 3,
   "id": "0fd5b62a",
   "metadata": {},
   "outputs": [],
   "source": [
    "import numpy as np\n",
    "import matplotlib.pyplot as plt\n",
    "\n",
    "import braketlab as bk\n",
    "\n",
    "# enable interactive matplolib\n",
    "%matplotlib notebook \n"
   ]
  },
  {
   "cell_type": "markdown",
   "id": "5e107279",
   "metadata": {},
   "source": [
    "You will then be able to use all BraketLab-functionality under the ```bk```-namespace."
   ]
  }
 ],
 "metadata": {
  "kernelspec": {
   "display_name": "Python 3 (ipykernel)",
   "language": "python",
   "name": "python3"
  },
  "language_info": {
   "codemirror_mode": {
    "name": "ipython",
    "version": 3
   },
   "file_extension": ".py",
   "mimetype": "text/x-python",
   "name": "python",
   "nbconvert_exporter": "python",
   "pygments_lexer": "ipython3",
   "version": "3.10.6"
  }
 },
 "nbformat": 4,
 "nbformat_minor": 5
}
