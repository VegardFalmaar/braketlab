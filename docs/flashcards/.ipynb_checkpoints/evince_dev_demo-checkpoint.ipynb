{
 "cells": [
  {
   "cell_type": "code",
   "execution_count": null,
   "id": "5f8617d2",
   "metadata": {},
   "outputs": [],
   "source": [
    "import bubblebox as bb\n",
    "import evince as ev\n",
    "import numpy as np\n",
    "\n",
    "from ipywidgets.embed import embed_minimal_html"
   ]
  },
  {
   "cell_type": "code",
   "execution_count": null,
   "id": "bed3a83d",
   "metadata": {},
   "outputs": [],
   "source": [
    "b = bb.mdbox(10,size=(8,8,8))\n",
    "\n",
    "#b = bb.showcase.fcc_system(lattice_parameter=5.0)\n",
    "\n",
    "b.masses = 1 + np.exp(-.1*np.sum(b.pos**2, axis = 0)**.5)\n",
    "\n",
    "bonds = np.random.choice(10, 10, replace = False).reshape(-1,2).tolist()"
   ]
  },
  {
   "cell_type": "code",
   "execution_count": null,
   "id": "a6d75386",
   "metadata": {},
   "outputs": [],
   "source": [
    "ev.SpotlightView(b, window_scale_height=0.5, window_scale_width = .5, fxaa= True, dof = True, sao = True, bg_color = [1.0,1.0,1.0], focus = 5, aperture = .001, max_blur = .02, bonds = bonds, saoScale = 10, saoIntensity = 0.1)\n",
    "\n"
   ]
  },
  {
   "cell_type": "code",
   "execution_count": null,
   "id": "a2ee8c36",
   "metadata": {},
   "outputs": [],
   "source": [
    "b = bb.showcase.throttle_2d()\n",
    "\n",
    "ev.SpotlightView(b, fxaa= False, dof = True, sao = False, bg_color = [1.0,1.0,1.0], focus = 5, aperture = .001, max_blur = .03, bonds = bonds, saoScale = 10, saoIntensity = 0.1)\n"
   ]
  },
  {
   "cell_type": "code",
   "execution_count": null,
   "id": "fe18d875",
   "metadata": {},
   "outputs": [],
   "source": [
    "for i in range(1000):\n",
    "    for j in range(3):\n",
    "        b.advance()\n",
    "    bv.pos = b.pos.T.tolist()\n",
    "    #bv.pos = b.pos.T.tolist()"
   ]
  },
  {
   "cell_type": "code",
   "execution_count": null,
   "id": "7a4e111d",
   "metadata": {},
   "outputs": [],
   "source": [
    "b.pos.T.tolist()"
   ]
  },
  {
   "cell_type": "code",
   "execution_count": null,
   "id": "c20adee2",
   "metadata": {},
   "outputs": [],
   "source": [
    "# run the first cell before presentation\n",
    "\n",
    "import bubblebox as bb\n",
    "from bubblebox.mdbox import lj_force, hook_force, no_force, coulomb_force\n",
    "import numpy as np\n",
    "import matplotlib.pyplot as plt\n",
    "\n",
    "def ring_connector(ring_configuration, connection_pattern = None):\n",
    "    \n",
    "    connections = []\n",
    "    \n",
    "    \n",
    "    # create unconnected rings\n",
    "    for i in range(len(ring_configuration)):\n",
    "        # shift indices of rings\n",
    "        dR = int(np.sum(ring_configuration[:i]))\n",
    "        \n",
    "        # create current ring\n",
    "        current_connections = []\n",
    "        for j in range(ring_configuration[i]):\n",
    "            current_connections.append([(1+j)%ring_configuration[i]+dR,(-1+j)%ring_configuration[i]+dR])\n",
    "        \n",
    "        connections.append(current_connections)\n",
    "        \n",
    "    \n",
    "    unconnected_edges = ring_configuration*1\n",
    "    \n",
    "    # connect rings sucessively\n",
    "    for i in range(len(ring_configuration)-1):\n",
    "        \n",
    "        # how many exterior sites per internal site?\n",
    "       \n",
    "        inner = np.linspace(-1,1,unconnected_edges[i]+1)[:-1]\n",
    "        outer = np.linspace(-1,1,ring_configuration[i+1]+1)[:-1]\n",
    "        \n",
    "        ci = np.argmin((inner[:, None] - outer[None, :])**2, axis = 1)\n",
    "\n",
    "        \n",
    "        if connection_pattern is None:\n",
    "\n",
    "\n",
    "            inc = ring_configuration[i+1]/ unconnected_edges[i]\n",
    "            #print(\"increment:\", inc)\n",
    "\n",
    "            k = 0\n",
    "\n",
    "\n",
    "            for j in range(ring_configuration[i]):\n",
    "                if len(connections[i][j])<3:\n",
    "                    connect_k = (int(np.ceil(k*inc))+i//2)%ring_configuration[i+1]\n",
    "                    connections[i  ][j].append(connect_k + np.sum(ring_configuration[:i+1]))\n",
    "                    connections[i+1][connect_k].append(j + np.sum(ring_configuration[:i]))\n",
    "\n",
    "\n",
    "                    #book-keeping\n",
    "                    unconnected_edges[i+1] -= 1\n",
    "                    unconnected_edges[i  ] -= 1\n",
    "\n",
    "                    k += 1\n",
    "        else:\n",
    "            nc = len(connection_pattern[i])\n",
    "            \n",
    "            \n",
    "            repeat_times = ring_configuration[i+1]/nc\n",
    "            \n",
    "\n",
    "            \n",
    "            \n",
    "            connection_i = []# \n",
    "            for j in range(int(repeat_times)):\n",
    "                connection_i += connection_pattern[i]\n",
    "                \n",
    "            outer_connection_sites = np.arange(ring_configuration[i+1])[np.array(connection_i)]\n",
    "            \n",
    "            k = 0\n",
    "            for j in range(ring_configuration[i]):\n",
    "                if len(connections[i][j])<3:\n",
    "                    #print(\"connecting\")\n",
    "                    connect_k = outer_connection_sites[k]\n",
    "                    connections[i  ][j].append(connect_k + np.sum(ring_configuration[:i+1]))\n",
    "                    connections[i+1][connect_k].append(j + np.sum(ring_configuration[:i]))\n",
    "\n",
    "\n",
    "                    #book-keeping\n",
    "                    unconnected_edges[i+1] -= 1\n",
    "                    unconnected_edges[i  ] -= 1\n",
    "\n",
    "                    k += 1\n",
    "                    \n",
    "                \n",
    "    # create final graph\n",
    "    graph = []\n",
    "    for layer in connections:\n",
    "        for connectivity in layer:\n",
    "            graph.append(connectivity)\n",
    "\n",
    "            \n",
    "    graph = np.array(graph)\n",
    "    \n",
    "\n",
    "    return graph\n",
    "\n",
    "def connected_structure(connection_indices, n_dimensions = 3):\n",
    "    n_atoms = connection_indices.shape[0]\n",
    "    \n",
    "    \n",
    "    b = bb.bubblebox.mdbox(n_bubbles = n_atoms, size = (np.ones(n_dimensions, dtype = float)*20).tolist())\n",
    "    \n",
    "\n",
    "    \n",
    "    b.set_forces(coulomb_force, force_params = np.array([7.0,7.0]))\n",
    "    \n",
    "    \n",
    "    \n",
    "    for i in range(n_atoms):\n",
    "        # connect atom i to the respective atoms\n",
    "        bubbles_a = np.zeros(n_atoms, dtype = bool)\n",
    "        bubbles_a[i] = True\n",
    "            \n",
    "        for j in range(len(connection_indices[i])):\n",
    "            \n",
    "            \n",
    "            bubbles_b = np.zeros(n_atoms, dtype = bool)\n",
    "            bubbles_b[connection_indices[i,j]] = True\n",
    "            \n",
    "            #print(bubbles_a, bubbles_b)\n",
    "            \n",
    "            b.set_forces(hook_force, bubbles_a = bubbles_a, bubbles_b = bubbles_b, force_params = np.array([20,3]))\n",
    "    b.r2_cut = 100000\n",
    "    #b.pos += np.random.multivariate_normal(np.zeros(3), np.eye(3)*.1, n_atoms).T\n",
    "    #b.pos = b.pos[:, np.random.choice(n_atoms, n_atoms, replace = False)]\n",
    "    b.pair_list_update_frequency = 2\n",
    "    return b\n",
    "\n",
    "# visualize ring\n",
    "\n",
    "def show_graph(ring_configuration, connectivity):\n",
    "    \n",
    "    \n",
    "    pos = np.zeros((3, np.sum(ring_configuration)), dtype = float)\n",
    "    \n",
    "    count = 0\n",
    "    \n",
    "    count_sum = np.cumsum(ring_configuration)\n",
    "    for i in range(len(ring_configuration)):\n",
    "        t = np.linspace(0,2*np.pi, ring_configuration[i]+1)[:-1] \n",
    "        #print(int(np.sum(ring_configuration[:i])),int(np.sum(ring_configuration[:i])+ring_configuration[i]))\n",
    "        pos[:,int(np.sum(ring_configuration[:i])):int(np.sum(ring_configuration[:i])+ring_configuration[i])] = np.array([(i+1)*np.sin(t), (i+1)*np.cos(t), 0*t])\n",
    "                   \n",
    "    #print(pos)\n",
    "    plt.figure(figsize = (8,8))\n",
    "    plt.plot(pos[0], pos[1], \"o\", color = (0,0,0))\n",
    "    \n",
    "    for i in range(len(connectivity)):\n",
    "        pi = pos[:,i]\n",
    "        for j in range(len(connectivity[i])):\n",
    "            pj = pos[:, int(connectivity[i,j])]\n",
    "            \n",
    "            plt.plot([pi[0], pj[0]], [pi[1], pj[1]], \"-\", color = (0,0,0), zorder = -1)\n",
    "            \n",
    "            \n",
    "            \n",
    "        \n",
    "    plt.axis(\"off\")\n",
    "    plt.show()\n",
    "    return pos\n",
    "\n",
    "connection_pattern = [[False, True , False],\n",
    "[False, False, True, True],\n",
    "[True, False, True],\n",
    "[True]] #working\n",
    "\n",
    "\n",
    "#connection_pattern = [[True, False , False],\n",
    "#[False, True, True, False],\n",
    "#[False, True, True],\n",
    "#[True]]\n",
    "\n",
    "ring = np.array([5,15,20,15,5]) #c60\n",
    "\n",
    "m = ring_connector(ring, connection_pattern)\n"
   ]
  },
  {
   "cell_type": "code",
   "execution_count": null,
   "id": "ea4e8b8d",
   "metadata": {},
   "outputs": [],
   "source": [
    "pos = show_graph(ring, m)"
   ]
  },
  {
   "cell_type": "code",
   "execution_count": null,
   "id": "af1aa034",
   "metadata": {},
   "outputs": [],
   "source": [
    "b = connected_structure(np.array(m, dtype = int))\n",
    "b.pos = pos\n",
    "b.pos[2] += .1*np.sqrt(pos[0]**2 + pos[1]**2)\n",
    "b.view()"
   ]
  },
  {
   "cell_type": "code",
   "execution_count": null,
   "id": "322357cc",
   "metadata": {},
   "outputs": [],
   "source": [
    "# relax structure\n",
    "\n",
    "for i in range(10000):\n",
    "    for j in range(3):\n",
    "        b.advance()\n",
    "    b.vel_ *= 0.99\n",
    "    b.update_view()"
   ]
  },
  {
   "cell_type": "code",
   "execution_count": null,
   "id": "f1833941",
   "metadata": {},
   "outputs": [],
   "source": [
    "b.pos *= 2\n",
    "bonds = ev.spotlight.extract_bonds(b)\n",
    "mv = ev.SpotlightView(b, window_scale_height=1.0,window_scale_width=1.0, realism = True, sao = True, dof = True, fxaa = True, bonds = bonds, bg_color = [0.0,0.05,0.0], focus = 8, aperture = .0010, max_blur = .01,\n",
    "                 saoScale = 360, saoIntensity = 1.5, saoKernelRadius=1, saoMinResolution=100)\n",
    "\n",
    "mv"
   ]
  },
  {
   "cell_type": "code",
   "execution_count": null,
   "id": "c2ef4d76",
   "metadata": {},
   "outputs": [],
   "source": [
    "embed_minimal_html(\"c60_2.html\", [mv])"
   ]
  },
  {
   "cell_type": "code",
   "execution_count": null,
   "id": "be4ce72d",
   "metadata": {},
   "outputs": [],
   "source": [
    "b = bb.showcase.double_harmonic_chain(180)\n",
    "#b.masses = np.random.randint(1,10,80)\n",
    "b.view()"
   ]
  },
  {
   "cell_type": "code",
   "execution_count": null,
   "id": "7b5e42cb",
   "metadata": {},
   "outputs": [],
   "source": [
    "# relax structure\n",
    "\n",
    "for i in range(10000):\n",
    "    for j in range(3):\n",
    "        b.advance()\n",
    "    b.vel_ *= 0.99\n",
    "    b.update_view()"
   ]
  },
  {
   "cell_type": "code",
   "execution_count": null,
   "id": "124103f3",
   "metadata": {},
   "outputs": [],
   "source": [
    "#b.masses = np.random.randint(1,15,b.pos.shape[0])\n",
    "#print(b.masses)\n",
    "#b.pos *= 2\n",
    "bonds = ev.spotlight.extract_bonds(b)\n",
    "ev.SpotlightView(b, sao = True, dof = True, fxaa = True, bonds = bonds, realism = True, bg_color = [1.0,1.0,1.0], focus = 8, aperture = .00001, max_blur = 0.01,\n",
    "                 saoScale = 1.9, saoIntensity = 0.01, saoKernelRadius=60, saoMinResolution=3, saoBlur = False)"
   ]
  },
  {
   "cell_type": "code",
   "execution_count": null,
   "id": "f6c8cbbc",
   "metadata": {},
   "outputs": [],
   "source": [
    "ev.spotlight.colorscheme(b.masses).tolist()"
   ]
  },
  {
   "cell_type": "code",
   "execution_count": null,
   "id": "7201657e",
   "metadata": {},
   "outputs": [],
   "source": [
    "def extract_bonds(b):\n",
    "    bonds = []\n",
    "    for i in range(b.n_bubbles):\n",
    "        for j in range(i+1, b.n_bubbles):\n",
    "            if b.interactions[i,j,0] == 2.0:\n",
    "                #print(\"Harmonmic\", i,j)\n",
    "                bonds.append([i,j])\n",
    "                \n",
    "    return bonds"
   ]
  },
  {
   "cell_type": "code",
   "execution_count": null,
   "id": "e6e56db6",
   "metadata": {},
   "outputs": [],
   "source": [
    "b.interactions[0,1]"
   ]
  },
  {
   "cell_type": "code",
   "execution_count": null,
   "id": "9165e974",
   "metadata": {},
   "outputs": [],
   "source": [
    "ev.MDView()"
   ]
  },
  {
   "cell_type": "code",
   "execution_count": null,
   "id": "47ba3885",
   "metadata": {},
   "outputs": [],
   "source": [
    "b = bb.mdbox(100**2, size = (40,40))\n",
    "b.masses = 1 + 2*np.exp(-np.sum(b.pos**2, axis = 0)**.5)\n",
    "b.view()"
   ]
  },
  {
   "cell_type": "code",
   "execution_count": null,
   "id": "81880694",
   "metadata": {},
   "outputs": [],
   "source": []
  }
 ],
 "metadata": {
  "kernelspec": {
   "display_name": "Python 3 (ipykernel)",
   "language": "python",
   "name": "python3"
  },
  "language_info": {
   "codemirror_mode": {
    "name": "ipython",
    "version": 3
   },
   "file_extension": ".py",
   "mimetype": "text/x-python",
   "name": "python",
   "nbconvert_exporter": "python",
   "pygments_lexer": "ipython3",
   "version": "3.10.6"
  }
 },
 "nbformat": 4,
 "nbformat_minor": 5
}
