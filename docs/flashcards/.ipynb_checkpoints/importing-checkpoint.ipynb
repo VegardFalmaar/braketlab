{
 "cells": [
  {
   "cell_type": "markdown",
   "id": "851ea592",
   "metadata": {},
   "source": [
    "# Initializing BraketLab\n",
    "\n",
    "---"
   ]
  },
  {
   "cell_type": "markdown",
   "id": "a2eb97cf",
   "metadata": {},
   "source": [
    "When running a typical BraketLab-session, you'll likely want to do module import as follows:"
   ]
  },
  {
   "cell_type": "code",
   "execution_count": 3,
   "id": "67e4238e",
   "metadata": {},
   "outputs": [],
   "source": [
    "import numpy as np\n",
    "import matplotlib.pyplot as plt\n",
    "\n",
    "import braketlab as bk\n",
    "\n",
    "# enable interactive matplolib\n",
    "%matplotlib notebook \n"
   ]
  },
  {
   "cell_type": "markdown",
   "id": "100ea1f6",
   "metadata": {},
   "source": [
    "You will then be able to use all BraketLab-functionality under the ```bk```-namespace."
   ]
  }
 ],
 "metadata": {
  "kernelspec": {
   "display_name": "Python 3 (ipykernel)",
   "language": "python",
   "name": "python3"
  },
  "language_info": {
   "codemirror_mode": {
    "name": "ipython",
    "version": 3
   },
   "file_extension": ".py",
   "mimetype": "text/x-python",
   "name": "python",
   "nbconvert_exporter": "python",
   "pygments_lexer": "ipython3",
   "version": "3.8.9"
  }
 },
 "nbformat": 4,
 "nbformat_minor": 5
}
