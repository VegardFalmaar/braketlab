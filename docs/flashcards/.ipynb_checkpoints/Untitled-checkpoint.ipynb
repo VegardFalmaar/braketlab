{
 "cells": [
  {
   "cell_type": "code",
   "execution_count": 3,
   "id": "1cc8c898",
   "metadata": {},
   "outputs": [],
   "source": [
    "import numpy as np\n",
    "import braketlab as bk\n",
    "import evince as ev"
   ]
  },
  {
   "cell_type": "code",
   "execution_count": 14,
   "id": "096ec0ca",
   "metadata": {},
   "outputs": [
    {
     "data": {
      "application/vnd.jupyter.widget-view+json": {
       "model_id": "085af8781a6942d988cf6d0fcbbf2b40",
       "version_major": 2,
       "version_minor": 0
      },
      "text/plain": [
       "BraketView(ao=[1], bg_color=[0.1, 0.1, 1000.0], fragment_shader='uniform vec3 user_color;\\nuniform float time;…"
      ]
     },
     "metadata": {},
     "output_type": "display_data"
    }
   ],
   "source": [
    "p = bk.basisbank.get_harmonic_oscillator_function(2)\n",
    "\n",
    "pe = ev.BraketView(p, bg_color = [0.1,.1,1.0])\n",
    "pe"
   ]
  },
  {
   "cell_type": "code",
   "execution_count": null,
   "id": "1e53f673",
   "metadata": {},
   "outputs": [],
   "source": [
    "pe.bg_color"
   ]
  },
  {
   "cell_type": "code",
   "execution_count": null,
   "id": "50b4b1b0",
   "metadata": {},
   "outputs": [],
   "source": [
    "from braketlab import ket, get_ordered_symbols"
   ]
  },
  {
   "cell_type": "code",
   "execution_count": null,
   "id": "841c92eb",
   "metadata": {},
   "outputs": [],
   "source": []
  }
 ],
 "metadata": {
  "kernelspec": {
   "display_name": "Python 3 (ipykernel)",
   "language": "python",
   "name": "python3"
  },
  "language_info": {
   "codemirror_mode": {
    "name": "ipython",
    "version": 3
   },
   "file_extension": ".py",
   "mimetype": "text/x-python",
   "name": "python",
   "nbconvert_exporter": "python",
   "pygments_lexer": "ipython3",
   "version": "3.8.9"
  }
 },
 "nbformat": 4,
 "nbformat_minor": 5
}
