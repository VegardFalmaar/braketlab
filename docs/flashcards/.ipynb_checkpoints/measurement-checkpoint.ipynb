{
 "cells": [
  {
   "cell_type": "markdown",
   "id": "485bbf13",
   "metadata": {},
   "source": [
    "# Measurement\n",
    "\n",
    "---"
   ]
  },
  {
   "cell_type": "markdown",
   "id": "0fdef9ac",
   "metadata": {},
   "source": [
    "## Measuring position"
   ]
  },
  {
   "cell_type": "markdown",
   "id": "930e9a11",
   "metadata": {},
   "source": [
    "Real quantum system are *measurable*. This property and physical effect is complicated to model with just pen and paper, since it relies on a component of 'dice-throwing'. Computationally, using a Metropolis-Hastings random walk algorithm, the process of measurement becomes instead rather straightforward.\n",
    "\n",
    "BraketLab models **measurable** kets, meaning you may do as follows:"
   ]
  },
  {
   "cell_type": "code",
   "execution_count": 1,
   "id": "b6a936a5",
   "metadata": {},
   "outputs": [
    {
     "data": {
      "image/png": "[encoded data removed]",
      "text/plain": [
       "<Figure size 640x480 with 1 Axes>"
      ]
     },
     "metadata": {},
     "output_type": "display_data"
    }
   ],
   "source": [
    "import braketlab as bk\n",
    "import matplotlib.pyplot as plt\n",
    "import numpy as np\n",
    "\n",
    "\n",
    "p = bk.basisbank.get_harmonic_oscillator_function(5)\n",
    "\n",
    "m = p.measure(repetitions = 10000) # measure position, repeat experiment 10000 times with reset\n",
    "\n",
    "# visualize results\n",
    "population, bins = np.histogram(m, bins = 61)\n",
    "plt.figure()\n",
    "plt.plot(.5*(bins[1:]+bins[:-1]), population, \".\")\n",
    "plt.xlabel(\"Position\")\n",
    "plt.ylabel(\"Population\")\n",
    "plt.show()"
   ]
  },
  {
   "cell_type": "markdown",
   "id": "2e389b62",
   "metadata": {},
   "source": [
    "## Arbitrary measurements \n",
    "\n",
    "**Disclaimer:** this feature is still a on the experimental stage, and will be more tested in the future.\n",
    "\n",
    "If you provide the measurement-method with a Hermitian operator with it's eigenstates, the outputs will distribute correspondngly with a projection onto the eigenstates of the operator. (This feature presupposes, however, that the operator has a set of eigenfunctions, which currently no operators in BraketLab posess by default. But feel free to experiment.\n",
    "\n",
    "In the following example, we create the Hamiltonian of the Harmonic Oscillator with a truncated set of eigenfunctions. We thereafter measure the energy. "
   ]
  },
  {
   "cell_type": "code",
   "execution_count": 2,
   "id": "ad4cd9b8",
   "metadata": {},
   "outputs": [],
   "source": [
    "x = bk.get_default_variables(0, 1)[0]"
   ]
  },
  {
   "cell_type": "code",
   "execution_count": 3,
   "id": "0d6a7dfa",
   "metadata": {},
   "outputs": [],
   "source": [
    "n = 2\n",
    "\n",
    "psi = bk.basisbank.get_harmonic_oscillator_function(2)\n",
    "\n",
    "Hpsi = (bk.get_kinetic_operator() *psi + .5*x**2*psi)\n",
    "\n"
   ]
  },
  {
   "cell_type": "code",
   "execution_count": 4,
   "id": "d3cc88e1",
   "metadata": {},
   "outputs": [
    {
     "name": "stdout",
     "output_type": "stream",
     "text": [
      "Energy 2 = 2.500000\n"
     ]
    }
   ],
   "source": [
    "E_n = psi.bra@Hpsi\n",
    "print(\"Energy %i = %f\" % (n, E_n))"
   ]
  },
  {
   "cell_type": "code",
   "execution_count": 15,
   "id": "1216a7cb",
   "metadata": {},
   "outputs": [
    {
     "name": "stdout",
     "output_type": "stream",
     "text": [
      "Eigenvalues: [0.5 1.5 2.5 3.5 4.5 5.5]\n",
      "[3.15544362e-30 0.00000000e+00 1.00000000e+00 0.00000000e+00\n",
      " 5.89816045e-34 0.00000000e+00]\n",
      "stepsize: 0.08333333333333333\n",
      "Measurement outcome: [2.5 2.5 2.5 2.5 2.5 2.5 2.5 2.5 2.5 2.5 2.5 2.5 2.5 2.5 2.5 2.5 2.5 2.5\n",
      " 2.5 2.5 2.5 2.5 2.5 2.5 2.5 2.5 2.5 2.5 2.5 2.5 2.5 2.5 2.5 2.5 2.5 2.5\n",
      " 2.5 2.5 2.5 2.5 2.5 2.5 2.5 2.5 2.5 2.5 2.5 2.5 2.5 2.5 2.5 2.5 2.5 2.5\n",
      " 2.5 2.5 2.5 2.5 2.5 2.5 2.5 2.5 2.5 2.5 2.5 2.5 2.5 2.5 2.5 2.5 2.5 2.5\n",
      " 2.5 2.5 2.5 2.5 2.5 2.5 2.5 2.5 2.5 2.5 2.5 2.5 2.5 2.5 2.5 2.5 2.5 2.5\n",
      " 2.5 2.5 2.5 2.5 2.5 2.5 2.5 2.5 2.5 2.5]\n"
     ]
    }
   ],
   "source": [
    "H = bk.get_kinetic_operator()  #making a dummy operator \n",
    "\n",
    "eigenstates = []\n",
    "eigenvalues = []\n",
    "for n in range(6):\n",
    "    eigenstates.append(bk.basisbank.get_harmonic_oscillator_function(n))\n",
    "    eigenvalues.append(eigenstates[-1].bra@(bk.get_kinetic_operator() *eigenstates[-1] + .5*x**2*eigenstates[-1]))\n",
    "\n",
    "H.eigenstates = np.array(eigenstates)\n",
    "H.eigenvalues = np.array(eigenvalues)\n",
    "#psi.measure(observable = H, repetitions = 100 )\n",
    "\n",
    "print(\"Eigenvalues:\", H.eigenvalues)\n",
    "print(\"Measurement outcome:\", psi.measure(observable = H, repetitions = 100 ))"
   ]
  },
  {
   "cell_type": "markdown",
   "id": "40082938",
   "metadata": {},
   "source": [
    "Let's also measure the energy of another distribution in the harmonic oscillator potential:"
   ]
  },
  {
   "cell_type": "code",
   "execution_count": 24,
   "id": "f80bacc9",
   "metadata": {},
   "outputs": [
    {
     "name": "stdout",
     "output_type": "stream",
     "text": [
      "[0.51227518 0.0640344  0.16053068 0.04819255 0.07297033 0.03014132]\n",
      "stepsize: 0.08333333333333333\n",
      "Measurement outcome: [0.5 0.5 0.5 0.5 0.5 0.5 0.5 0.5 0.5 0.5 0.5 0.5 0.5 0.5 0.5 0.5 0.5 0.5\n",
      " 0.5 0.5 0.5 0.5 0.5 0.5 0.5 0.5 0.5 0.5 0.5 0.5 0.5 0.5 0.5 0.5 0.5 0.5\n",
      " 0.5 0.5 0.5 0.5 0.5 0.5 0.5 0.5 0.5 0.5 0.5 0.5 0.5 0.5 0.5 0.5 0.5 0.5\n",
      " 0.5 0.5 0.5 0.5 0.5 0.5 0.5 0.5 0.5 0.5 0.5 0.5 0.5 0.5 0.5 0.5 0.5 0.5\n",
      " 0.5 0.5 0.5 0.5 0.5 0.5 0.5 0.5 0.5 0.5 0.5 0.5 0.5 0.5 0.5 0.5 0.5 0.5\n",
      " 0.5 0.5 0.5 0.5 0.5 0.5 0.5 0.5 0.5 0.5]\n"
     ]
    }
   ],
   "source": [
    "import sympy as sp\n",
    "\n",
    "psi_d = bk.ket( sp.exp(-.1*(x-1.5)**2) ) \n",
    "\n",
    "psi_d = psi_d*(psi_d.bra@psi_d)**-.5\n",
    "\n",
    "print(\"Measurement outcome:\", psi_d.measure(observable = H, repetitions = 100 ))"
   ]
  }
 ],
 "metadata": {
  "kernelspec": {
   "display_name": "Python 3 (ipykernel)",
   "language": "python",
   "name": "python3"
  },
  "language_info": {
   "codemirror_mode": {
    "name": "ipython",
    "version": 3
   },
   "file_extension": ".py",
   "mimetype": "text/x-python",
   "name": "python",
   "nbconvert_exporter": "python",
   "pygments_lexer": "ipython3",
   "version": "3.10.6"
  }
 },
 "nbformat": 4,
 "nbformat_minor": 5
}
