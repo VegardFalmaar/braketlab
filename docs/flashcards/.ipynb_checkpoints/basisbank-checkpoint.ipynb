{
 "cells": [
  {
   "cell_type": "markdown",
   "id": "38a18da2",
   "metadata": {},
   "source": [
    "# Basisbank\n",
    "\n",
    "---\n",
    "\n",
    "The ```braketlab.basisbank```-module provides many standard basis functions used in quantum theory. Here you'll find a brief description of the available functions and examples on how to instantiate them."
   ]
  },
  {
   "cell_type": "markdown",
   "id": "c6578903",
   "metadata": {},
   "source": [
    "## The quantum harmonic oscillator\n",
    "\n",
    "The Hamiltonian for the harmonic oscillator is\n",
    "\\begin{equation} \n",
    "    \\hat{H}_0 = \\frac{\\hat{p}_x^2}{2m_e}+\\frac{1}{2}m_e\\omega_\\text{HO}^2\\hat{x}^2,\n",
    "\\end{equation}\n",
    "where $\\hat{p}_x$ is the $x$ component of the momentum operator, $m_e$ is the electron mass and $\\omega_\\text{HO}$ is the classical frequency of the HO. \n",
    "\n",
    "The harmonic oscillator wave functions have the form\n",
    "\\begin{equation}\n",
    "   \\psi_n(x) = N_n H_n(x/x_0) e^{-\\frac{1}{2}(x/x_0)^2}, \\qquad n=0,1,2,\\ldots\n",
    "\\end{equation}\n",
    "where $N_n$ is a normalization constant,\n",
    "\\begin{equation}\n",
    "   N_n = \\sqrt{\\frac{1}{2^nn!\\pi^{1/2}x_0}}\n",
    "\\end{equation}\n",
    "and the functions $H_n(x/x_0)$ are Hermite polynomials, the first three of which are given by\n",
    "\\begin{align}\n",
    "   &H_0(y) = 1 \\\\\n",
    "   &H_1(y) = 2y \\\\\n",
    "   &H_2(y) = 4y^2 - 2\n",
    "\\end{align}\n",
    "The Hermite polynomials satisfy the recurrence relation\n",
    "\\begin{equation}\n",
    "   H_{n+1}(y) = 2yH_n(y) - \\frac{\\text{d}H_n(y)}{\\text{d}y}\n",
    "   = 2yH_n(y) - 2nH_{n-1}(y).\n",
    "\\end{equation}\n",
    "\n",
    "These functions can be obtained from basisbank as follows:"
   ]
  },
  {
   "cell_type": "code",
   "execution_count": 1,
   "id": "138f4566",
   "metadata": {},
   "outputs": [
    {
     "data": {
      "text/html": [
       "$\\vert 10 \\rangle$"
      ],
      "text/plain": [
       "<braketlab.core.ket at 0x12cb8e9b0>"
      ]
     },
     "execution_count": 1,
     "metadata": {},
     "output_type": "execute_result"
    }
   ],
   "source": [
    "import braketlab as bk\n",
    "import numpy as np\n",
    "\n",
    "n = 10\n",
    "p10 = bk.basisbank.get_harmonic_oscillator_function(n)\n",
    "p10"
   ]
  },
  {
   "cell_type": "code",
   "execution_count": 2,
   "id": "45840a9b",
   "metadata": {},
   "outputs": [
    {
     "data": {
      "application/vnd.jupyter.widget-view+json": {
       "model_id": "08eee1f13d6a489fb53a36c03e447235",
       "version_major": 2,
       "version_minor": 0
      },
      "text/plain": [
       "BraketView(additive=False, ao=[1], bg_color=[1.0, 1.0, 1.0], fragment_shader='uniform vec3 user_color;\\nunifor…"
      ]
     },
     "execution_count": 2,
     "metadata": {},
     "output_type": "execute_result"
    }
   ],
   "source": [
    "p10.view(web = True)"
   ]
  },
  {
   "cell_type": "markdown",
   "id": "3407bdca",
   "metadata": {},
   "source": [
    "## The hydrogen atom\n",
    "\n",
    "**Disclaimer:** there are currently two problems affecting the Hydrogen-orbitals in BraketLab, set to be fixed in a future release. First, they are not properly normalized. Second, they do not visualize on Evince easily, due to how the imaginary part is treated in sympy. \n",
    "\n",
    "The radial Schrödinger equation for the Hydrogen atom is\n",
    "\\begin{equation}\n",
    "    \\left( -\\frac{\\hslash^2}{2\\mu}\\frac{\\text{d}^2}{\\text{d}r^2} + V_\\ell(r) \\right) f_{n\\ell}(r) = \\varepsilon_{n\\ell} f_{n\\ell}(r), \\qquad f_{n\\ell}(r) = rR_{n\\ell}(r),\n",
    "\\end{equation}\n",
    "where \n",
    "\\begin{equation}\n",
    "    V_\\ell(r) = V(r) + \\frac{\\ell(\\ell +1)\\hslash^2}{2\\mu r^2}\n",
    "\\end{equation}\n",
    "This equation can be solved analytically to give the real-valued functions\n",
    "\\begin{equation}\n",
    "    R_{n\\ell}(r) = \\sqrt{\\left(\\frac{2}{na}\\right)^3 \\frac{(n-\\ell-1)!}{2n[(n+\\ell)!]^3}}\n",
    "                   \\left( \\frac{2}{na} r \\right)^\\ell {\\cal L}^{2\\ell+1}_{n+1}(\\frac{2}{na}r) e^{-r/na}\n",
    "\\end{equation}\n",
    "where\n",
    "\\begin{equation}\n",
    "    a = \\frac{4\\pi\\epsilon_0\\hslash^2}{\\mu e^2}\n",
    "\\end{equation}\n",
    "has the dimension of length and the *associated Laguerre polynomials* are defined by\n",
    "\\begin{equation}\n",
    "    {\\cal L}_i^j(x) = \\frac{e^xx^{-j}}{i!} \\frac{\\text{d}^i}{\\text{d}x^i} (e^{-x}x^{i+j})\n",
    "\\end{equation}\n",
    "for non-negative integers $i$ and $j$.\n",
    "\n",
    "The full solution for the hydrogen atom can be cast as a product of the radial function and the <a href=\"https://en.wikipedia.org/wiki/Spherical_harmonics\">spherical harmonics</a>. From basisbank, you obtain these with"
   ]
  },
  {
   "cell_type": "code",
   "execution_count": 3,
   "id": "2514a79d",
   "metadata": {},
   "outputs": [
    {
     "data": {
      "text/html": [
       "$\\vert 1,0,0 \\rangle$"
      ],
      "text/plain": [
       "<braketlab.core.ket at 0x12cb8ccd0>"
      ]
     },
     "execution_count": 3,
     "metadata": {},
     "output_type": "execute_result"
    }
   ],
   "source": [
    "n = 1\n",
    "l = 0\n",
    "m = 0\n",
    "\n",
    "s = bk.basisbank.get_hydrogen_function(n,l,m)\n",
    "s"
   ]
  },
  {
   "cell_type": "code",
   "execution_count": 4,
   "id": "9167ceb8",
   "metadata": {},
   "outputs": [
    {
     "data": {
      "text/latex": [
       "$\\displaystyle \\frac{1.0 e^{- \\sqrt{x_{0; 0}^{2.0} + x_{0; 1}^{2.0} + x_{0; 2}^{2.0}}}}{\\sqrt{\\pi}}$"
      ],
      "text/plain": [
       "1.0*exp(-sqrt(x_{0; 0}**2.0 + x_{0; 1}**2.0 + x_{0; 2}**2.0))/sqrt(pi)"
      ]
     },
     "execution_count": 4,
     "metadata": {},
     "output_type": "execute_result"
    }
   ],
   "source": [
    "s.ket_sympy_expression"
   ]
  },
  {
   "cell_type": "markdown",
   "id": "6ba3ee92",
   "metadata": {},
   "source": [
    "## Solid harmonic Gaussian functions\n",
    "\n",
    "<a href=\"https://trygvehelgaker.no/Presentations/LosAngeles_2002.pdf\">Gaussian-type orbitals</a> are extensively used in quantum chemistry. You may load them from Basisbank with"
   ]
  },
  {
   "cell_type": "code",
   "execution_count": 5,
   "id": "cd700777",
   "metadata": {},
   "outputs": [
    {
     "data": {
      "text/latex": [
       "$\\displaystyle 0.622100336402066 \\left(x_{0; 0}^{2.0} - x_{0; 1}^{2.0}\\right) \\left(7.0 \\left(x_{0; 2} - 1.0\\right)^{2.0} - \\left(x_{0; 0}^{2.0} + x_{0; 1}^{2.0} + \\left(x_{0; 2} - 1.0\\right)^{2.0}\\right)^{1.0}\\right) e^{- \\left(x_{0; 0}^{2.0} + x_{0; 1}^{2.0} + \\left(x_{0; 2} - 1.0\\right)^{2.0}\\right) 1.0}$"
      ],
      "text/plain": [
       "0.622100336402066*(x_{0; 0}**2.0 - x_{0; 1}**2.0)*(7.0*(x_{0; 2} - 1.0)**2.0 - (x_{0; 0}**2.0 + x_{0; 1}**2.0 + (x_{0; 2} - 1.0)**2.0)**1.0)*exp(-(x_{0; 0}**2.0 + x_{0; 1}**2.0 + (x_{0; 2} - 1.0)**2.0)*1.0)"
      ]
     },
     "execution_count": 5,
     "metadata": {},
     "output_type": "execute_result"
    }
   ],
   "source": [
    "a = 1.0\n",
    "l = 4\n",
    "m = 2\n",
    "d3 = bk.basisbank.get_gto(a, l, m, position = np.array([0,0,1.0])) \n",
    "\n",
    "d3.ket_sympy_expression"
   ]
  },
  {
   "cell_type": "code",
   "execution_count": 6,
   "id": "0de1850b",
   "metadata": {},
   "outputs": [
    {
     "data": {
      "application/vnd.jupyter.widget-view+json": {
       "model_id": "ae99641a63494c3f8b64acb7e12bb49f",
       "version_major": 2,
       "version_minor": 0
      },
      "text/plain": [
       "BraketView(ao=[1], bg_color=[0.0, 0.0, 0.0], fragment_shader='uniform vec3 user_color;\\nuniform float time;\\n\\…"
      ]
     },
     "execution_count": 6,
     "metadata": {},
     "output_type": "execute_result"
    }
   ],
   "source": [
    "d3.view()"
   ]
  },
  {
   "cell_type": "markdown",
   "id": "15eec74d",
   "metadata": {},
   "source": [
    "## Slater type orbitals"
   ]
  },
  {
   "cell_type": "code",
   "execution_count": null,
   "id": "9b438366",
   "metadata": {},
   "outputs": [],
   "source": [
    "a = 1.0 #exponent\n",
    "w = 1 #prefactor/weight\n",
    "n = 1\n",
    "l = 4\n",
    "m = 2\n",
    "d3 = bk.basisbank.get_sto(a,w, n, l, m) \n",
    "\n",
    "d3.ket_sympy_expression"
   ]
  }
 ],
 "metadata": {
  "kernelspec": {
   "display_name": "Python 3 (ipykernel)",
   "language": "python",
   "name": "python3"
  },
  "language_info": {
   "codemirror_mode": {
    "name": "ipython",
    "version": 3
   },
   "file_extension": ".py",
   "mimetype": "text/x-python",
   "name": "python",
   "nbconvert_exporter": "python",
   "pygments_lexer": "ipython3",
   "version": "3.10.6"
  },
  "widgets": {
   "application/vnd.jupyter.widget-state+json": {
    "state": {
     "08eee1f13d6a489fb53a36c03e447235": {
      "model_module": "evince",
      "model_module_version": "^0.31.0",
      "model_name": "BraketModel",
      "state": {
       "_model_module_version": "^0.31.0",
       "_view_module_version": "^0.31.0",
       "additive": false,
       "ao": [
        1
       ],
       "bg_color": [
        1,
        1,
        1
       ],
       "fragment_shader": "uniform vec3 user_color;\nuniform float time;\n\nvarying vec2 vUv;\nvarying vec3 pos;\nvarying vec3 tex;\nvarying float q;\nvarying float csI;\nvarying float csR;\nvarying float cs0;\nvarying float cs;\n\nvoid main() {\n\n    vec2 p = vUv;\n    float q = tex[0]*tex[0] ;\n    float cs0 = (3.7261713638291734*q - 4.9682284851055645*pow(q, 2.0) + 1.9872913940422259*pow(q, 3.0) - 0.28389877057746082*pow(q, 4.0) + 0.012617723136776038*pow(q, 5.0) - 0.37261713638291738)*exp(-1.0/2.0*q);\n    float csI = -1.0*cs0*sin(10.500000*time) ;\n    float csR = cs0*cos(10.500000*time) ;\n    csR = smoothstep(0.9*tex[1], tex[1], csR);\n    csI = smoothstep(0.9*tex[1], tex[1], csI);\n    gl_FragColor = gl_FragColor + vec4(csR + .06*csI, csR + .1*csI, .7*csR + .5*csI, 1.0);\n}",
       "layout": "IPY_MODEL_bfdc941aec484a96bb2a5c633d50e464",
       "pos": [],
       "surf": [],
       "surface_view": true,
       "tabbable": null,
       "tooltip": null
      }
     },
     "2918d0153e874ed5ac17403fef0dd903": {
      "model_module": "evince",
      "model_module_version": "^0.30.0",
      "model_name": "BraketModel",
      "state": {
       "_model_module_version": "^0.30.0",
       "_view_module_version": "^0.30.0",
       "additive": true,
       "ao": [
        1
       ],
       "bg_color": [
        0,
        0,
        0
       ],
       "fragment_shader": "uniform vec3 user_color;\nuniform float time;\n\nvarying vec2 vUv;\nvarying vec3 pos;\nvarying vec3 tex;\nvarying float q;\nvarying float csI;\nvarying float csR;\nvarying float cs0;\nvarying float cs;\n\nvoid main() {\n\n    vec2 p = vUv;\n    float q = tex[0]*tex[0] +tex[1]*tex[1] +tex[2]*tex[2] ;\n    float cs0 = 0.62210033640206641*(pow(tex[0], 2.0) - pow(tex[1], 2.0))*(7.0*pow(tex[2] - 1.0, 2.0) - pow(pow(tex[0], 2.0) + pow(tex[1], 2.0) + pow(tex[2] - 1.0, 2.0), 1.0))*exp(-1.0*pow(tex[0], 2.0) - 1.0*pow(tex[1], 2.0) - 1.0*pow(tex[2] - 1.0, 2.0));\n    float csI = 0.0 ;\n    float csR = cs0 ;\n    gl_FragColor = gl_FragColor + vec4(csR, csI, -1.0*csR, .1);\n}",
       "layout": "IPY_MODEL_6b643741d5c243df8e975370fc54f842",
       "pos": [],
       "surf": [],
       "surface_view": false,
       "tabbable": null,
       "tooltip": null
      }
     },
     "3ba6b76a96b54a76ad076c04259671aa": {
      "model_module": "@jupyter-widgets/base",
      "model_module_version": "2.0.0",
      "model_name": "LayoutModel",
      "state": {
       "_model_module_version": "2.0.0",
       "_view_module_version": "2.0.0",
       "border_bottom": null,
       "border_left": null,
       "border_right": null,
       "border_top": null
      }
     },
     "6b643741d5c243df8e975370fc54f842": {
      "model_module": "@jupyter-widgets/base",
      "model_module_version": "2.0.0",
      "model_name": "LayoutModel",
      "state": {
       "_model_module_version": "2.0.0",
       "_view_module_version": "2.0.0",
       "border_bottom": null,
       "border_left": null,
       "border_right": null,
       "border_top": null
      }
     },
     "ae99641a63494c3f8b64acb7e12bb49f": {
      "model_module": "evince",
      "model_module_version": "^0.31.0",
      "model_name": "BraketModel",
      "state": {
       "_model_module_version": "^0.31.0",
       "_view_module_version": "^0.31.0",
       "additive": true,
       "ao": [
        1
       ],
       "bg_color": [
        0,
        0,
        0
       ],
       "fragment_shader": "uniform vec3 user_color;\nuniform float time;\n\nvarying vec2 vUv;\nvarying vec3 pos;\nvarying vec3 tex;\nvarying float q;\nvarying float csI;\nvarying float csR;\nvarying float cs0;\nvarying float cs;\n\nvoid main() {\n\n    vec2 p = vUv;\n    float q = tex[0]*tex[0] +tex[1]*tex[1] +tex[2]*tex[2] ;\n    float cs0 = 0.62210033640206641*(pow(tex[0], 2.0) - pow(tex[1], 2.0))*(7.0*pow(tex[2] - 1.0, 2.0) - pow(pow(tex[0], 2.0) + pow(tex[1], 2.0) + pow(tex[2] - 1.0, 2.0), 1.0))*exp(-1.0*pow(tex[0], 2.0) - 1.0*pow(tex[1], 2.0) - 1.0*pow(tex[2] - 1.0, 2.0));\n    float csI = 0.0 ;\n    float csR = cs0 ;\n    gl_FragColor = gl_FragColor + vec4(csR, csI, -1.0*csR, .1);\n}",
       "layout": "IPY_MODEL_bc5ad8a968094e6e9624f898d46433f6",
       "pos": [],
       "surf": [],
       "surface_view": false,
       "tabbable": null,
       "tooltip": null
      }
     },
     "b95ebef04a5347f1976d9680ae6bbfc9": {
      "model_module": "evince",
      "model_module_version": "^0.30.0",
      "model_name": "BraketModel",
      "state": {
       "_model_module_version": "^0.30.0",
       "_view_module_version": "^0.30.0",
       "additive": false,
       "ao": [
        1
       ],
       "bg_color": [
        1,
        1,
        1
       ],
       "fragment_shader": "uniform vec3 user_color;\nuniform float time;\n\nvarying vec2 vUv;\nvarying vec3 pos;\nvarying vec3 tex;\nvarying float q;\nvarying float csI;\nvarying float csR;\nvarying float cs0;\nvarying float cs;\n\nvoid main() {\n\n    vec2 p = vUv;\n    float q = tex[0]*tex[0] ;\n    float cs0 = (3.7261713638291734*q - 4.9682284851055645*pow(q, 2.0) + 1.9872913940422259*pow(q, 3.0) - 0.28389877057746082*pow(q, 4.0) + 0.012617723136776038*pow(q, 5.0) - 0.37261713638291738)*exp(-1.0/2.0*q);\n    float csI = -1.0*cs0*sin(10.500000*time) ;\n    float csR = cs0*cos(10.500000*time) ;\n    csR = smoothstep(0.9*tex[1], tex[1], csR);\n    csI = smoothstep(0.9*tex[1], tex[1], csI);\n    gl_FragColor = gl_FragColor + vec4(csR + .06*csI, csR + .1*csI, .7*csR + .5*csI, 1.0);\n}",
       "layout": "IPY_MODEL_3ba6b76a96b54a76ad076c04259671aa",
       "pos": [],
       "surf": [],
       "surface_view": true,
       "tabbable": null,
       "tooltip": null
      }
     },
     "bc5ad8a968094e6e9624f898d46433f6": {
      "model_module": "@jupyter-widgets/base",
      "model_module_version": "2.0.0",
      "model_name": "LayoutModel",
      "state": {
       "_model_module_version": "2.0.0",
       "_view_module_version": "2.0.0",
       "border_bottom": null,
       "border_left": null,
       "border_right": null,
       "border_top": null
      }
     },
     "bfdc941aec484a96bb2a5c633d50e464": {
      "model_module": "@jupyter-widgets/base",
      "model_module_version": "2.0.0",
      "model_name": "LayoutModel",
      "state": {
       "_model_module_version": "2.0.0",
       "_view_module_version": "2.0.0",
       "border_bottom": null,
       "border_left": null,
       "border_right": null,
       "border_top": null
      }
     }
    },
    "version_major": 2,
    "version_minor": 0
   }
  }
 },
 "nbformat": 4,
 "nbformat_minor": 5
}
