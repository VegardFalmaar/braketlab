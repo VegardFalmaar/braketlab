{
 "cells": [
  {
   "cell_type": "code",
   "execution_count": 1,
   "id": "c086b702",
   "metadata": {},
   "outputs": [],
   "source": [
    "import bubblebox as bb"
   ]
  },
  {
   "cell_type": "code",
   "execution_count": 2,
   "id": "9ab27388",
   "metadata": {},
   "outputs": [
    {
     "data": {
      "application/vnd.jupyter.widget-view+json": {
       "model_id": "9f7cc7b7ed2c4134a01bfb4976a92177",
       "version_major": 2,
       "version_minor": 0
      },
      "text/plain": [
       "BraketView(ao=[1], bg_color=[0.0, 0.0, 0.0], fragment_shader='uniform vec3 user_color;\\nuniform float time;\\n\\…"
      ]
     },
     "metadata": {},
     "output_type": "display_data"
    }
   ],
   "source": [
    "p = bk.basisbank.get_gto(1.0, 1,0)\n",
    "p.view()"
   ]
  },
  {
   "cell_type": "code",
   "execution_count": null,
   "id": "c0aff980",
   "metadata": {},
   "outputs": [],
   "source": []
  }
 ],
 "metadata": {
  "kernelspec": {
   "display_name": "Python 3 (ipykernel)",
   "language": "python",
   "name": "python3"
  },
  "language_info": {
   "codemirror_mode": {
    "name": "ipython",
    "version": 3
   },
   "file_extension": ".py",
   "mimetype": "text/x-python",
   "name": "python",
   "nbconvert_exporter": "python",
   "pygments_lexer": "ipython3",
   "version": "3.8.9"
  }
 },
 "nbformat": 4,
 "nbformat_minor": 5
}
