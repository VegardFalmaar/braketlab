{
 "cells": [
  {
   "cell_type": "markdown",
   "id": "d1add380",
   "metadata": {},
   "source": [
    "# Creating a ket\n",
    "\n",
    "---"
   ]
  },
  {
   "cell_type": "markdown",
   "id": "a60885dc",
   "metadata": {},
   "source": [
    "Many standard textbook functions can be obtained from the ```basisbank```-submodule, but creating custom kets from sympy expressions is straight forward.\n",
    "\n",
    "## ...from Basisbank\n",
    "\n",
    "For instance, to obtain a predefined ```basisbank``` S-type Slater orbital you may do as follows:"
   ]
  },
  {
   "cell_type": "code",
   "execution_count": 1,
   "id": "c47e18ff",
   "metadata": {},
   "outputs": [
    {
     "data": {
      "text/html": [
       "$\\vert \\chi_{2,0}^{2.00} \\rangle$"
      ],
      "text/plain": [
       "<braketlab.core.ket at 0x12b51efe0>"
      ]
     },
     "execution_count": 1,
     "metadata": {},
     "output_type": "execute_result"
    }
   ],
   "source": [
    "import braketlab as bk\n",
    "\n",
    "exponent = 2.0\n",
    "weight = 1.0\n",
    "quantum_number_n = 1.0\n",
    "quantum_number_l = 2.0\n",
    "quantum_number_m = 0.0\n",
    "\n",
    "psi_0 = bk.basisbank.get_sto(exponent,weight,quantum_number_n,quantum_number_l,quantum_number_m) # a Slater type orbital\n",
    "psi_0"
   ]
  },
  {
   "cell_type": "code",
   "execution_count": 2,
   "id": "ce7ba471",
   "metadata": {},
   "outputs": [
    {
     "data": {
      "text/latex": [
       "$\\displaystyle 1.0 \\cdot \\left(8.48528137423857 x_{0; 2}^{2.0} - 2.82842712474619 \\left(x_{0; 0}^{2.0} + x_{0; 1}^{2.0} + x_{0; 2}^{2.0}\\right)^{1.0}\\right) e^{- \\sqrt{x_{0; 0}^{2.0} + x_{0; 1}^{2.0} + x_{0; 2}^{2.0}} \\cdot 2.0}$"
      ],
      "text/plain": [
       "1.0*(8.48528137423857*x_{0; 2}**2.0 - 2.82842712474619*(x_{0; 0}**2.0 + x_{0; 1}**2.0 + x_{0; 2}**2.0)**1.0)*exp(-sqrt(x_{0; 0}**2.0 + x_{0; 1}**2.0 + x_{0; 2}**2.0)*2.0)"
      ]
     },
     "execution_count": 2,
     "metadata": {},
     "output_type": "execute_result"
    }
   ],
   "source": [
    "psi_0.ket_sympy_expression # show the sympy-expression"
   ]
  },
  {
   "cell_type": "code",
   "execution_count": 3,
   "id": "602522f1",
   "metadata": {},
   "outputs": [
    {
     "data": {
      "application/vnd.jupyter.widget-view+json": {
       "model_id": "3d37700dac1d4d2da80f9fe2417051e0",
       "version_major": 2,
       "version_minor": 0
      },
      "text/plain": [
       "BraketView(ao=[1], bg_color=[0.0, 0.0, 0.0], fragment_shader='uniform vec3 user_color;\\nuniform float time;\\n\\…"
      ]
     },
     "execution_count": 3,
     "metadata": {},
     "output_type": "execute_result"
    }
   ],
   "source": [
    "psi_0.view() # create a view (open the visualization module Evince)"
   ]
  },
  {
   "cell_type": "markdown",
   "id": "3c31dc49",
   "metadata": {},
   "source": [
    "## ...or from scratch\n",
    "\n",
    "If you would like to instead manually define your ket, you'll have to initialize it from a Sympy-function as follows:"
   ]
  },
  {
   "cell_type": "code",
   "execution_count": 4,
   "id": "e80fb8d2",
   "metadata": {},
   "outputs": [
    {
     "data": {
      "text/html": [
       "$\\vert \\varphi \\rangle$"
      ],
      "text/plain": [
       "<braketlab.core.ket at 0x12ba23bb0>"
      ]
     },
     "execution_count": 4,
     "metadata": {},
     "output_type": "execute_result"
    }
   ],
   "source": [
    "import braketlab as bk\n",
    "import sympy as sp\n",
    "\n",
    "x,y,z = bk.get_default_variables(0,3)   # Particle 0 has 3 coordinates\n",
    "                                        # This is not strictly necessary, but a safer solution for book-keping many body systems\n",
    "\n",
    "p = bk.ket( x*sp.sin(2.0*y)/(x**2 + y**2 + z**2)**2, name = \"\\\\varphi\" )\n",
    "p"
   ]
  },
  {
   "cell_type": "code",
   "execution_count": 5,
   "id": "c7211446",
   "metadata": {},
   "outputs": [
    {
     "data": {
      "text/latex": [
       "$\\displaystyle \\frac{1.0 x_{0; 0} \\sin{\\left(2.0 x_{0; 1} \\right)}}{\\left(x_{0; 0}^{2} + x_{0; 1}^{2} + x_{0; 2}^{2}\\right)^{2}}$"
      ],
      "text/plain": [
       "1.0*x_{0; 0}*sin(2.0*x_{0; 1})/(x_{0; 0}**2 + x_{0; 1}**2 + x_{0; 2}**2)**2"
      ]
     },
     "execution_count": 5,
     "metadata": {},
     "output_type": "execute_result"
    }
   ],
   "source": [
    "p.ket_sympy_expression"
   ]
  },
  {
   "cell_type": "code",
   "execution_count": 6,
   "id": "c45f1770",
   "metadata": {},
   "outputs": [
    {
     "data": {
      "application/vnd.jupyter.widget-view+json": {
       "model_id": "04e9a0a362c642f89e9e6f97f62e72ca",
       "version_major": 2,
       "version_minor": 0
      },
      "text/plain": [
       "BraketView(ao=[1], bg_color=[0.0, 0.0, 0.0], fragment_shader='uniform vec3 user_color;\\nuniform float time;\\n\\…"
      ]
     },
     "execution_count": 6,
     "metadata": {},
     "output_type": "execute_result"
    }
   ],
   "source": [
    "p.view()"
   ]
  },
  {
   "cell_type": "code",
   "execution_count": null,
   "id": "d6cfa27d",
   "metadata": {},
   "outputs": [],
   "source": []
  }
 ],
 "metadata": {
  "kernelspec": {
   "display_name": "Python 3 (ipykernel)",
   "language": "python",
   "name": "python3"
  },
  "language_info": {
   "codemirror_mode": {
    "name": "ipython",
    "version": 3
   },
   "file_extension": ".py",
   "mimetype": "text/x-python",
   "name": "python",
   "nbconvert_exporter": "python",
   "pygments_lexer": "ipython3",
   "version": "3.10.6"
  },
  "widgets": {
   "application/vnd.jupyter.widget-state+json": {
    "state": {
     "04e9a0a362c642f89e9e6f97f62e72ca": {
      "model_module": "evince",
      "model_module_version": "^0.31.0",
      "model_name": "BraketModel",
      "state": {
       "_model_module_version": "^0.31.0",
       "_view_module_version": "^0.31.0",
       "additive": true,
       "ao": [
        1
       ],
       "bg_color": [
        0,
        0,
        0
       ],
       "fragment_shader": "uniform vec3 user_color;\nuniform float time;\n\nvarying vec2 vUv;\nvarying vec3 pos;\nvarying vec3 tex;\nvarying float q;\nvarying float csI;\nvarying float csR;\nvarying float cs0;\nvarying float cs;\n\nvoid main() {\n\n    vec2 p = vUv;\n    float q = tex[0]*tex[0] +tex[1]*tex[1] +tex[2]*tex[2] ;\n    float cs0 = 1.0*tex[0]*sin(2.0*tex[1])/pow(pow(tex[0], 2.0) + pow(tex[1], 2.0) + pow(tex[2], 2.0), 2.0);\n    float csI = 0.0 ;\n    float csR = cs0 ;\n    gl_FragColor = gl_FragColor + vec4(csR, csI, -1.0*csR, .1);\n}",
       "layout": "IPY_MODEL_69bb6d6f97cd489fb59b7d2b60667f56",
       "pos": [],
       "surf": [],
       "surface_view": false,
       "tabbable": null,
       "tooltip": null
      }
     },
     "31c4f71ec3d54d6aa2760f7f872cbf82": {
      "model_module": "evince",
      "model_module_version": "^0.25.0",
      "model_name": "BraketModel",
      "state": {
       "_model_module_version": "^0.25.0",
       "_view_module_version": "^0.25.0",
       "ao": [
        1
       ],
       "fragment_shader": "uniform vec3 user_color;\nuniform float time;\n\nvarying vec2 vUv;\nvarying vec3 pos;\nvarying vec3 tex;\nvarying float q;\nvarying float csI;\nvarying float csR;\nvarying float cs0;\nvarying float cs;\n\nvoid main() {\n\n    vec2 p = vUv;\n    float q = tex[0]*tex[0] +tex[1]*tex[1] +tex[2]*tex[2] ;\n    float cs0 = (-2.8284271247461903*pow(q, 1.0) + 8.4852813742385713*pow(tex[2], 2.0))*exp(-2.0*sqrt(q));\n    float csI = 0.0 ;\n    float csR = cs0 ;\n    gl_FragColor = gl_FragColor + vec4(csR, csI, -1.0*csR, .1);\n}",
       "layout": "IPY_MODEL_664af76e8caf49038b29214e52352908",
       "pos": [],
       "surf": [],
       "surface_view": false
      }
     },
     "3d37700dac1d4d2da80f9fe2417051e0": {
      "model_module": "evince",
      "model_module_version": "^0.31.0",
      "model_name": "BraketModel",
      "state": {
       "_model_module_version": "^0.31.0",
       "_view_module_version": "^0.31.0",
       "additive": true,
       "ao": [
        1
       ],
       "bg_color": [
        0,
        0,
        0
       ],
       "fragment_shader": "uniform vec3 user_color;\nuniform float time;\n\nvarying vec2 vUv;\nvarying vec3 pos;\nvarying vec3 tex;\nvarying float q;\nvarying float csI;\nvarying float csR;\nvarying float cs0;\nvarying float cs;\n\nvoid main() {\n\n    vec2 p = vUv;\n    float q = tex[0]*tex[0] +tex[1]*tex[1] +tex[2]*tex[2] ;\n    float cs0 = (-2.8284271247461903*pow(q, 1.0) + 8.4852813742385713*pow(tex[2], 2.0))*exp(-2.0*sqrt(q));\n    float csI = 0.0 ;\n    float csR = cs0 ;\n    gl_FragColor = gl_FragColor + vec4(csR, csI, -1.0*csR, .1);\n}",
       "layout": "IPY_MODEL_e8daedfe28da475c9019492eea9e092d",
       "pos": [],
       "surf": [],
       "surface_view": false,
       "tabbable": null,
       "tooltip": null
      }
     },
     "664af76e8caf49038b29214e52352908": {
      "model_module": "@jupyter-widgets/base",
      "model_module_version": "1.2.0",
      "model_name": "LayoutModel",
      "state": {}
     },
     "69bb6d6f97cd489fb59b7d2b60667f56": {
      "model_module": "@jupyter-widgets/base",
      "model_module_version": "2.0.0",
      "model_name": "LayoutModel",
      "state": {
       "_model_module_version": "2.0.0",
       "_view_module_version": "2.0.0",
       "border_bottom": null,
       "border_left": null,
       "border_right": null,
       "border_top": null
      }
     },
     "8e02069bce164c0faa6bc774c48f266b": {
      "model_module": "evince",
      "model_module_version": "^0.25.0",
      "model_name": "BraketModel",
      "state": {
       "_model_module_version": "^0.25.0",
       "_view_module_version": "^0.25.0",
       "ao": [
        1
       ],
       "fragment_shader": "uniform vec3 user_color;\nuniform float time;\n\nvarying vec2 vUv;\nvarying vec3 pos;\nvarying vec3 tex;\nvarying float q;\nvarying float csI;\nvarying float csR;\nvarying float cs0;\nvarying float cs;\n\nvoid main() {\n\n    vec2 p = vUv;\n    float q = tex[0]*tex[0] +tex[1]*tex[1] +tex[2]*tex[2] ;\n    float cs0 = 1.0*tex[0]*sin(2.0*tex[1])/pow(pow(tex[0], 2.0) + pow(tex[1], 2.0) + pow(tex[2], 2.0), 2.0);\n    float csI = 0.0 ;\n    float csR = cs0 ;\n    gl_FragColor = gl_FragColor + vec4(csR, csI, -1.0*csR, .1);\n}",
       "layout": "IPY_MODEL_edb75a8a5df740989e3701626e55c307",
       "pos": [],
       "surf": [],
       "surface_view": false
      }
     },
     "e8daedfe28da475c9019492eea9e092d": {
      "model_module": "@jupyter-widgets/base",
      "model_module_version": "2.0.0",
      "model_name": "LayoutModel",
      "state": {
       "_model_module_version": "2.0.0",
       "_view_module_version": "2.0.0",
       "border_bottom": null,
       "border_left": null,
       "border_right": null,
       "border_top": null
      }
     },
     "edb75a8a5df740989e3701626e55c307": {
      "model_module": "@jupyter-widgets/base",
      "model_module_version": "1.2.0",
      "model_name": "LayoutModel",
      "state": {}
     }
    },
    "version_major": 2,
    "version_minor": 0
   }
  }
 },
 "nbformat": 4,
 "nbformat_minor": 5
}
