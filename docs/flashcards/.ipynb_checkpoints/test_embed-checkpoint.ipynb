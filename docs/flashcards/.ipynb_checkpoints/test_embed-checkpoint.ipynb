{
 "cells": [
  {
   "cell_type": "code",
   "execution_count": 1,
   "id": "b0e01280",
   "metadata": {},
   "outputs": [
    {
     "data": {
      "application/vnd.jupyter.widget-view+json": {
       "model_id": "60cdd985da364a8bab40694e34739a72",
       "version_major": 2,
       "version_minor": 0
      },
      "text/plain": [
       "BraketView(ao=[1], bg_color=[0.0, 0.0, 0.0], fragment_shader='uniform vec3 user_color;\\nuniform float time;\\n\\…"
      ]
     },
     "execution_count": 1,
     "metadata": {},
     "output_type": "execute_result"
    }
   ],
   "source": [
    "import evince as ev\n",
    "import bubblebox as bb\n",
    "import braketlab as bk\n",
    "\n",
    "p = bk.basisbank.get_gto(1.0, 2,1)\n",
    "\n",
    "#p.view()\n",
    "ev.BraketView(p)"
   ]
  },
  {
   "cell_type": "code",
   "execution_count": 2,
   "id": "cbe77c84",
   "metadata": {},
   "outputs": [],
   "source": [
    "m = ev.template.Template()"
   ]
  },
  {
   "cell_type": "code",
   "execution_count": null,
   "id": "93d91302",
   "metadata": {},
   "outputs": [],
   "source": [
    "m"
   ]
  },
  {
   "cell_type": "code",
   "execution_count": null,
   "id": "e601af9a",
   "metadata": {},
   "outputs": [],
   "source": [
    "ev.__version__"
   ]
  },
  {
   "cell_type": "code",
   "execution_count": null,
   "id": "2dfd67cc",
   "metadata": {},
   "outputs": [],
   "source": [
    "import ipywidgets as ip\n",
    "ip.__version__"
   ]
  },
  {
   "cell_type": "code",
   "execution_count": null,
   "id": "8129344a",
   "metadata": {},
   "outputs": [],
   "source": [
    "b = bb.showcase.double_harmonic_chain(100)\n",
    "\n",
    "b.view()\n",
    "\n"
   ]
  },
  {
   "cell_type": "code",
   "execution_count": null,
   "id": "69a33980",
   "metadata": {},
   "outputs": [],
   "source": [
    "for i in range(10000):\n",
    "    for j in range(3):\n",
    "        b.advance()\n",
    "    b.vel_ *= 0.99\n",
    "    b.update_view()"
   ]
  },
  {
   "cell_type": "code",
   "execution_count": null,
   "id": "d97bbe3c",
   "metadata": {},
   "outputs": [],
   "source": [
    "bonds = ev.spotlight.extract_bonds(b)\n",
    "#b.pos*=2\n",
    "b.mview = ev.SpotlightView(b, sao = True, dof = True, fxaa = True, bonds = bonds, realism = True, bg_color = [1.0,1.0,1.0], focus = 8, aperture = .00001, max_blur = 0.03,\n",
    "                 saoScale = 1.9, saoIntensity = 0.01, saoKernelRadius=60, saoMinResolution=3, saoBlur = False)\n",
    "\n",
    "b.mview"
   ]
  },
  {
   "cell_type": "code",
   "execution_count": null,
   "id": "5cd70e68",
   "metadata": {},
   "outputs": [],
   "source": [
    "b.run(10000)"
   ]
  },
  {
   "cell_type": "code",
   "execution_count": null,
   "id": "6390113c",
   "metadata": {},
   "outputs": [],
   "source": [
    "b = bb.showcase.mixing_lattice()"
   ]
  },
  {
   "cell_type": "code",
   "execution_count": null,
   "id": "810a650a",
   "metadata": {},
   "outputs": [],
   "source": [
    "import numpy as np\n",
    "def mixing_lattice():\n",
    "    \"\"\"\n",
    "    short explanation of model here\n",
    "    \"\"\"\n",
    "    interaction = -2*np.eye(3)\n",
    "    interaction[1,0] = 2\n",
    "    interaction[0,1] = 2\n",
    "\n",
    "    interaction[1,2] = 5\n",
    "    interaction[2,1] = 5\n",
    "\n",
    "    interaction[0,2] = -10\n",
    "    interaction[2,0] = -10\n",
    "            \n",
    "    nx = 15\n",
    "    ny, nz = int(.1*nx**3), int(.05*nx**3)\n",
    "\n",
    "    lb = bb.latticebox(n_bubbles = np.array([nx**3-ny-nz,ny,nz]), size = np.array([nx,nx, nx]), interaction = interaction)\n",
    "    lb.n_swaps_per_advance = 100\n",
    "    lb.kT = 0.00001\n",
    "    return lb"
   ]
  },
  {
   "cell_type": "code",
   "execution_count": null,
   "id": "065e1901",
   "metadata": {},
   "outputs": [],
   "source": [
    "b = mixing_lattice()\n",
    "b.view()"
   ]
  },
  {
   "cell_type": "code",
   "execution_count": null,
   "id": "4dc30ac8",
   "metadata": {},
   "outputs": [],
   "source": [
    "for i in range(10000):\n",
    "    b.advance()\n",
    "    b.update_view()"
   ]
  },
  {
   "cell_type": "code",
   "execution_count": null,
   "id": "a1a08c34",
   "metadata": {},
   "outputs": [],
   "source": []
  }
 ],
 "metadata": {
  "kernelspec": {
   "display_name": "Python 3 (ipykernel)",
   "language": "python",
   "name": "python3"
  },
  "language_info": {
   "codemirror_mode": {
    "name": "ipython",
    "version": 3
   },
   "file_extension": ".py",
   "mimetype": "text/x-python",
   "name": "python",
   "nbconvert_exporter": "python",
   "pygments_lexer": "ipython3",
   "version": "3.10.6"
  },
  "widgets": {
   "application/vnd.jupyter.widget-state+json": {
    "state": {
     "60cdd985da364a8bab40694e34739a72": {
      "model_module": "evince",
      "model_module_version": "^0.31.0",
      "model_name": "BraketModel",
      "state": {
       "_model_module_version": "^0.31.0",
       "_view_module_version": "^0.31.0",
       "additive": true,
       "ao": [
        1
       ],
       "bg_color": [
        0,
        0,
        0
       ],
       "fragment_shader": "uniform vec3 user_color;\nuniform float time;\n\nvarying vec2 vUv;\nvarying vec3 pos;\nvarying vec3 tex;\nvarying float q;\nvarying float csI;\nvarying float csR;\nvarying float cs0;\nvarying float cs;\n\nvoid main() {\n\n    vec2 p = vUv;\n    float q = tex[0]*tex[0] +tex[1]*tex[1] +tex[2]*tex[2] ;\n    float cs0 = 2.8508218814199608*tex[0]*tex[2]*exp(-1.0*q);\n    float csI = 0.0 ;\n    float csR = cs0 ;\n    gl_FragColor = gl_FragColor + vec4(csR, csI, -1.0*csR, .1);\n}",
       "layout": "IPY_MODEL_fb952294e54b4ecbb547525eec7eeb2c",
       "pos": [],
       "surf": [],
       "surface_view": false,
       "tabbable": null,
       "tooltip": null
      }
     },
     "bad73001aef649da8d4e030846ba99f7": {
      "model_module": "@jupyter-widgets/base",
      "model_module_version": "2.0.0",
      "model_name": "LayoutModel",
      "state": {
       "_model_module_version": "2.0.0",
       "_view_module_version": "2.0.0",
       "border_bottom": null,
       "border_left": null,
       "border_right": null,
       "border_top": null
      }
     },
     "c4a4e7362c704fe1a511ab4987d92286": {
      "model_module": "evince",
      "model_module_version": "^0.31.0",
      "model_name": "TemplateModel",
      "state": {
       "_model_module_version": "^0.31.0",
       "_view_module_version": "^0.31.0",
       "layout": "IPY_MODEL_bad73001aef649da8d4e030846ba99f7",
       "tabbable": null,
       "tooltip": null,
       "value": "Hello World!"
      }
     },
     "fb952294e54b4ecbb547525eec7eeb2c": {
      "model_module": "@jupyter-widgets/base",
      "model_module_version": "2.0.0",
      "model_name": "LayoutModel",
      "state": {
       "_model_module_version": "2.0.0",
       "_view_module_version": "2.0.0",
       "border_bottom": null,
       "border_left": null,
       "border_right": null,
       "border_top": null
      }
     }
    },
    "version_major": 2,
    "version_minor": 0
   }
  }
 },
 "nbformat": 4,
 "nbformat_minor": 5
}
