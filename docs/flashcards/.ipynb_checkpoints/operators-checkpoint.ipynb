{
 "cells": [
  {
   "cell_type": "markdown",
   "id": "7021bcb6",
   "metadata": {},
   "source": [
    "# Operators\n",
    "\n",
    "---"
   ]
  },
  {
   "cell_type": "markdown",
   "id": "c7e9284d",
   "metadata": {},
   "source": [
    "Operators $\\hat{\\Omega}$ in quantum theory comes in many flavours, but in all cases they act on kets to produce new kets:\n",
    "\n",
    "\\begin{equation}\n",
    "\\hat{\\Omega} \\vert p \\rangle = \\vert q \\rangle.\n",
    "\\end{equation}"
   ]
  },
  {
   "cell_type": "code",
   "execution_count": 1,
   "id": "b52ff2f0",
   "metadata": {},
   "outputs": [],
   "source": [
    "import braketlab as bk\n",
    "import numpy as np\n",
    "import sympy as sp\n",
    "\n",
    "x = sp.symbols(\"x\") # we'll need a variable for the following examples"
   ]
  },
  {
   "cell_type": "markdown",
   "id": "ec64b8b8",
   "metadata": {},
   "source": [
    "## Identity\n",
    "\n",
    "For a given space $\\mathbf{S}$ spanned by a basis $\\{ \\vert s \\rangle \\}$, the identity operator is\n",
    "\n",
    "\\begin{equation}\n",
    "\\mathbb{1} := \\sum_i \\vert s_i \\rangle \\langle s_i \\vert\n",
    "\\end{equation}\n",
    "\n",
    "The corresponding operator "
   ]
  },
  {
   "cell_type": "markdown",
   "id": "1fd13666",
   "metadata": {},
   "source": [
    "## Translation "
   ]
  },
  {
   "cell_type": "code",
   "execution_count": 2,
   "id": "e1db10eb",
   "metadata": {},
   "outputs": [
    {
     "data": {
      "application/vnd.jupyter.widget-view+json": {
       "model_id": "f4c4764a2ca34b9ebcc40302f6a215df",
       "version_major": 2,
       "version_minor": 0
      },
      "text/plain": [
       "BraketView(additive=False, ao=[1], bg_color=[1.0, 1.0, 1.0], fragment_shader='uniform vec3 user_color;\\nunifor…"
      ]
     },
     "execution_count": 2,
     "metadata": {},
     "output_type": "execute_result"
    }
   ],
   "source": [
    "psi = bk.ket( sp.exp(-1*x**2))\n",
    "\n",
    "psi.view(web = True)"
   ]
  },
  {
   "cell_type": "code",
   "execution_count": 3,
   "id": "57282dd9",
   "metadata": {},
   "outputs": [
    {
     "data": {
      "application/vnd.jupyter.widget-view+json": {
       "model_id": "4b611e205e9942ecb0f3fd3bf81ab7a7",
       "version_major": 2,
       "version_minor": 0
      },
      "text/plain": [
       "BraketView(additive=False, ao=[1], bg_color=[1.0, 1.0, 1.0], fragment_shader='uniform vec3 user_color;\\nunifor…"
      ]
     },
     "execution_count": 3,
     "metadata": {},
     "output_type": "execute_result"
    }
   ],
   "source": [
    "T = bk.get_translation_operator(np.array([2.1]))\n",
    "\n",
    "(T*psi).view(web = True)"
   ]
  },
  {
   "cell_type": "markdown",
   "id": "614eee27",
   "metadata": {},
   "source": [
    "## Differentials\n",
    "\n",
    "Differential operators $\\hat{D}^{o}_{\\{ i \\}}$ of order $o$ with respect to variables $i$ acting on kets yields their derivatives of the given order with respect to the relevant variables:\n",
    "\n",
    "\\begin{equation}\n",
    "\\hat{D}^o_{\\{i \\}} \\vert p \\rangle := \\sum_i \\big{(} \\frac{\\partial}{\\partial x_i} \\big{)}^o p(\\mathbf{x})\n",
    "\\end{equation}\n",
    "\n",
    "If no variables are provided when initializing the operator, BraketLab will assume that the differential operator acts on all variables in the ket (note that this can give inconsistent behavior - it just differentiates everything it encounters)."
   ]
  },
  {
   "cell_type": "code",
   "execution_count": 4,
   "id": "2c4ccede",
   "metadata": {},
   "outputs": [
    {
     "data": {
      "application/vnd.jupyter.widget-view+json": {
       "model_id": "d841e47525544ff993f1cf0d9c5c3cd3",
       "version_major": 2,
       "version_minor": 0
      },
      "text/plain": [
       "BraketView(additive=False, ao=[1], bg_color=[1.0, 1.0, 1.0], fragment_shader='uniform vec3 user_color;\\nunifor…"
      ]
     },
     "execution_count": 4,
     "metadata": {},
     "output_type": "execute_result"
    }
   ],
   "source": [
    "a = bk.ket( sp.exp(-x**2), name = \"a(x)\")\n",
    "a.view(web = True)"
   ]
  },
  {
   "cell_type": "code",
   "execution_count": 5,
   "id": "19f43e01",
   "metadata": {},
   "outputs": [
    {
     "data": {
      "application/vnd.jupyter.widget-view+json": {
       "model_id": "07f32b35a55341c9b75757d9d6ee3239",
       "version_major": 2,
       "version_minor": 0
      },
      "text/plain": [
       "BraketView(additive=False, ao=[1], bg_color=[1.0, 1.0, 1.0], fragment_shader='uniform vec3 user_color;\\nunifor…"
      ]
     },
     "execution_count": 5,
     "metadata": {},
     "output_type": "execute_result"
    }
   ],
   "source": [
    "D = bk.get_differential_operator(order = [1])\n",
    "\n",
    "(D*a).view(web = True)"
   ]
  },
  {
   "cell_type": "code",
   "execution_count": 6,
   "id": "6577cb3d",
   "metadata": {},
   "outputs": [
    {
     "data": {
      "application/vnd.jupyter.widget-view+json": {
       "model_id": "63cd8d7c8ee2406aa2f314dff8f89850",
       "version_major": 2,
       "version_minor": 0
      },
      "text/plain": [
       "BraketView(additive=False, ao=[1], bg_color=[1.0, 1.0, 1.0], fragment_shader='uniform vec3 user_color;\\nunifor…"
      ]
     },
     "execution_count": 6,
     "metadata": {},
     "output_type": "execute_result"
    }
   ],
   "source": [
    "(D*(D*a)).view(web = True)"
   ]
  },
  {
   "cell_type": "markdown",
   "id": "d780c52f",
   "metadata": {},
   "source": [
    "## Cartesian moments\n",
    "\n",
    "The cartesian n'th moment operators $\\hat{X}^n_i$ are\n",
    "\n",
    "\\begin{equation}\n",
    "\\hat{X}^n_i = x_n^i\n",
    "\\end{equation}\n",
    "\n",
    "Since BraketLab is largely based on sympy, they can be defined simply as"
   ]
  },
  {
   "cell_type": "code",
   "execution_count": 7,
   "id": "98e45fa9",
   "metadata": {},
   "outputs": [],
   "source": [
    "x = bk.get_default_variables(0, 1)[0]\n",
    "X = x**1.0 # for n=1"
   ]
  },
  {
   "cell_type": "markdown",
   "id": "2c5cee40",
   "metadata": {},
   "source": [
    "Let's center a one dimensional Gaussian distribution in $x_0 = .25$, normalize it, and compute the expectation value $\\langle x \\rangle$:"
   ]
  },
  {
   "cell_type": "code",
   "execution_count": 8,
   "id": "c6899320",
   "metadata": {},
   "outputs": [
    {
     "data": {
      "text/plain": [
       "0.25"
      ]
     },
     "execution_count": 8,
     "metadata": {},
     "output_type": "execute_result"
    }
   ],
   "source": [
    "psi = bk.ket( sp.exp(-(x-.25)**2))\n",
    "\n",
    "psi = psi*(psi.bra@psi)**-.5 # normalize so that <psi|psi> = 1.0\n",
    "\n",
    "psi.bra@(X*psi) #should be zero for n=1"
   ]
  },
  {
   "cell_type": "markdown",
   "id": "1da20907",
   "metadata": {},
   "source": [
    "You may then construct arbitrary higher order moments:"
   ]
  },
  {
   "cell_type": "code",
   "execution_count": 9,
   "id": "123138c6",
   "metadata": {},
   "outputs": [
    {
     "data": {
      "text/plain": [
       "-0.1683970226816998"
      ]
     },
     "execution_count": 9,
     "metadata": {},
     "output_type": "execute_result"
    }
   ],
   "source": [
    "x, y = bk.get_default_variables(0, 2)\n",
    "\n",
    "psi = bk.ket( sp.exp(-.5*((x-.25)**2 + (y+0.3)**2 )) )\n",
    "\n",
    "psi = psi*(psi.bra@psi)**-.5 # normalize so that <psi|psi> = 1.0\n",
    "\n",
    "X2Y = x**2*y\n",
    "\n",
    "psi.bra@(X2Y*psi) # will be computed using Monte-Carlo integration"
   ]
  },
  {
   "cell_type": "markdown",
   "id": "1aba700b",
   "metadata": {},
   "source": [
    "## Coulomb operator"
   ]
  },
  {
   "cell_type": "markdown",
   "id": "661a7bf6",
   "metadata": {},
   "source": [
    "The Coulomb operator is \n",
    "\n",
    "\\begin{equation}\n",
    "\\hat{V} = \\frac{1}{\\hat{x}},\n",
    "\\end{equation}\n",
    "\n",
    "and may be obtained in BraketLab from"
   ]
  },
  {
   "cell_type": "code",
   "execution_count": 10,
   "id": "b6853f17",
   "metadata": {},
   "outputs": [
    {
     "data": {
      "text/plain": [
       "-1.6408515032825146"
      ]
     },
     "execution_count": 10,
     "metadata": {},
     "output_type": "execute_result"
    }
   ],
   "source": [
    "V = bk.get_onebody_coulomb_operator()\n",
    "psi.bra@(V*psi)"
   ]
  },
  {
   "cell_type": "markdown",
   "id": "819e78e8",
   "metadata": {},
   "source": [
    "## Kinetic operator \n",
    "\n",
    "The kinetic operator is\n",
    "\n",
    "\\begin{equation}\n",
    "\\hat{V} = - \\frac{1}{2} \\nabla^2,\n",
    "\\end{equation}\n",
    "\n",
    "and may be obtained in BraketLab from"
   ]
  },
  {
   "cell_type": "code",
   "execution_count": 11,
   "id": "9ff9c788",
   "metadata": {},
   "outputs": [
    {
     "data": {
      "text/plain": [
       "0.4996613505912549"
      ]
     },
     "execution_count": 11,
     "metadata": {},
     "output_type": "execute_result"
    }
   ],
   "source": [
    "T = bk.get_kinetic_operator()\n",
    "psi.bra@(T*psi)"
   ]
  },
  {
   "cell_type": "code",
   "execution_count": null,
   "id": "b2866c58",
   "metadata": {},
   "outputs": [],
   "source": []
  }
 ],
 "metadata": {
  "kernelspec": {
   "display_name": "Python 3 (ipykernel)",
   "language": "python",
   "name": "python3"
  },
  "language_info": {
   "codemirror_mode": {
    "name": "ipython",
    "version": 3
   },
   "file_extension": ".py",
   "mimetype": "text/x-python",
   "name": "python",
   "nbconvert_exporter": "python",
   "pygments_lexer": "ipython3",
   "version": "3.10.6"
  },
  "widgets": {
   "application/vnd.jupyter.widget-state+json": {
    "state": {
     "00fb38cd1394440596085b2770704f13": {
      "model_module": "@jupyter-widgets/base",
      "model_module_version": "1.2.0",
      "model_name": "LayoutModel",
      "state": {}
     },
     "0123787abf9a4b71bf4b5e5a0e11a5ed": {
      "model_module": "@jupyter-widgets/base",
      "model_module_version": "1.2.0",
      "model_name": "LayoutModel",
      "state": {}
     },
     "0552c01ec6c043babd3973427196e490": {
      "model_module": "evince",
      "model_module_version": "^0.30.0",
      "model_name": "BraketModel",
      "state": {
       "_model_module_version": "^0.30.0",
       "_view_module_version": "^0.30.0",
       "additive": true,
       "ao": [
        1
       ],
       "bg_color": [
        0,
        0,
        0
       ],
       "fragment_shader": "uniform vec3 user_color;\nuniform float time;\n\nvarying vec2 vUv;\nvarying vec3 pos;\nvarying vec3 tex;\nvarying float q;\nvarying float csI;\nvarying float csR;\nvarying float cs0;\nvarying float cs;\n\nvoid main() {\n\n    vec2 p = vUv;\n    float q = tex[0]*tex[0] ;\n    float cs0 = 1.0*exp(-4*pow(tex[0] + 3.0, 2.0));\n    float csI = 0.0 ;\n    float csR = cs0 ;\n    csR = smoothstep(0.9*tex[1], tex[1], csR);\n    csI = smoothstep(0.9*tex[1], tex[1], csI);\n    gl_FragColor = gl_FragColor + vec4(csR, csI, -1.0*csR, 1);\n}",
       "layout": "IPY_MODEL_187b6727d83d4ff6be9fe31fb2ccf9a8",
       "pos": [],
       "surf": [],
       "surface_view": true
      }
     },
     "0738dc1819dc4a2f88e29687e88edd3d": {
      "model_module": "evince",
      "model_module_version": "^0.30.0",
      "model_name": "BraketModel",
      "state": {
       "_model_module_version": "^0.30.0",
       "_view_module_version": "^0.30.0",
       "additive": false,
       "ao": [
        1
       ],
       "bg_color": [
        1,
        1,
        1
       ],
       "fragment_shader": "uniform vec3 user_color;\nuniform float time;\n\nvarying vec2 vUv;\nvarying vec3 pos;\nvarying vec3 tex;\nvarying float q;\nvarying float csI;\nvarying float csR;\nvarying float cs0;\nvarying float cs;\n\nvoid main() {\n\n    vec2 p = vUv;\n    float q = tex[0]*tex[0] ;\n    float cs0 = -2.0*tex[0]*exp(-q);\n    float csI = 0.0 ;\n    float csR = cs0 ;\n    csR = smoothstep(0.9*tex[1], tex[1], csR);\n    csI = smoothstep(0.9*tex[1], tex[1], csI);\n    gl_FragColor = gl_FragColor + vec4(csR + .06*csI, csR + .1*csI, .7*csR + .5*csI, 1.0);\n}",
       "layout": "IPY_MODEL_85da3297e6534279a1ca85a506c22917",
       "pos": [],
       "surf": [],
       "surface_view": true,
       "tabbable": null,
       "tooltip": null
      }
     },
     "07f32b35a55341c9b75757d9d6ee3239": {
      "model_module": "evince",
      "model_module_version": "^0.31.0",
      "model_name": "BraketModel",
      "state": {
       "_model_module_version": "^0.31.0",
       "_view_module_version": "^0.31.0",
       "additive": false,
       "ao": [
        1
       ],
       "bg_color": [
        1,
        1,
        1
       ],
       "fragment_shader": "uniform vec3 user_color;\nuniform float time;\n\nvarying vec2 vUv;\nvarying vec3 pos;\nvarying vec3 tex;\nvarying float q;\nvarying float csI;\nvarying float csR;\nvarying float cs0;\nvarying float cs;\n\nvoid main() {\n\n    vec2 p = vUv;\n    float q = tex[0]*tex[0] ;\n    float cs0 = -2.0*tex[0]*exp(-q);\n    float csI = 0.0 ;\n    float csR = cs0 ;\n    csR = smoothstep(0.9*tex[1], tex[1], csR);\n    csI = smoothstep(0.9*tex[1], tex[1], csI);\n    gl_FragColor = gl_FragColor + vec4(csR + .06*csI, csR + .1*csI, .7*csR + .5*csI, 1.0);\n}",
       "layout": "IPY_MODEL_c8274d11bd5c4cb6a9f1615a5d60049c",
       "pos": [],
       "surf": [],
       "surface_view": true,
       "tabbable": null,
       "tooltip": null
      }
     },
     "091159d650e9499aacc812cb3cb53314": {
      "model_module": "evince",
      "model_module_version": "^0.30.0",
      "model_name": "BraketModel",
      "state": {
       "_model_module_version": "^0.30.0",
       "_view_module_version": "^0.30.0",
       "additive": false,
       "ao": [
        1
       ],
       "bg_color": [
        1,
        1,
        1
       ],
       "fragment_shader": "uniform vec3 user_color;\nuniform float time;\n\nvarying vec2 vUv;\nvarying vec3 pos;\nvarying vec3 tex;\nvarying float q;\nvarying float csI;\nvarying float csR;\nvarying float cs0;\nvarying float cs;\n\nvoid main() {\n\n    vec2 p = vUv;\n    float q = tex[0]*tex[0] ;\n    float cs0 = 1.0*exp(-4*q);\n    float csI = 0.0 ;\n    float csR = cs0 ;\n    csR = smoothstep(0.9*tex[1], tex[1], csR);\n    csI = smoothstep(0.9*tex[1], tex[1], csI);\n    gl_FragColor = gl_FragColor + vec4(csR + .06*csI, csR + .1*csI, .7*csR + .5*csI, 1.0);\n}",
       "layout": "IPY_MODEL_c866c5dab3e94f9d939128f80dfda7a2",
       "pos": [],
       "surf": [],
       "surface_view": true
      }
     },
     "0b28ccd01d4046eca107581577a622ab": {
      "model_module": "@jupyter-widgets/base",
      "model_module_version": "2.0.0",
      "model_name": "LayoutModel",
      "state": {
       "_model_module_version": "2.0.0",
       "_view_module_version": "2.0.0",
       "border_bottom": null,
       "border_left": null,
       "border_right": null,
       "border_top": null
      }
     },
     "0d2e4501b7624e09b426cc2852da3865": {
      "model_module": "evince",
      "model_module_version": "^0.30.0",
      "model_name": "BraketModel",
      "state": {
       "_model_module_version": "^0.30.0",
       "_view_module_version": "^0.30.0",
       "additive": false,
       "ao": [
        1
       ],
       "bg_color": [
        1,
        1,
        1
       ],
       "fragment_shader": "uniform vec3 user_color;\nuniform float time;\n\nvarying vec2 vUv;\nvarying vec3 pos;\nvarying vec3 tex;\nvarying float q;\nvarying float csI;\nvarying float csR;\nvarying float cs0;\nvarying float cs;\n\nvoid main() {\n\n    vec2 p = vUv;\n    float q = tex[0]*tex[0] ;\n    float cs0 = (4.0*q - 2.0)*exp(-q);\n    float csI = 0.0 ;\n    float csR = cs0 ;\n    csR = smoothstep(0.9*tex[1], tex[1], csR);\n    csI = smoothstep(0.9*tex[1], tex[1], csI);\n    gl_FragColor = gl_FragColor + vec4(csR + .06*csI, csR + .1*csI, .7*csR + .5*csI, 1.0);\n}",
       "layout": "IPY_MODEL_957e7e28b90f42529d7479163da85ab2",
       "pos": [],
       "surf": [],
       "surface_view": true,
       "tabbable": null,
       "tooltip": null
      }
     },
     "0dcfa3a116a546038252dba66b7a4f76": {
      "model_module": "evince",
      "model_module_version": "^0.30.0",
      "model_name": "BraketModel",
      "state": {
       "_model_module_version": "^0.30.0",
       "_view_module_version": "^0.30.0",
       "additive": false,
       "ao": [
        1
       ],
       "bg_color": [
        1,
        1,
        1
       ],
       "fragment_shader": "uniform vec3 user_color;\nuniform float time;\n\nvarying vec2 vUv;\nvarying vec3 pos;\nvarying vec3 tex;\nvarying float q;\nvarying float csI;\nvarying float csR;\nvarying float cs0;\nvarying float cs;\n\nvoid main() {\n\n    vec2 p = vUv;\n    float q = tex[0]*tex[0] ;\n    float cs0 = 1.0*exp(-q);\n    float csI = 0.0 ;\n    float csR = cs0 ;\n    csR = smoothstep(0.9*tex[1], tex[1], csR);\n    csI = smoothstep(0.9*tex[1], tex[1], csI);\n    gl_FragColor = gl_FragColor + vec4(csR + .06*csI, csR + .1*csI, .7*csR + .5*csI, 1.0);\n}",
       "layout": "IPY_MODEL_4fdb47c1170c489dafbfe691c2e4f49f",
       "pos": [],
       "surf": [],
       "surface_view": true,
       "tabbable": null,
       "tooltip": null
      }
     },
     "0f1246daa63e4289b24dae1cedba66df": {
      "model_module": "evince",
      "model_module_version": "^0.30.0",
      "model_name": "BraketModel",
      "state": {
       "_model_module_version": "^0.30.0",
       "_view_module_version": "^0.30.0",
       "additive": true,
       "ao": [
        1
       ],
       "bg_color": [
        0,
        0,
        0
       ],
       "fragment_shader": "uniform vec3 user_color;\nuniform float time;\n\nvarying vec2 vUv;\nvarying vec3 pos;\nvarying vec3 tex;\nvarying float q;\nvarying float csI;\nvarying float csR;\nvarying float cs0;\nvarying float cs;\n\nvoid main() {\n\n    vec2 p = vUv;\n    float q = tex[0]*tex[0] ;\n    float cs0 = (4.0*q - 2.0)*exp(-q);\n    float csI = 0.0 ;\n    float csR = cs0 ;\n    csR = smoothstep(0.9*tex[1], tex[1], csR);\n    csI = smoothstep(0.9*tex[1], tex[1], csI);\n    gl_FragColor = gl_FragColor + vec4(csR, csI, -1.0*csR, 1);\n}",
       "layout": "IPY_MODEL_21e6761d5f734efd80ecd79232a5135d",
       "pos": [],
       "surf": [],
       "surface_view": true
      }
     },
     "0f6f55ec793f4f3786746f44c10858af": {
      "model_module": "evince",
      "model_module_version": "^0.30.0",
      "model_name": "BraketModel",
      "state": {
       "_model_module_version": "^0.30.0",
       "_view_module_version": "^0.30.0",
       "additive": false,
       "ao": [
        1
       ],
       "bg_color": [
        1,
        1,
        1
       ],
       "fragment_shader": "uniform vec3 user_color;\nuniform float time;\n\nvarying vec2 vUv;\nvarying vec3 pos;\nvarying vec3 tex;\nvarying float q;\nvarying float csI;\nvarying float csR;\nvarying float cs0;\nvarying float cs;\n\nvoid main() {\n\n    vec2 p = vUv;\n    float q = tex[0]*tex[0] ;\n    float cs0 = 1.0*exp(-17.640000000000001*pow(0.47619047619047616*tex[0] - 1.0, 2.0));\n    float csI = 0.0 ;\n    float csR = cs0 ;\n    csR = smoothstep(0.9*tex[1], tex[1], csR);\n    csI = smoothstep(0.9*tex[1], tex[1], csI);\n    gl_FragColor = gl_FragColor + vec4(csR + .06*csI, csR + .1*csI, .7*csR + .5*csI, 1.0);\n}",
       "layout": "IPY_MODEL_b42fb75e1e09406a94ce6c4125a6cb03",
       "pos": [],
       "surf": [],
       "surface_view": true
      }
     },
     "1086313f2e0f425396a134fd86b9d759": {
      "model_module": "@jupyter-widgets/base",
      "model_module_version": "2.0.0",
      "model_name": "LayoutModel",
      "state": {
       "_model_module_version": "2.0.0",
       "_view_module_version": "2.0.0",
       "border_bottom": null,
       "border_left": null,
       "border_right": null,
       "border_top": null
      }
     },
     "113feaeb7b1b43a2ae3f3c4c2119e41f": {
      "model_module": "@jupyter-widgets/base",
      "model_module_version": "1.2.0",
      "model_name": "LayoutModel",
      "state": {}
     },
     "121fb39f2ff54629b77ece9827ef3bc8": {
      "model_module": "@jupyter-widgets/base",
      "model_module_version": "2.0.0",
      "model_name": "LayoutModel",
      "state": {
       "_model_module_version": "2.0.0",
       "_view_module_version": "2.0.0",
       "border_bottom": null,
       "border_left": null,
       "border_right": null,
       "border_top": null
      }
     },
     "13e0c1f21ab547e099e2e061639e1f26": {
      "model_module": "evince",
      "model_module_version": "^0.30.0",
      "model_name": "BraketModel",
      "state": {
       "_model_module_version": "^0.30.0",
       "_view_module_version": "^0.30.0",
       "additive": false,
       "ao": [
        1
       ],
       "bg_color": [
        1,
        1,
        1
       ],
       "fragment_shader": "uniform vec3 user_color;\nuniform float time;\n\nvarying vec2 vUv;\nvarying vec3 pos;\nvarying vec3 tex;\nvarying float q;\nvarying float csI;\nvarying float csR;\nvarying float cs0;\nvarying float cs;\n\nvoid main() {\n\n    vec2 p = vUv;\n    float q = tex[0]*tex[0] ;\n    float cs0 = 1.0*exp(-4.4100000000000001*pow(0.47619047619047616*tex[0] - 1.0, 2.0));\n    float csI = 0.0 ;\n    float csR = cs0 ;\n    csR = smoothstep(0.9*tex[1], tex[1], csR);\n    csI = smoothstep(0.9*tex[1], tex[1], csI);\n    gl_FragColor = gl_FragColor + vec4(csR + .06*csI, csR + .1*csI, .7*csR + .5*csI, 1.0);\n}",
       "layout": "IPY_MODEL_d20137485d834f628373073bf84f5e67",
       "pos": [],
       "surf": [],
       "surface_view": true,
       "tabbable": null,
       "tooltip": null
      }
     },
     "143048e03348441f8e632d1a64b58a6f": {
      "model_module": "evince",
      "model_module_version": "^0.30.0",
      "model_name": "BraketModel",
      "state": {
       "_model_module_version": "^0.30.0",
       "_view_module_version": "^0.30.0",
       "additive": false,
       "ao": [
        1
       ],
       "bg_color": [
        1,
        1,
        1
       ],
       "fragment_shader": "uniform vec3 user_color;\nuniform float time;\n\nvarying vec2 vUv;\nvarying vec3 pos;\nvarying vec3 tex;\nvarying float q;\nvarying float csI;\nvarying float csR;\nvarying float cs0;\nvarying float cs;\n\nvoid main() {\n\n    vec2 p = vUv;\n    float q = tex[0]*tex[0] ;\n    float cs0 = 1.0*exp(-4.4100000000000001*pow(0.47619047619047616*tex[0] - 1.0, 2.0));\n    float csI = 0.0 ;\n    float csR = cs0 ;\n    csR = smoothstep(0.9*tex[1], tex[1], csR);\n    csI = smoothstep(0.9*tex[1], tex[1], csI);\n    gl_FragColor = gl_FragColor + vec4(csR + .06*csI, csR + .1*csI, .7*csR + .5*csI, 1.0);\n}",
       "layout": "IPY_MODEL_eb921896b0c0472cba41d06124efef32",
       "pos": [],
       "surf": [],
       "surface_view": true,
       "tabbable": null,
       "tooltip": null
      }
     },
     "14484eceaa9b4038a42f38d1147b392e": {
      "model_module": "@jupyter-widgets/base",
      "model_module_version": "2.0.0",
      "model_name": "LayoutModel",
      "state": {
       "_model_module_version": "2.0.0",
       "_view_module_version": "2.0.0",
       "border_bottom": null,
       "border_left": null,
       "border_right": null,
       "border_top": null
      }
     },
     "14e046ac6c85497f9ce8026b864a0b9e": {
      "model_module": "evince",
      "model_module_version": "^0.30.0",
      "model_name": "BraketModel",
      "state": {
       "_model_module_version": "^0.30.0",
       "_view_module_version": "^0.30.0",
       "additive": false,
       "ao": [
        1
       ],
       "bg_color": [
        1,
        1,
        1
       ],
       "fragment_shader": "uniform vec3 user_color;\nuniform float time;\n\nvarying vec2 vUv;\nvarying vec3 pos;\nvarying vec3 tex;\nvarying float q;\nvarying float csI;\nvarying float csR;\nvarying float cs0;\nvarying float cs;\n\nvoid main() {\n\n    vec2 p = vUv;\n    float q = tex[0]*tex[0] ;\n    float cs0 = 1.0*exp(-4.4100000000000001*pow(0.47619047619047616*tex[0] - 1.0, 2.0));\n    float csI = 0.0 ;\n    float csR = cs0 ;\n    csR = smoothstep(0.9*tex[1], tex[1], csR);\n    csI = smoothstep(0.9*tex[1], tex[1], csI);\n    gl_FragColor = gl_FragColor + vec4(csR + .06*csI, csR + .1*csI, .7*csR + .5*csI, 1.0);\n}",
       "layout": "IPY_MODEL_4156af4250f441f8b7b7348eb43e2bce",
       "pos": [],
       "surf": [],
       "surface_view": true,
       "tabbable": null,
       "tooltip": null
      }
     },
     "1540affd2a894507905b3591f9cff47d": {
      "model_module": "@jupyter-widgets/base",
      "model_module_version": "2.0.0",
      "model_name": "LayoutModel",
      "state": {
       "_model_module_version": "2.0.0",
       "_view_module_version": "2.0.0",
       "border_bottom": null,
       "border_left": null,
       "border_right": null,
       "border_top": null
      }
     },
     "1603d8d87aa540d5b140e49a0da08ca9": {
      "model_module": "evince",
      "model_module_version": "^0.30.0",
      "model_name": "BraketModel",
      "state": {
       "_model_module_version": "^0.30.0",
       "_view_module_version": "^0.30.0",
       "additive": false,
       "ao": [
        1
       ],
       "bg_color": [
        1,
        1,
        1
       ],
       "fragment_shader": "uniform vec3 user_color;\nuniform float time;\n\nvarying vec2 vUv;\nvarying vec3 pos;\nvarying vec3 tex;\nvarying float q;\nvarying float csI;\nvarying float csR;\nvarying float cs0;\nvarying float cs;\n\nvoid main() {\n\n    vec2 p = vUv;\n    float q = tex[0]*tex[0] ;\n    float cs0 = 1.0*exp(-q);\n    float csI = 0.0 ;\n    float csR = cs0 ;\n    csR = smoothstep(0.9*tex[1], tex[1], csR);\n    csI = smoothstep(0.9*tex[1], tex[1], csI);\n    gl_FragColor = gl_FragColor + vec4(csR + .06*csI, csR + .1*csI, .7*csR + .5*csI, 1.0);\n}",
       "layout": "IPY_MODEL_20223d272a17406d86cbacb448691423",
       "pos": [],
       "surf": [],
       "surface_view": true,
       "tabbable": null,
       "tooltip": null
      }
     },
     "16cd1eae3ead4a6f91fb20f0350cc9de": {
      "model_module": "@jupyter-widgets/base",
      "model_module_version": "2.0.0",
      "model_name": "LayoutModel",
      "state": {
       "_model_module_version": "2.0.0",
       "_view_module_version": "2.0.0",
       "border_bottom": null,
       "border_left": null,
       "border_right": null,
       "border_top": null
      }
     },
     "187b6727d83d4ff6be9fe31fb2ccf9a8": {
      "model_module": "@jupyter-widgets/base",
      "model_module_version": "1.2.0",
      "model_name": "LayoutModel",
      "state": {}
     },
     "1af9d7cee3054b43a4f69a73a8b5055b": {
      "model_module": "evince",
      "model_module_version": "^0.30.0",
      "model_name": "BraketModel",
      "state": {
       "_model_module_version": "^0.30.0",
       "_view_module_version": "^0.30.0",
       "additive": false,
       "ao": [
        1
       ],
       "bg_color": [
        1,
        1,
        1
       ],
       "fragment_shader": "uniform vec3 user_color;\nuniform float time;\n\nvarying vec2 vUv;\nvarying vec3 pos;\nvarying vec3 tex;\nvarying float q;\nvarying float csI;\nvarying float csR;\nvarying float cs0;\nvarying float cs;\n\nvoid main() {\n\n    vec2 p = vUv;\n    float q = tex[0]*tex[0] ;\n    float cs0 = 1.0*exp(-4*q);\n    float csI = 0.0 ;\n    float csR = cs0 ;\n    csR = smoothstep(0.9*tex[1], tex[1], csR);\n    csI = smoothstep(0.9*tex[1], tex[1], csI);\n    gl_FragColor = gl_FragColor + vec4(csR + .06*csI, csR + .1*csI, .7*csR + .5*csI, 1.0);\n}",
       "layout": "IPY_MODEL_53650000aa764a3e9315fb2fdc2bee1d",
       "pos": [],
       "surf": [],
       "surface_view": true
      }
     },
     "20223d272a17406d86cbacb448691423": {
      "model_module": "@jupyter-widgets/base",
      "model_module_version": "2.0.0",
      "model_name": "LayoutModel",
      "state": {
       "_model_module_version": "2.0.0",
       "_view_module_version": "2.0.0",
       "border_bottom": null,
       "border_left": null,
       "border_right": null,
       "border_top": null
      }
     },
     "2127013cfcc342e1929dcbcb187e03ca": {
      "model_module": "evince",
      "model_module_version": "^0.30.0",
      "model_name": "BraketModel",
      "state": {
       "_model_module_version": "^0.30.0",
       "_view_module_version": "^0.30.0",
       "additive": false,
       "ao": [
        1
       ],
       "bg_color": [
        1,
        1,
        1
       ],
       "fragment_shader": "uniform vec3 user_color;\nuniform float time;\n\nvarying vec2 vUv;\nvarying vec3 pos;\nvarying vec3 tex;\nvarying float q;\nvarying float csI;\nvarying float csR;\nvarying float cs0;\nvarying float cs;\n\nvoid main() {\n\n    vec2 p = vUv;\n    float q = tex[0]*tex[0] ;\n    float cs0 = 1.0*exp(-4.4100000000000001*pow(0.47619047619047616*tex[0] - 1.0, 2.0));\n    float csI = 0.0 ;\n    float csR = cs0 ;\n    csR = smoothstep(0.9*tex[1], tex[1], csR);\n    csI = smoothstep(0.9*tex[1], tex[1], csI);\n    gl_FragColor = gl_FragColor + vec4(csR + .06*csI, csR + .1*csI, .7*csR + .5*csI, 1.0);\n}",
       "layout": "IPY_MODEL_eeadf5b14f8d4774bee2d015e6621ae4",
       "pos": [],
       "surf": [],
       "surface_view": true,
       "tabbable": null,
       "tooltip": null
      }
     },
     "21e6761d5f734efd80ecd79232a5135d": {
      "model_module": "@jupyter-widgets/base",
      "model_module_version": "1.2.0",
      "model_name": "LayoutModel",
      "state": {}
     },
     "248454619c924fb9ba13e553aaf00952": {
      "model_module": "@jupyter-widgets/base",
      "model_module_version": "1.2.0",
      "model_name": "LayoutModel",
      "state": {}
     },
     "2761c98256404850807d404a65a4ad44": {
      "model_module": "@jupyter-widgets/base",
      "model_module_version": "1.2.0",
      "model_name": "LayoutModel",
      "state": {}
     },
     "28df4b99141a42c79f4c499389bbbde6": {
      "model_module": "@jupyter-widgets/base",
      "model_module_version": "2.0.0",
      "model_name": "LayoutModel",
      "state": {
       "_model_module_version": "2.0.0",
       "_view_module_version": "2.0.0",
       "border_bottom": null,
       "border_left": null,
       "border_right": null,
       "border_top": null
      }
     },
     "290d503f9fef4775b9a12c448be5551a": {
      "model_module": "evince",
      "model_module_version": "^0.30.0",
      "model_name": "BraketModel",
      "state": {
       "_model_module_version": "^0.30.0",
       "_view_module_version": "^0.30.0",
       "additive": false,
       "ao": [
        1
       ],
       "bg_color": [
        1,
        1,
        1
       ],
       "fragment_shader": "uniform vec3 user_color;\nuniform float time;\n\nvarying vec2 vUv;\nvarying vec3 pos;\nvarying vec3 tex;\nvarying float q;\nvarying float csI;\nvarying float csR;\nvarying float cs0;\nvarying float cs;\n\nvoid main() {\n\n    vec2 p = vUv;\n    float q = tex[0]*tex[0] ;\n    float cs0 = 1.0*exp(-17.640000000000001*pow(0.47619047619047616*tex[0] - 1.0, 2.0));\n    float csI = 0.0 ;\n    float csR = cs0 ;\n    csR = smoothstep(0.9*tex[1], tex[1], csR);\n    csI = smoothstep(0.9*tex[1], tex[1], csI);\n    gl_FragColor = gl_FragColor + vec4(csR + .06*csI, csR + .1*csI, .7*csR + .5*csI, 1.0);\n}",
       "layout": "IPY_MODEL_49c805f67b574642a20a395f2d5c57c4",
       "pos": [],
       "surf": [],
       "surface_view": true
      }
     },
     "29886d1adc2241be8b413894578b68a9": {
      "model_module": "@jupyter-widgets/base",
      "model_module_version": "2.0.0",
      "model_name": "LayoutModel",
      "state": {
       "_model_module_version": "2.0.0",
       "_view_module_version": "2.0.0",
       "border_bottom": null,
       "border_left": null,
       "border_right": null,
       "border_top": null
      }
     },
     "2adb5467a02142f394f4753804ad9c9f": {
      "model_module": "@jupyter-widgets/base",
      "model_module_version": "2.0.0",
      "model_name": "LayoutModel",
      "state": {
       "_model_module_version": "2.0.0",
       "_view_module_version": "2.0.0",
       "border_bottom": null,
       "border_left": null,
       "border_right": null,
       "border_top": null
      }
     },
     "2d42f306470948769786a6e35b3342cf": {
      "model_module": "evince",
      "model_module_version": "^0.30.0",
      "model_name": "BraketModel",
      "state": {
       "_model_module_version": "^0.30.0",
       "_view_module_version": "^0.30.0",
       "additive": false,
       "ao": [
        1
       ],
       "bg_color": [
        1,
        1,
        1
       ],
       "fragment_shader": "uniform vec3 user_color;\nuniform float time;\n\nvarying vec2 vUv;\nvarying vec3 pos;\nvarying vec3 tex;\nvarying float q;\nvarying float csI;\nvarying float csR;\nvarying float cs0;\nvarying float cs;\n\nvoid main() {\n\n    vec2 p = vUv;\n    float q = tex[0]*tex[0] ;\n    float cs0 = 1.0*exp(-q);\n    float csI = 0.0 ;\n    float csR = cs0 ;\n    csR = smoothstep(0.9*tex[1], tex[1], csR);\n    csI = smoothstep(0.9*tex[1], tex[1], csI);\n    gl_FragColor = gl_FragColor + vec4(csR + .06*csI, csR + .1*csI, .7*csR + .5*csI, 1.0);\n}",
       "layout": "IPY_MODEL_f6bf165c33804f77a86d8a70157937d5",
       "pos": [],
       "surf": [],
       "surface_view": true,
       "tabbable": null,
       "tooltip": null
      }
     },
     "30844d10f2844d779ebb7579e82351e9": {
      "model_module": "evince",
      "model_module_version": "^0.30.0",
      "model_name": "BraketModel",
      "state": {
       "_model_module_version": "^0.30.0",
       "_view_module_version": "^0.30.0",
       "additive": false,
       "ao": [
        1
       ],
       "bg_color": [
        1,
        1,
        1
       ],
       "fragment_shader": "uniform vec3 user_color;\nuniform float time;\n\nvarying vec2 vUv;\nvarying vec3 pos;\nvarying vec3 tex;\nvarying float q;\nvarying float csI;\nvarying float csR;\nvarying float cs0;\nvarying float cs;\n\nvoid main() {\n\n    vec2 p = vUv;\n    float q = tex[0]*tex[0] ;\n    float cs0 = -2.0*tex[0]*exp(-q);\n    float csI = 0.0 ;\n    float csR = cs0 ;\n    csR = smoothstep(0.9*tex[1], tex[1], csR);\n    csI = smoothstep(0.9*tex[1], tex[1], csI);\n    gl_FragColor = gl_FragColor + vec4(csR + .06*csI, csR + .1*csI, .7*csR + .5*csI, 1.0);\n}",
       "layout": "IPY_MODEL_1540affd2a894507905b3591f9cff47d",
       "pos": [],
       "surf": [],
       "surface_view": true,
       "tabbable": null,
       "tooltip": null
      }
     },
     "34ca51c228c4404d9de3ba30bb64bfd8": {
      "model_module": "evince",
      "model_module_version": "^0.30.0",
      "model_name": "BraketModel",
      "state": {
       "_model_module_version": "^0.30.0",
       "_view_module_version": "^0.30.0",
       "additive": false,
       "ao": [
        1
       ],
       "bg_color": [
        1,
        1,
        1
       ],
       "fragment_shader": "uniform vec3 user_color;\nuniform float time;\n\nvarying vec2 vUv;\nvarying vec3 pos;\nvarying vec3 tex;\nvarying float q;\nvarying float csI;\nvarying float csR;\nvarying float cs0;\nvarying float cs;\n\nvoid main() {\n\n    vec2 p = vUv;\n    float q = tex[0]*tex[0] ;\n    float cs0 = 1.0*exp(-q);\n    float csI = 0.0 ;\n    float csR = cs0 ;\n    csR = smoothstep(0.9*tex[1], tex[1], csR);\n    csI = smoothstep(0.9*tex[1], tex[1], csI);\n    gl_FragColor = gl_FragColor + vec4(csR + .06*csI, csR + .1*csI, .7*csR + .5*csI, 1.0);\n}",
       "layout": "IPY_MODEL_597e15cbb2494155a7cec95a8fafb056",
       "pos": [],
       "surf": [],
       "surface_view": true
      }
     },
     "34e86b7485c648518297b128c4825ef8": {
      "model_module": "evince",
      "model_module_version": "^0.30.0",
      "model_name": "BraketModel",
      "state": {
       "_model_module_version": "^0.30.0",
       "_view_module_version": "^0.30.0",
       "additive": false,
       "ao": [
        1
       ],
       "bg_color": [
        1,
        1,
        1
       ],
       "fragment_shader": "uniform vec3 user_color;\nuniform float time;\n\nvarying vec2 vUv;\nvarying vec3 pos;\nvarying vec3 tex;\nvarying float q;\nvarying float csI;\nvarying float csR;\nvarying float cs0;\nvarying float cs;\n\nvoid main() {\n\n    vec2 p = vUv;\n    float q = tex[0]*tex[0] ;\n    float cs0 = (4.0*q - 2.0)*exp(-q);\n    float csI = 0.0 ;\n    float csR = cs0 ;\n    csR = smoothstep(0.9*tex[1], tex[1], csR);\n    csI = smoothstep(0.9*tex[1], tex[1], csI);\n    gl_FragColor = gl_FragColor + vec4(csR + .06*csI, csR + .1*csI, .7*csR + .5*csI, 1.0);\n}",
       "layout": "IPY_MODEL_3fabe8195344476091e280e2891b5e34",
       "pos": [],
       "surf": [],
       "surface_view": true,
       "tabbable": null,
       "tooltip": null
      }
     },
     "35c592bedae646c19c28ff5dcd93ed84": {
      "model_module": "@jupyter-widgets/base",
      "model_module_version": "2.0.0",
      "model_name": "LayoutModel",
      "state": {
       "_model_module_version": "2.0.0",
       "_view_module_version": "2.0.0",
       "border_bottom": null,
       "border_left": null,
       "border_right": null,
       "border_top": null
      }
     },
     "35d8c0c2817142aa870e4e08ff9ab749": {
      "model_module": "@jupyter-widgets/base",
      "model_module_version": "1.2.0",
      "model_name": "LayoutModel",
      "state": {}
     },
     "370a7e9e00764f3f9d494bbde605ceed": {
      "model_module": "evince",
      "model_module_version": "^0.30.0",
      "model_name": "BraketModel",
      "state": {
       "_model_module_version": "^0.30.0",
       "_view_module_version": "^0.30.0",
       "additive": false,
       "ao": [
        1
       ],
       "bg_color": [
        1,
        1,
        1
       ],
       "fragment_shader": "uniform vec3 user_color;\nuniform float time;\n\nvarying vec2 vUv;\nvarying vec3 pos;\nvarying vec3 tex;\nvarying float q;\nvarying float csI;\nvarying float csR;\nvarying float cs0;\nvarying float cs;\n\nvoid main() {\n\n    vec2 p = vUv;\n    float q = tex[0]*tex[0] ;\n    float cs0 = 1.0*exp(-q);\n    float csI = 0.0 ;\n    float csR = cs0 ;\n    csR = smoothstep(0.9*tex[1], tex[1], csR);\n    csI = smoothstep(0.9*tex[1], tex[1], csI);\n    gl_FragColor = gl_FragColor + vec4(csR + .06*csI, csR + .1*csI, .7*csR + .5*csI, 1.0);\n}",
       "layout": "IPY_MODEL_5a5516b5f1a04435a4464d4545d3734c",
       "pos": [],
       "surf": [],
       "surface_view": true
      }
     },
     "3b0a8929c4984a3d91b31b1b82ad1714": {
      "model_module": "evince",
      "model_module_version": "^0.30.0",
      "model_name": "BraketModel",
      "state": {
       "_model_module_version": "^0.30.0",
       "_view_module_version": "^0.30.0",
       "additive": false,
       "ao": [
        1
       ],
       "bg_color": [
        1,
        1,
        1
       ],
       "fragment_shader": "uniform vec3 user_color;\nuniform float time;\n\nvarying vec2 vUv;\nvarying vec3 pos;\nvarying vec3 tex;\nvarying float q;\nvarying float csI;\nvarying float csR;\nvarying float cs0;\nvarying float cs;\n\nvoid main() {\n\n    vec2 p = vUv;\n    float q = tex[0]*tex[0] ;\n    float cs0 = 1.0*exp(-4.4100000000000001*pow(0.47619047619047616*tex[0] - 1.0, 2.0));\n    float csI = 0.0 ;\n    float csR = cs0 ;\n    csR = smoothstep(0.9*tex[1], tex[1], csR);\n    csI = smoothstep(0.9*tex[1], tex[1], csI);\n    gl_FragColor = gl_FragColor + vec4(csR + .06*csI, csR + .1*csI, .7*csR + .5*csI, 1.0);\n}",
       "layout": "IPY_MODEL_be757c18cddd4f9f99e906ca17880fb9",
       "pos": [],
       "surf": [],
       "surface_view": true,
       "tabbable": null,
       "tooltip": null
      }
     },
     "3fabe8195344476091e280e2891b5e34": {
      "model_module": "@jupyter-widgets/base",
      "model_module_version": "2.0.0",
      "model_name": "LayoutModel",
      "state": {
       "_model_module_version": "2.0.0",
       "_view_module_version": "2.0.0",
       "border_bottom": null,
       "border_left": null,
       "border_right": null,
       "border_top": null
      }
     },
     "4156af4250f441f8b7b7348eb43e2bce": {
      "model_module": "@jupyter-widgets/base",
      "model_module_version": "2.0.0",
      "model_name": "LayoutModel",
      "state": {
       "_model_module_version": "2.0.0",
       "_view_module_version": "2.0.0",
       "border_bottom": null,
       "border_left": null,
       "border_right": null,
       "border_top": null
      }
     },
     "46743bdf777548978fea118f07707958": {
      "model_module": "@jupyter-widgets/base",
      "model_module_version": "2.0.0",
      "model_name": "LayoutModel",
      "state": {
       "_model_module_version": "2.0.0",
       "_view_module_version": "2.0.0",
       "border_bottom": null,
       "border_left": null,
       "border_right": null,
       "border_top": null
      }
     },
     "46fe2971097d420d9e6166e2b049d7ff": {
      "model_module": "@jupyter-widgets/base",
      "model_module_version": "2.0.0",
      "model_name": "LayoutModel",
      "state": {
       "_model_module_version": "2.0.0",
       "_view_module_version": "2.0.0",
       "border_bottom": null,
       "border_left": null,
       "border_right": null,
       "border_top": null
      }
     },
     "4797c1f47be74bbdaaaa60b3c55780a9": {
      "model_module": "@jupyter-widgets/base",
      "model_module_version": "2.0.0",
      "model_name": "LayoutModel",
      "state": {
       "_model_module_version": "2.0.0",
       "_view_module_version": "2.0.0",
       "border_bottom": null,
       "border_left": null,
       "border_right": null,
       "border_top": null
      }
     },
     "49c805f67b574642a20a395f2d5c57c4": {
      "model_module": "@jupyter-widgets/base",
      "model_module_version": "1.2.0",
      "model_name": "LayoutModel",
      "state": {}
     },
     "4b4426ad582c4c908a0fcbbf4f158d35": {
      "model_module": "evince",
      "model_module_version": "^0.30.0",
      "model_name": "BraketModel",
      "state": {
       "_model_module_version": "^0.30.0",
       "_view_module_version": "^0.30.0",
       "additive": false,
       "ao": [
        1
       ],
       "bg_color": [
        1,
        1,
        1
       ],
       "fragment_shader": "uniform vec3 user_color;\nuniform float time;\n\nvarying vec2 vUv;\nvarying vec3 pos;\nvarying vec3 tex;\nvarying float q;\nvarying float csI;\nvarying float csR;\nvarying float cs0;\nvarying float cs;\n\nvoid main() {\n\n    vec2 p = vUv;\n    float q = tex[0]*tex[0] ;\n    float cs0 = 1.0*exp(-q);\n    float csI = 0.0 ;\n    float csR = cs0 ;\n    csR = smoothstep(0.9*tex[1], tex[1], csR);\n    csI = smoothstep(0.9*tex[1], tex[1], csI);\n    gl_FragColor = gl_FragColor + vec4(csR + .06*csI, csR + .1*csI, .7*csR + .5*csI, 1.0);\n}",
       "layout": "IPY_MODEL_cf589e3a2d11447d9be2f07e70e8a240",
       "pos": [],
       "surf": [],
       "surface_view": true
      }
     },
     "4b611e205e9942ecb0f3fd3bf81ab7a7": {
      "model_module": "evince",
      "model_module_version": "^0.31.0",
      "model_name": "BraketModel",
      "state": {
       "_model_module_version": "^0.31.0",
       "_view_module_version": "^0.31.0",
       "additive": false,
       "ao": [
        1
       ],
       "bg_color": [
        1,
        1,
        1
       ],
       "fragment_shader": "uniform vec3 user_color;\nuniform float time;\n\nvarying vec2 vUv;\nvarying vec3 pos;\nvarying vec3 tex;\nvarying float q;\nvarying float csI;\nvarying float csR;\nvarying float cs0;\nvarying float cs;\n\nvoid main() {\n\n    vec2 p = vUv;\n    float q = tex[0]*tex[0] ;\n    float cs0 = 1.0*exp(-4.4100000000000001*pow(0.47619047619047616*tex[0] - 1.0, 2.0));\n    float csI = 0.0 ;\n    float csR = cs0 ;\n    csR = smoothstep(0.9*tex[1], tex[1], csR);\n    csI = smoothstep(0.9*tex[1], tex[1], csI);\n    gl_FragColor = gl_FragColor + vec4(csR + .06*csI, csR + .1*csI, .7*csR + .5*csI, 1.0);\n}",
       "layout": "IPY_MODEL_a4f95d8f7df14b74bbfccb3562c68172",
       "pos": [],
       "surf": [],
       "surface_view": true,
       "tabbable": null,
       "tooltip": null
      }
     },
     "4ccf8a067e464f56895832b378b1b45f": {
      "model_module": "evince",
      "model_module_version": "^0.30.0",
      "model_name": "BraketModel",
      "state": {
       "_model_module_version": "^0.30.0",
       "_view_module_version": "^0.30.0",
       "additive": false,
       "ao": [
        1
       ],
       "bg_color": [
        1,
        1,
        1
       ],
       "fragment_shader": "uniform vec3 user_color;\nuniform float time;\n\nvarying vec2 vUv;\nvarying vec3 pos;\nvarying vec3 tex;\nvarying float q;\nvarying float csI;\nvarying float csR;\nvarying float cs0;\nvarying float cs;\n\nvoid main() {\n\n    vec2 p = vUv;\n    float q = tex[0]*tex[0] ;\n    float cs0 = 1.0*exp(-4.4100000000000001*pow(0.47619047619047616*tex[0] - 1.0, 2.0));\n    float csI = 0.0 ;\n    float csR = cs0 ;\n    csR = smoothstep(0.9*tex[1], tex[1], csR);\n    csI = smoothstep(0.9*tex[1], tex[1], csI);\n    gl_FragColor = gl_FragColor + vec4(csR + .06*csI, csR + .1*csI, .7*csR + .5*csI, 1.0);\n}",
       "layout": "IPY_MODEL_f5b3a8346bb445e1a49054519094506c",
       "pos": [],
       "surf": [],
       "surface_view": true,
       "tabbable": null,
       "tooltip": null
      }
     },
     "4db20a1bd79d4c87adde4eb6286ab723": {
      "model_module": "evince",
      "model_module_version": "^0.30.0",
      "model_name": "BraketModel",
      "state": {
       "_model_module_version": "^0.30.0",
       "_view_module_version": "^0.30.0",
       "additive": false,
       "ao": [
        1
       ],
       "bg_color": [
        1,
        1,
        1
       ],
       "fragment_shader": "uniform vec3 user_color;\nuniform float time;\n\nvarying vec2 vUv;\nvarying vec3 pos;\nvarying vec3 tex;\nvarying float q;\nvarying float csI;\nvarying float csR;\nvarying float cs0;\nvarying float cs;\n\nvoid main() {\n\n    vec2 p = vUv;\n    float q = tex[0]*tex[0] ;\n    float cs0 = (4.0*q - 2.0)*exp(-q);\n    float csI = 0.0 ;\n    float csR = cs0 ;\n    csR = smoothstep(0.9*tex[1], tex[1], csR);\n    csI = smoothstep(0.9*tex[1], tex[1], csI);\n    gl_FragColor = gl_FragColor + vec4(csR + .06*csI, csR + .1*csI, .7*csR + .5*csI, 1.0);\n}",
       "layout": "IPY_MODEL_16cd1eae3ead4a6f91fb20f0350cc9de",
       "pos": [],
       "surf": [],
       "surface_view": true,
       "tabbable": null,
       "tooltip": null
      }
     },
     "4e28907ac86c42158d2d3b3f98ac2895": {
      "model_module": "evince",
      "model_module_version": "^0.30.0",
      "model_name": "BraketModel",
      "state": {
       "_model_module_version": "^0.30.0",
       "_view_module_version": "^0.30.0",
       "additive": false,
       "ao": [
        1
       ],
       "bg_color": [
        1,
        1,
        1
       ],
       "fragment_shader": "uniform vec3 user_color;\nuniform float time;\n\nvarying vec2 vUv;\nvarying vec3 pos;\nvarying vec3 tex;\nvarying float q;\nvarying float csI;\nvarying float csR;\nvarying float cs0;\nvarying float cs;\n\nvoid main() {\n\n    vec2 p = vUv;\n    float q = tex[0]*tex[0] ;\n    float cs0 = 1.0*exp(-q);\n    float csI = 0.0 ;\n    float csR = cs0 ;\n    csR = smoothstep(0.9*tex[1], tex[1], csR);\n    csI = smoothstep(0.9*tex[1], tex[1], csI);\n    gl_FragColor = gl_FragColor + vec4(csR + .06*csI, csR + .1*csI, .7*csR + .5*csI, 1.0);\n}",
       "layout": "IPY_MODEL_d49a22d31d0b4481a1ffcd53889b1f56",
       "pos": [],
       "surf": [],
       "surface_view": true
      }
     },
     "4fdb47c1170c489dafbfe691c2e4f49f": {
      "model_module": "@jupyter-widgets/base",
      "model_module_version": "2.0.0",
      "model_name": "LayoutModel",
      "state": {
       "_model_module_version": "2.0.0",
       "_view_module_version": "2.0.0",
       "border_bottom": null,
       "border_left": null,
       "border_right": null,
       "border_top": null
      }
     },
     "50e73cc910fa4968919c5de0f1d90a40": {
      "model_module": "@jupyter-widgets/base",
      "model_module_version": "1.2.0",
      "model_name": "LayoutModel",
      "state": {}
     },
     "53650000aa764a3e9315fb2fdc2bee1d": {
      "model_module": "@jupyter-widgets/base",
      "model_module_version": "1.2.0",
      "model_name": "LayoutModel",
      "state": {}
     },
     "55d0c0a4c1804e11b5da4827bd36c2d0": {
      "model_module": "evince",
      "model_module_version": "^0.30.0",
      "model_name": "BraketModel",
      "state": {
       "_model_module_version": "^0.30.0",
       "_view_module_version": "^0.30.0",
       "additive": true,
       "ao": [
        1
       ],
       "bg_color": [
        0,
        0,
        0
       ],
       "fragment_shader": "uniform vec3 user_color;\nuniform float time;\n\nvarying vec2 vUv;\nvarying vec3 pos;\nvarying vec3 tex;\nvarying float q;\nvarying float csI;\nvarying float csR;\nvarying float cs0;\nvarying float cs;\n\nvoid main() {\n\n    vec2 p = vUv;\n    float q = tex[0]*tex[0] ;\n    float cs0 = -2.0*tex[0]*exp(-q);\n    float csI = 0.0 ;\n    float csR = cs0 ;\n    csR = smoothstep(0.9*tex[1], tex[1], csR);\n    csI = smoothstep(0.9*tex[1], tex[1], csI);\n    gl_FragColor = gl_FragColor + vec4(csR, csI, -1.0*csR, 1);\n}",
       "layout": "IPY_MODEL_71bdfc570a854c819ce8ea1c34da4ea4",
       "pos": [],
       "surf": [],
       "surface_view": true
      }
     },
     "574a9f4522a64e398b5dde7fbfebb0b9": {
      "model_module": "@jupyter-widgets/base",
      "model_module_version": "2.0.0",
      "model_name": "LayoutModel",
      "state": {
       "_model_module_version": "2.0.0",
       "_view_module_version": "2.0.0",
       "border_bottom": null,
       "border_left": null,
       "border_right": null,
       "border_top": null
      }
     },
     "589d85379ad941dda88f70d6c08867da": {
      "model_module": "@jupyter-widgets/base",
      "model_module_version": "2.0.0",
      "model_name": "LayoutModel",
      "state": {
       "_model_module_version": "2.0.0",
       "_view_module_version": "2.0.0",
       "border_bottom": null,
       "border_left": null,
       "border_right": null,
       "border_top": null
      }
     },
     "597e15cbb2494155a7cec95a8fafb056": {
      "model_module": "@jupyter-widgets/base",
      "model_module_version": "1.2.0",
      "model_name": "LayoutModel",
      "state": {}
     },
     "5a5458400e674f0dacbee1e1da796092": {
      "model_module": "evince",
      "model_module_version": "^0.30.0",
      "model_name": "BraketModel",
      "state": {
       "_model_module_version": "^0.30.0",
       "_view_module_version": "^0.30.0",
       "additive": false,
       "ao": [
        1
       ],
       "bg_color": [
        1,
        1,
        1
       ],
       "fragment_shader": "uniform vec3 user_color;\nuniform float time;\n\nvarying vec2 vUv;\nvarying vec3 pos;\nvarying vec3 tex;\nvarying float q;\nvarying float csI;\nvarying float csR;\nvarying float cs0;\nvarying float cs;\n\nvoid main() {\n\n    vec2 p = vUv;\n    float q = tex[0]*tex[0] ;\n    float cs0 = 1.0*exp(-q);\n    float csI = 0.0 ;\n    float csR = cs0 ;\n    csR = smoothstep(0.9*tex[1], tex[1], csR);\n    csI = smoothstep(0.9*tex[1], tex[1], csI);\n    gl_FragColor = gl_FragColor + vec4(csR + .06*csI, csR + .1*csI, .7*csR + .5*csI, 1.0);\n}",
       "layout": "IPY_MODEL_29886d1adc2241be8b413894578b68a9",
       "pos": [],
       "surf": [],
       "surface_view": true,
       "tabbable": null,
       "tooltip": null
      }
     },
     "5a5516b5f1a04435a4464d4545d3734c": {
      "model_module": "@jupyter-widgets/base",
      "model_module_version": "1.2.0",
      "model_name": "LayoutModel",
      "state": {}
     },
     "5b0dcd2cb8fc4715a376b752d71dc521": {
      "model_module": "@jupyter-widgets/base",
      "model_module_version": "1.2.0",
      "model_name": "LayoutModel",
      "state": {}
     },
     "5b2bbc759c314305b5b8fd4a137d9207": {
      "model_module": "@jupyter-widgets/base",
      "model_module_version": "2.0.0",
      "model_name": "LayoutModel",
      "state": {
       "_model_module_version": "2.0.0",
       "_view_module_version": "2.0.0",
       "border_bottom": null,
       "border_left": null,
       "border_right": null,
       "border_top": null
      }
     },
     "5ba7b83bcac84889ba6782846349b9e1": {
      "model_module": "evince",
      "model_module_version": "^0.30.0",
      "model_name": "BraketModel",
      "state": {
       "_model_module_version": "^0.30.0",
       "_view_module_version": "^0.30.0",
       "additive": false,
       "ao": [
        1
       ],
       "bg_color": [
        1,
        1,
        1
       ],
       "fragment_shader": "uniform vec3 user_color;\nuniform float time;\n\nvarying vec2 vUv;\nvarying vec3 pos;\nvarying vec3 tex;\nvarying float q;\nvarying float csI;\nvarying float csR;\nvarying float cs0;\nvarying float cs;\n\nvoid main() {\n\n    vec2 p = vUv;\n    float q = tex[0]*tex[0] ;\n    float cs0 = (4.0*q - 2.0)*exp(-q);\n    float csI = 0.0 ;\n    float csR = cs0 ;\n    csR = smoothstep(0.9*tex[1], tex[1], csR);\n    csI = smoothstep(0.9*tex[1], tex[1], csI);\n    gl_FragColor = gl_FragColor + vec4(csR + .06*csI, csR + .1*csI, .7*csR + .5*csI, 1.0);\n}",
       "layout": "IPY_MODEL_14484eceaa9b4038a42f38d1147b392e",
       "pos": [],
       "surf": [],
       "surface_view": true,
       "tabbable": null,
       "tooltip": null
      }
     },
     "5eaa0cba14ec4843ad9e03ee5efc6894": {
      "model_module": "evince",
      "model_module_version": "^0.30.0",
      "model_name": "BraketModel",
      "state": {
       "_model_module_version": "^0.30.0",
       "_view_module_version": "^0.30.0",
       "additive": false,
       "ao": [
        1
       ],
       "bg_color": [
        1,
        1,
        1
       ],
       "fragment_shader": "uniform vec3 user_color;\nuniform float time;\n\nvarying vec2 vUv;\nvarying vec3 pos;\nvarying vec3 tex;\nvarying float q;\nvarying float csI;\nvarying float csR;\nvarying float cs0;\nvarying float cs;\n\nvoid main() {\n\n    vec2 p = vUv;\n    float q = tex[0]*tex[0] ;\n    float cs0 = -2.0*tex[0]*exp(-q);\n    float csI = 0.0 ;\n    float csR = cs0 ;\n    csR = smoothstep(0.9*tex[1], tex[1], csR);\n    csI = smoothstep(0.9*tex[1], tex[1], csI);\n    gl_FragColor = gl_FragColor + vec4(csR + .06*csI, csR + .1*csI, .7*csR + .5*csI, 1.0);\n}",
       "layout": "IPY_MODEL_7e1d4f55709d4edd9e47d1d0577513d7",
       "pos": [],
       "surf": [],
       "surface_view": true,
       "tabbable": null,
       "tooltip": null
      }
     },
     "5f6e5e1d4c4246b2aaa14d4914bc01ab": {
      "model_module": "evince",
      "model_module_version": "^0.30.0",
      "model_name": "BraketModel",
      "state": {
       "_model_module_version": "^0.30.0",
       "_view_module_version": "^0.30.0",
       "additive": false,
       "ao": [
        1
       ],
       "bg_color": [
        1,
        1,
        1
       ],
       "fragment_shader": "uniform vec3 user_color;\nuniform float time;\n\nvarying vec2 vUv;\nvarying vec3 pos;\nvarying vec3 tex;\nvarying float q;\nvarying float csI;\nvarying float csR;\nvarying float cs0;\nvarying float cs;\n\nvoid main() {\n\n    vec2 p = vUv;\n    float q = tex[0]*tex[0] ;\n    float cs0 = 1.0*exp(-q);\n    float csI = 0.0 ;\n    float csR = cs0 ;\n    csR = smoothstep(0.9*tex[1], tex[1], csR);\n    csI = smoothstep(0.9*tex[1], tex[1], csI);\n    gl_FragColor = gl_FragColor + vec4(csR + .06*csI, csR + .1*csI, .7*csR + .5*csI, 1.0);\n}",
       "layout": "IPY_MODEL_35d8c0c2817142aa870e4e08ff9ab749",
       "pos": [],
       "surf": [],
       "surface_view": true
      }
     },
     "61bc1408e4764ec2ae4269b001d854cd": {
      "model_module": "@jupyter-widgets/base",
      "model_module_version": "1.2.0",
      "model_name": "LayoutModel",
      "state": {}
     },
     "61dc1b217d1749a0802a87236104a430": {
      "model_module": "@jupyter-widgets/base",
      "model_module_version": "1.2.0",
      "model_name": "LayoutModel",
      "state": {}
     },
     "63cd8d7c8ee2406aa2f314dff8f89850": {
      "model_module": "evince",
      "model_module_version": "^0.31.0",
      "model_name": "BraketModel",
      "state": {
       "_model_module_version": "^0.31.0",
       "_view_module_version": "^0.31.0",
       "additive": false,
       "ao": [
        1
       ],
       "bg_color": [
        1,
        1,
        1
       ],
       "fragment_shader": "uniform vec3 user_color;\nuniform float time;\n\nvarying vec2 vUv;\nvarying vec3 pos;\nvarying vec3 tex;\nvarying float q;\nvarying float csI;\nvarying float csR;\nvarying float cs0;\nvarying float cs;\n\nvoid main() {\n\n    vec2 p = vUv;\n    float q = tex[0]*tex[0] ;\n    float cs0 = (4.0*q - 2.0)*exp(-q);\n    float csI = 0.0 ;\n    float csR = cs0 ;\n    csR = smoothstep(0.9*tex[1], tex[1], csR);\n    csI = smoothstep(0.9*tex[1], tex[1], csI);\n    gl_FragColor = gl_FragColor + vec4(csR + .06*csI, csR + .1*csI, .7*csR + .5*csI, 1.0);\n}",
       "layout": "IPY_MODEL_dbce5a1350c3484bbed231ff14f5c8d6",
       "pos": [],
       "surf": [],
       "surface_view": true,
       "tabbable": null,
       "tooltip": null
      }
     },
     "6489d997ba074ab9b93f3866bdaf6911": {
      "model_module": "@jupyter-widgets/base",
      "model_module_version": "2.0.0",
      "model_name": "LayoutModel",
      "state": {
       "_model_module_version": "2.0.0",
       "_view_module_version": "2.0.0",
       "border_bottom": null,
       "border_left": null,
       "border_right": null,
       "border_top": null
      }
     },
     "65bdd6f349884238bd141510c7c31d73": {
      "model_module": "evince",
      "model_module_version": "^0.30.0",
      "model_name": "BraketModel",
      "state": {
       "_model_module_version": "^0.30.0",
       "_view_module_version": "^0.30.0",
       "additive": false,
       "ao": [
        1
       ],
       "bg_color": [
        1,
        1,
        1
       ],
       "fragment_shader": "uniform vec3 user_color;\nuniform float time;\n\nvarying vec2 vUv;\nvarying vec3 pos;\nvarying vec3 tex;\nvarying float q;\nvarying float csI;\nvarying float csR;\nvarying float cs0;\nvarying float cs;\n\nvoid main() {\n\n    vec2 p = vUv;\n    float q = tex[0]*tex[0] ;\n    float cs0 = -2.0*tex[0]*exp(-q);\n    float csI = 0.0 ;\n    float csR = cs0 ;\n    csR = smoothstep(0.9*tex[1], tex[1], csR);\n    csI = smoothstep(0.9*tex[1], tex[1], csI);\n    gl_FragColor = gl_FragColor + vec4(csR + .06*csI, csR + .1*csI, .7*csR + .5*csI, 1.0);\n}",
       "layout": "IPY_MODEL_a5955a73bb05483892a9b7a2326aa418",
       "pos": [],
       "surf": [],
       "surface_view": true
      }
     },
     "6750e2bd7e5f48c4ad5193564fa00182": {
      "model_module": "evince",
      "model_module_version": "^0.30.0",
      "model_name": "BraketModel",
      "state": {
       "_model_module_version": "^0.30.0",
       "_view_module_version": "^0.30.0",
       "additive": false,
       "ao": [
        1
       ],
       "bg_color": [
        1,
        1,
        1
       ],
       "fragment_shader": "uniform vec3 user_color;\nuniform float time;\n\nvarying vec2 vUv;\nvarying vec3 pos;\nvarying vec3 tex;\nvarying float q;\nvarying float csI;\nvarying float csR;\nvarying float cs0;\nvarying float cs;\n\nvoid main() {\n\n    vec2 p = vUv;\n    float q = tex[0]*tex[0] ;\n    float cs0 = 1.0*exp(-4.4100000000000001*pow(0.47619047619047616*tex[0] - 1.0, 2.0));\n    float csI = 0.0 ;\n    float csR = cs0 ;\n    csR = smoothstep(0.9*tex[1], tex[1], csR);\n    csI = smoothstep(0.9*tex[1], tex[1], csI);\n    gl_FragColor = gl_FragColor + vec4(csR + .06*csI, csR + .1*csI, .7*csR + .5*csI, 1.0);\n}",
       "layout": "IPY_MODEL_113feaeb7b1b43a2ae3f3c4c2119e41f",
       "pos": [],
       "surf": [],
       "surface_view": true
      }
     },
     "6a9eda666f384922925dbdfe0829d39d": {
      "model_module": "@jupyter-widgets/base",
      "model_module_version": "2.0.0",
      "model_name": "LayoutModel",
      "state": {
       "_model_module_version": "2.0.0",
       "_view_module_version": "2.0.0",
       "border_bottom": null,
       "border_left": null,
       "border_right": null,
       "border_top": null
      }
     },
     "6acbd29274034c64b5ebbe8c2aa1b219": {
      "model_module": "evince",
      "model_module_version": "^0.30.0",
      "model_name": "BraketModel",
      "state": {
       "_model_module_version": "^0.30.0",
       "_view_module_version": "^0.30.0",
       "additive": false,
       "ao": [
        1
       ],
       "bg_color": [
        1,
        1,
        1
       ],
       "fragment_shader": "uniform vec3 user_color;\nuniform float time;\n\nvarying vec2 vUv;\nvarying vec3 pos;\nvarying vec3 tex;\nvarying float q;\nvarying float csI;\nvarying float csR;\nvarying float cs0;\nvarying float cs;\n\nvoid main() {\n\n    vec2 p = vUv;\n    float q = tex[0]*tex[0] ;\n    float cs0 = -2.0*tex[0]*exp(-q);\n    float csI = 0.0 ;\n    float csR = cs0 ;\n    csR = smoothstep(0.9*tex[1], tex[1], csR);\n    csI = smoothstep(0.9*tex[1], tex[1], csI);\n    gl_FragColor = gl_FragColor + vec4(csR + .06*csI, csR + .1*csI, .7*csR + .5*csI, 1.0);\n}",
       "layout": "IPY_MODEL_1086313f2e0f425396a134fd86b9d759",
       "pos": [],
       "surf": [],
       "surface_view": true,
       "tabbable": null,
       "tooltip": null
      }
     },
     "6d8e8ecb52954c248f97a4d59a669a0e": {
      "model_module": "evince",
      "model_module_version": "^0.30.0",
      "model_name": "BraketModel",
      "state": {
       "_model_module_version": "^0.30.0",
       "_view_module_version": "^0.30.0",
       "additive": false,
       "ao": [
        1
       ],
       "bg_color": [
        1,
        1,
        1
       ],
       "fragment_shader": "uniform vec3 user_color;\nuniform float time;\n\nvarying vec2 vUv;\nvarying vec3 pos;\nvarying vec3 tex;\nvarying float q;\nvarying float csI;\nvarying float csR;\nvarying float cs0;\nvarying float cs;\n\nvoid main() {\n\n    vec2 p = vUv;\n    float q = tex[0]*tex[0] ;\n    float cs0 = -2.0*tex[0]*exp(-q);\n    float csI = 0.0 ;\n    float csR = cs0 ;\n    csR = smoothstep(0.9*tex[1], tex[1], csR);\n    csI = smoothstep(0.9*tex[1], tex[1], csI);\n    gl_FragColor = gl_FragColor + vec4(csR + .06*csI, csR + .1*csI, .7*csR + .5*csI, 1.0);\n}",
       "layout": "IPY_MODEL_0123787abf9a4b71bf4b5e5a0e11a5ed",
       "pos": [],
       "surf": [],
       "surface_view": true
      }
     },
     "6daab284a0fd4beca6d5971c64f6ca64": {
      "model_module": "evince",
      "model_module_version": "^0.30.0",
      "model_name": "BraketModel",
      "state": {
       "_model_module_version": "^0.30.0",
       "_view_module_version": "^0.30.0",
       "additive": false,
       "ao": [
        1
       ],
       "bg_color": [
        1,
        1,
        1
       ],
       "fragment_shader": "uniform vec3 user_color;\nuniform float time;\n\nvarying vec2 vUv;\nvarying vec3 pos;\nvarying vec3 tex;\nvarying float q;\nvarying float csI;\nvarying float csR;\nvarying float cs0;\nvarying float cs;\n\nvoid main() {\n\n    vec2 p = vUv;\n    float q = tex[0]*tex[0] ;\n    float cs0 = 1.0*exp(-q);\n    float csI = 0.0 ;\n    float csR = cs0 ;\n    csR = smoothstep(0.9*tex[1], tex[1], csR);\n    csI = smoothstep(0.9*tex[1], tex[1], csI);\n    gl_FragColor = gl_FragColor + vec4(csR + .06*csI, csR + .1*csI, .7*csR + .5*csI, 1.0);\n}",
       "layout": "IPY_MODEL_f9a7a7656cbf45f6812d5a543453f533",
       "pos": [],
       "surf": [],
       "surface_view": true,
       "tabbable": null,
       "tooltip": null
      }
     },
     "6de021c2dcdb4f9199f94304df728b5a": {
      "model_module": "evince",
      "model_module_version": "^0.30.0",
      "model_name": "BraketModel",
      "state": {
       "_model_module_version": "^0.30.0",
       "_view_module_version": "^0.30.0",
       "additive": false,
       "ao": [
        1
       ],
       "bg_color": [
        1,
        1,
        1
       ],
       "fragment_shader": "uniform vec3 user_color;\nuniform float time;\n\nvarying vec2 vUv;\nvarying vec3 pos;\nvarying vec3 tex;\nvarying float q;\nvarying float csI;\nvarying float csR;\nvarying float cs0;\nvarying float cs;\n\nvoid main() {\n\n    vec2 p = vUv;\n    float q = tex[0]*tex[0] ;\n    float cs0 = 1.0*exp(-4.4100000000000001*pow(0.47619047619047616*tex[0] - 1.0, 2.0));\n    float csI = 0.0 ;\n    float csR = cs0 ;\n    csR = smoothstep(0.9*tex[1], tex[1], csR);\n    csI = smoothstep(0.9*tex[1], tex[1], csI);\n    gl_FragColor = gl_FragColor + vec4(csR + .06*csI, csR + .1*csI, .7*csR + .5*csI, 1.0);\n}",
       "layout": "IPY_MODEL_61dc1b217d1749a0802a87236104a430",
       "pos": [],
       "surf": [],
       "surface_view": true
      }
     },
     "6f398e98fef74ddc93c0fc769e82cf94": {
      "model_module": "evince",
      "model_module_version": "^0.30.0",
      "model_name": "BraketModel",
      "state": {
       "_model_module_version": "^0.30.0",
       "_view_module_version": "^0.30.0",
       "additive": false,
       "ao": [
        1
       ],
       "bg_color": [
        1,
        1,
        1
       ],
       "fragment_shader": "uniform vec3 user_color;\nuniform float time;\n\nvarying vec2 vUv;\nvarying vec3 pos;\nvarying vec3 tex;\nvarying float q;\nvarying float csI;\nvarying float csR;\nvarying float cs0;\nvarying float cs;\n\nvoid main() {\n\n    vec2 p = vUv;\n    float q = tex[0]*tex[0] ;\n    float cs0 = 1.0*exp(-q);\n    float csI = 0.0 ;\n    float csR = cs0 ;\n    csR = smoothstep(0.9*tex[1], tex[1], csR);\n    csI = smoothstep(0.9*tex[1], tex[1], csI);\n    gl_FragColor = gl_FragColor + vec4(csR + .06*csI, csR + .1*csI, .7*csR + .5*csI, 1.0);\n}",
       "layout": "IPY_MODEL_bc2ad08fb2e447a2abc711cb1cf8bf36",
       "pos": [],
       "surf": [],
       "surface_view": true,
       "tabbable": null,
       "tooltip": null
      }
     },
     "6fbd780f07104d708ee1ce61af35cce8": {
      "model_module": "@jupyter-widgets/base",
      "model_module_version": "2.0.0",
      "model_name": "LayoutModel",
      "state": {
       "_model_module_version": "2.0.0",
       "_view_module_version": "2.0.0",
       "border_bottom": null,
       "border_left": null,
       "border_right": null,
       "border_top": null
      }
     },
     "6ffd0a2d2de5409caf7c84b1e395ae36": {
      "model_module": "evince",
      "model_module_version": "^0.30.0",
      "model_name": "BraketModel",
      "state": {
       "_model_module_version": "^0.30.0",
       "_view_module_version": "^0.30.0",
       "additive": false,
       "ao": [
        1
       ],
       "bg_color": [
        1,
        1,
        1
       ],
       "fragment_shader": "uniform vec3 user_color;\nuniform float time;\n\nvarying vec2 vUv;\nvarying vec3 pos;\nvarying vec3 tex;\nvarying float q;\nvarying float csI;\nvarying float csR;\nvarying float cs0;\nvarying float cs;\n\nvoid main() {\n\n    vec2 p = vUv;\n    float q = tex[0]*tex[0] ;\n    float cs0 = (4.0*q - 2.0)*exp(-q);\n    float csI = 0.0 ;\n    float csR = cs0 ;\n    csR = smoothstep(0.9*tex[1], tex[1], csR);\n    csI = smoothstep(0.9*tex[1], tex[1], csI);\n    gl_FragColor = gl_FragColor + vec4(csR + .06*csI, csR + .1*csI, .7*csR + .5*csI, 1.0);\n}",
       "layout": "IPY_MODEL_5b0dcd2cb8fc4715a376b752d71dc521",
       "pos": [],
       "surf": [],
       "surface_view": true
      }
     },
     "70d8afa5c9cd4885a9124b9716e053b5": {
      "model_module": "evince",
      "model_module_version": "^0.30.0",
      "model_name": "BraketModel",
      "state": {
       "_model_module_version": "^0.30.0",
       "_view_module_version": "^0.30.0",
       "additive": false,
       "ao": [
        1
       ],
       "bg_color": [
        1,
        1,
        1
       ],
       "fragment_shader": "uniform vec3 user_color;\nuniform float time;\n\nvarying vec2 vUv;\nvarying vec3 pos;\nvarying vec3 tex;\nvarying float q;\nvarying float csI;\nvarying float csR;\nvarying float cs0;\nvarying float cs;\n\nvoid main() {\n\n    vec2 p = vUv;\n    float q = tex[0]*tex[0] ;\n    float cs0 = 1.0*exp(-q);\n    float csI = 0.0 ;\n    float csR = cs0 ;\n    csR = smoothstep(0.9*tex[1], tex[1], csR);\n    csI = smoothstep(0.9*tex[1], tex[1], csI);\n    gl_FragColor = gl_FragColor + vec4(csR + .06*csI, csR + .1*csI, .7*csR + .5*csI, 1.0);\n}",
       "layout": "IPY_MODEL_589d85379ad941dda88f70d6c08867da",
       "pos": [],
       "surf": [],
       "surface_view": true,
       "tabbable": null,
       "tooltip": null
      }
     },
     "7130ddf697834d539a8c462abe172e01": {
      "model_module": "evince",
      "model_module_version": "^0.30.0",
      "model_name": "BraketModel",
      "state": {
       "_model_module_version": "^0.30.0",
       "_view_module_version": "^0.30.0",
       "additive": false,
       "ao": [
        1
       ],
       "bg_color": [
        1,
        1,
        1
       ],
       "fragment_shader": "uniform vec3 user_color;\nuniform float time;\n\nvarying vec2 vUv;\nvarying vec3 pos;\nvarying vec3 tex;\nvarying float q;\nvarying float csI;\nvarying float csR;\nvarying float cs0;\nvarying float cs;\n\nvoid main() {\n\n    vec2 p = vUv;\n    float q = tex[0]*tex[0] ;\n    float cs0 = -2.0*tex[0]*exp(-q);\n    float csI = 0.0 ;\n    float csR = cs0 ;\n    csR = smoothstep(0.9*tex[1], tex[1], csR);\n    csI = smoothstep(0.9*tex[1], tex[1], csI);\n    gl_FragColor = gl_FragColor + vec4(csR + .06*csI, csR + .1*csI, .7*csR + .5*csI, 1.0);\n}",
       "layout": "IPY_MODEL_956201f894aa4c64bde629085082188d",
       "pos": [],
       "surf": [],
       "surface_view": true,
       "tabbable": null,
       "tooltip": null
      }
     },
     "71bdfc570a854c819ce8ea1c34da4ea4": {
      "model_module": "@jupyter-widgets/base",
      "model_module_version": "1.2.0",
      "model_name": "LayoutModel",
      "state": {}
     },
     "78e1f375abb640d78905c0bce7df2fa6": {
      "model_module": "@jupyter-widgets/base",
      "model_module_version": "1.2.0",
      "model_name": "LayoutModel",
      "state": {}
     },
     "79c2ea0bee87470db9f06bc5c6899dc1": {
      "model_module": "@jupyter-widgets/base",
      "model_module_version": "1.2.0",
      "model_name": "LayoutModel",
      "state": {}
     },
     "7d5facc7b31749b4a45a687b8400c4a0": {
      "model_module": "@jupyter-widgets/base",
      "model_module_version": "2.0.0",
      "model_name": "LayoutModel",
      "state": {
       "_model_module_version": "2.0.0",
       "_view_module_version": "2.0.0",
       "border_bottom": null,
       "border_left": null,
       "border_right": null,
       "border_top": null
      }
     },
     "7e1d4f55709d4edd9e47d1d0577513d7": {
      "model_module": "@jupyter-widgets/base",
      "model_module_version": "2.0.0",
      "model_name": "LayoutModel",
      "state": {
       "_model_module_version": "2.0.0",
       "_view_module_version": "2.0.0",
       "border_bottom": null,
       "border_left": null,
       "border_right": null,
       "border_top": null
      }
     },
     "853ba8b1d1fa4a31b4086a53036e4439": {
      "model_module": "evince",
      "model_module_version": "^0.30.0",
      "model_name": "BraketModel",
      "state": {
       "_model_module_version": "^0.30.0",
       "_view_module_version": "^0.30.0",
       "additive": false,
       "ao": [
        1
       ],
       "bg_color": [
        1,
        1,
        1
       ],
       "fragment_shader": "uniform vec3 user_color;\nuniform float time;\n\nvarying vec2 vUv;\nvarying vec3 pos;\nvarying vec3 tex;\nvarying float q;\nvarying float csI;\nvarying float csR;\nvarying float cs0;\nvarying float cs;\n\nvoid main() {\n\n    vec2 p = vUv;\n    float q = tex[0]*tex[0] ;\n    float cs0 = 1.0*exp(-4.4100000000000001*pow(0.47619047619047616*tex[0] - 1.0, 2.0));\n    float csI = 0.0 ;\n    float csR = cs0 ;\n    csR = smoothstep(0.9*tex[1], tex[1], csR);\n    csI = smoothstep(0.9*tex[1], tex[1], csI);\n    gl_FragColor = gl_FragColor + vec4(csR + .06*csI, csR + .1*csI, .7*csR + .5*csI, 1.0);\n}",
       "layout": "IPY_MODEL_fbcd4c2f397149719960cf23a6e15b2c",
       "pos": [],
       "surf": [],
       "surface_view": true,
       "tabbable": null,
       "tooltip": null
      }
     },
     "85b6cea910864266a067f9560dd6d355": {
      "model_module": "evince",
      "model_module_version": "^0.30.0",
      "model_name": "BraketModel",
      "state": {
       "_model_module_version": "^0.30.0",
       "_view_module_version": "^0.30.0",
       "additive": false,
       "ao": [
        1
       ],
       "bg_color": [
        1,
        1,
        1
       ],
       "fragment_shader": "uniform vec3 user_color;\nuniform float time;\n\nvarying vec2 vUv;\nvarying vec3 pos;\nvarying vec3 tex;\nvarying float q;\nvarying float csI;\nvarying float csR;\nvarying float cs0;\nvarying float cs;\n\nvoid main() {\n\n    vec2 p = vUv;\n    float q = tex[0]*tex[0] ;\n    float cs0 = -2.0*tex[0]*exp(-q);\n    float csI = 0.0 ;\n    float csR = cs0 ;\n    csR = smoothstep(0.9*tex[1], tex[1], csR);\n    csI = smoothstep(0.9*tex[1], tex[1], csI);\n    gl_FragColor = gl_FragColor + vec4(csR + .06*csI, csR + .1*csI, .7*csR + .5*csI, 1.0);\n}",
       "layout": "IPY_MODEL_db9dd30fe79b4a4c9d16a2d03f63a838",
       "pos": [],
       "surf": [],
       "surface_view": true,
       "tabbable": null,
       "tooltip": null
      }
     },
     "85da3297e6534279a1ca85a506c22917": {
      "model_module": "@jupyter-widgets/base",
      "model_module_version": "2.0.0",
      "model_name": "LayoutModel",
      "state": {
       "_model_module_version": "2.0.0",
       "_view_module_version": "2.0.0",
       "border_bottom": null,
       "border_left": null,
       "border_right": null,
       "border_top": null
      }
     },
     "864e5adf7a2247c49519088e0a47bfc4": {
      "model_module": "@jupyter-widgets/base",
      "model_module_version": "1.2.0",
      "model_name": "LayoutModel",
      "state": {}
     },
     "89655772094447cdbcd62cbbc8ef56db": {
      "model_module": "evince",
      "model_module_version": "^0.30.0",
      "model_name": "BraketModel",
      "state": {
       "_model_module_version": "^0.30.0",
       "_view_module_version": "^0.30.0",
       "additive": false,
       "ao": [
        1
       ],
       "bg_color": [
        1,
        1,
        1
       ],
       "fragment_shader": "uniform vec3 user_color;\nuniform float time;\n\nvarying vec2 vUv;\nvarying vec3 pos;\nvarying vec3 tex;\nvarying float q;\nvarying float csI;\nvarying float csR;\nvarying float cs0;\nvarying float cs;\n\nvoid main() {\n\n    vec2 p = vUv;\n    float q = tex[0]*tex[0] ;\n    float cs0 = 1.0*exp(-4.4100000000000001*pow(0.47619047619047616*tex[0] - 1.0, 2.0));\n    float csI = 0.0 ;\n    float csR = cs0 ;\n    csR = smoothstep(0.9*tex[1], tex[1], csR);\n    csI = smoothstep(0.9*tex[1], tex[1], csI);\n    gl_FragColor = gl_FragColor + vec4(csR + .06*csI, csR + .1*csI, .7*csR + .5*csI, 1.0);\n}",
       "layout": "IPY_MODEL_4797c1f47be74bbdaaaa60b3c55780a9",
       "pos": [],
       "surf": [],
       "surface_view": true,
       "tabbable": null,
       "tooltip": null
      }
     },
     "8d356062487c4ab48ef000db6f22dc0c": {
      "model_module": "evince",
      "model_module_version": "^0.30.0",
      "model_name": "BraketModel",
      "state": {
       "_model_module_version": "^0.30.0",
       "_view_module_version": "^0.30.0",
       "additive": true,
       "ao": [
        1
       ],
       "bg_color": [
        0,
        0,
        0
       ],
       "fragment_shader": "uniform vec3 user_color;\nuniform float time;\n\nvarying vec2 vUv;\nvarying vec3 pos;\nvarying vec3 tex;\nvarying float q;\nvarying float csI;\nvarying float csR;\nvarying float cs0;\nvarying float cs;\n\nvoid main() {\n\n    vec2 p = vUv;\n    float q = tex[0]*tex[0] ;\n    float cs0 = -2.0*tex[0]*exp(-q);\n    float csI = 0.0 ;\n    float csR = cs0 ;\n    csR = smoothstep(0.9*tex[1], tex[1], csR);\n    csI = smoothstep(0.9*tex[1], tex[1], csI);\n    gl_FragColor = gl_FragColor + vec4(csR, csI, -1.0*csR, 1);\n}",
       "layout": "IPY_MODEL_78e1f375abb640d78905c0bce7df2fa6",
       "pos": [],
       "surf": [],
       "surface_view": true
      }
     },
     "905dacd0b9ab4c3baf9b6a163c2d476f": {
      "model_module": "evince",
      "model_module_version": "^0.30.0",
      "model_name": "BraketModel",
      "state": {
       "_model_module_version": "^0.30.0",
       "_view_module_version": "^0.30.0",
       "additive": false,
       "ao": [
        1
       ],
       "bg_color": [
        1,
        1,
        1
       ],
       "fragment_shader": "uniform vec3 user_color;\nuniform float time;\n\nvarying vec2 vUv;\nvarying vec3 pos;\nvarying vec3 tex;\nvarying float q;\nvarying float csI;\nvarying float csR;\nvarying float cs0;\nvarying float cs;\n\nvoid main() {\n\n    vec2 p = vUv;\n    float q = tex[0]*tex[0] ;\n    float cs0 = (4.0*q - 2.0)*exp(-q);\n    float csI = 0.0 ;\n    float csR = cs0 ;\n    csR = smoothstep(0.9*tex[1], tex[1], csR);\n    csI = smoothstep(0.9*tex[1], tex[1], csI);\n    gl_FragColor = gl_FragColor + vec4(csR + .06*csI, csR + .1*csI, .7*csR + .5*csI, 1.0);\n}",
       "layout": "IPY_MODEL_79c2ea0bee87470db9f06bc5c6899dc1",
       "pos": [],
       "surf": [],
       "surface_view": true
      }
     },
     "949e075644944849bad540598c7aee8e": {
      "model_module": "evince",
      "model_module_version": "^0.30.0",
      "model_name": "BraketModel",
      "state": {
       "_model_module_version": "^0.30.0",
       "_view_module_version": "^0.30.0",
       "additive": false,
       "ao": [
        1
       ],
       "bg_color": [
        1,
        1,
        1
       ],
       "fragment_shader": "uniform vec3 user_color;\nuniform float time;\n\nvarying vec2 vUv;\nvarying vec3 pos;\nvarying vec3 tex;\nvarying float q;\nvarying float csI;\nvarying float csR;\nvarying float cs0;\nvarying float cs;\n\nvoid main() {\n\n    vec2 p = vUv;\n    float q = tex[0]*tex[0] ;\n    float cs0 = 1.0*exp(-q);\n    float csI = 0.0 ;\n    float csR = cs0 ;\n    csR = smoothstep(0.9*tex[1], tex[1], csR);\n    csI = smoothstep(0.9*tex[1], tex[1], csI);\n    gl_FragColor = gl_FragColor + vec4(csR + .06*csI, csR + .1*csI, .7*csR + .5*csI, 1.0);\n}",
       "layout": "IPY_MODEL_0b28ccd01d4046eca107581577a622ab",
       "pos": [],
       "surf": [],
       "surface_view": true,
       "tabbable": null,
       "tooltip": null
      }
     },
     "956201f894aa4c64bde629085082188d": {
      "model_module": "@jupyter-widgets/base",
      "model_module_version": "2.0.0",
      "model_name": "LayoutModel",
      "state": {
       "_model_module_version": "2.0.0",
       "_view_module_version": "2.0.0",
       "border_bottom": null,
       "border_left": null,
       "border_right": null,
       "border_top": null
      }
     },
     "957e7e28b90f42529d7479163da85ab2": {
      "model_module": "@jupyter-widgets/base",
      "model_module_version": "2.0.0",
      "model_name": "LayoutModel",
      "state": {
       "_model_module_version": "2.0.0",
       "_view_module_version": "2.0.0",
       "border_bottom": null,
       "border_left": null,
       "border_right": null,
       "border_top": null
      }
     },
     "959e1766e6654cf0af18383cd2a0eacd": {
      "model_module": "@jupyter-widgets/base",
      "model_module_version": "2.0.0",
      "model_name": "LayoutModel",
      "state": {
       "_model_module_version": "2.0.0",
       "_view_module_version": "2.0.0",
       "border_bottom": null,
       "border_left": null,
       "border_right": null,
       "border_top": null
      }
     },
     "9aa9d70e2a1944d69d2755a1582d22fa": {
      "model_module": "@jupyter-widgets/base",
      "model_module_version": "2.0.0",
      "model_name": "LayoutModel",
      "state": {
       "_model_module_version": "2.0.0",
       "_view_module_version": "2.0.0",
       "border_bottom": null,
       "border_left": null,
       "border_right": null,
       "border_top": null
      }
     },
     "a02c033a455b47efa87d402c4228427a": {
      "model_module": "evince",
      "model_module_version": "^0.30.0",
      "model_name": "BraketModel",
      "state": {
       "_model_module_version": "^0.30.0",
       "_view_module_version": "^0.30.0",
       "additive": false,
       "ao": [
        1
       ],
       "bg_color": [
        1,
        1,
        1
       ],
       "fragment_shader": "uniform vec3 user_color;\nuniform float time;\n\nvarying vec2 vUv;\nvarying vec3 pos;\nvarying vec3 tex;\nvarying float q;\nvarying float csI;\nvarying float csR;\nvarying float cs0;\nvarying float cs;\n\nvoid main() {\n\n    vec2 p = vUv;\n    float q = tex[0]*tex[0] ;\n    float cs0 = (4.0*q - 2.0)*exp(-q);\n    float csI = 0.0 ;\n    float csR = cs0 ;\n    csR = smoothstep(0.9*tex[1], tex[1], csR);\n    csI = smoothstep(0.9*tex[1], tex[1], csI);\n    gl_FragColor = gl_FragColor + vec4(csR + .06*csI, csR + .1*csI, .7*csR + .5*csI, 1.0);\n}",
       "layout": "IPY_MODEL_2adb5467a02142f394f4753804ad9c9f",
       "pos": [],
       "surf": [],
       "surface_view": true,
       "tabbable": null,
       "tooltip": null
      }
     },
     "a1fc2b1617864c45aa0e08acec485de7": {
      "model_module": "evince",
      "model_module_version": "^0.30.0",
      "model_name": "BraketModel",
      "state": {
       "_model_module_version": "^0.30.0",
       "_view_module_version": "^0.30.0",
       "additive": false,
       "ao": [
        1
       ],
       "bg_color": [
        1,
        1,
        1
       ],
       "fragment_shader": "uniform vec3 user_color;\nuniform float time;\n\nvarying vec2 vUv;\nvarying vec3 pos;\nvarying vec3 tex;\nvarying float q;\nvarying float csI;\nvarying float csR;\nvarying float cs0;\nvarying float cs;\n\nvoid main() {\n\n    vec2 p = vUv;\n    float q = tex[0]*tex[0] ;\n    float cs0 = 1.0*exp(-4.4100000000000001*pow(0.47619047619047616*tex[0] - 1.0, 2.0));\n    float csI = 0.0 ;\n    float csR = cs0 ;\n    csR = smoothstep(0.9*tex[1], tex[1], csR);\n    csI = smoothstep(0.9*tex[1], tex[1], csI);\n    gl_FragColor = gl_FragColor + vec4(csR + .06*csI, csR + .1*csI, .7*csR + .5*csI, 1.0);\n}",
       "layout": "IPY_MODEL_28df4b99141a42c79f4c499389bbbde6",
       "pos": [],
       "surf": [],
       "surface_view": true,
       "tabbable": null,
       "tooltip": null
      }
     },
     "a296c49ab9b447f7807be1dcf01f4228": {
      "model_module": "@jupyter-widgets/base",
      "model_module_version": "2.0.0",
      "model_name": "LayoutModel",
      "state": {
       "_model_module_version": "2.0.0",
       "_view_module_version": "2.0.0",
       "border_bottom": null,
       "border_left": null,
       "border_right": null,
       "border_top": null
      }
     },
     "a41a2c1a0b8e495ba616d63459269e63": {
      "model_module": "evince",
      "model_module_version": "^0.30.0",
      "model_name": "BraketModel",
      "state": {
       "_model_module_version": "^0.30.0",
       "_view_module_version": "^0.30.0",
       "additive": false,
       "ao": [
        1
       ],
       "bg_color": [
        1,
        1,
        1
       ],
       "fragment_shader": "uniform vec3 user_color;\nuniform float time;\n\nvarying vec2 vUv;\nvarying vec3 pos;\nvarying vec3 tex;\nvarying float q;\nvarying float csI;\nvarying float csR;\nvarying float cs0;\nvarying float cs;\n\nvoid main() {\n\n    vec2 p = vUv;\n    float q = tex[0]*tex[0] ;\n    float cs0 = -2.0*tex[0]*exp(-q);\n    float csI = 0.0 ;\n    float csR = cs0 ;\n    csR = smoothstep(0.9*tex[1], tex[1], csR);\n    csI = smoothstep(0.9*tex[1], tex[1], csI);\n    gl_FragColor = gl_FragColor + vec4(csR + .06*csI, csR + .1*csI, .7*csR + .5*csI, 1.0);\n}",
       "layout": "IPY_MODEL_61bc1408e4764ec2ae4269b001d854cd",
       "pos": [],
       "surf": [],
       "surface_view": true
      }
     },
     "a4f95d8f7df14b74bbfccb3562c68172": {
      "model_module": "@jupyter-widgets/base",
      "model_module_version": "2.0.0",
      "model_name": "LayoutModel",
      "state": {
       "_model_module_version": "2.0.0",
       "_view_module_version": "2.0.0",
       "border_bottom": null,
       "border_left": null,
       "border_right": null,
       "border_top": null
      }
     },
     "a5955a73bb05483892a9b7a2326aa418": {
      "model_module": "@jupyter-widgets/base",
      "model_module_version": "1.2.0",
      "model_name": "LayoutModel",
      "state": {}
     },
     "ae1854b0d3ed4b01b82e4e8185a2b230": {
      "model_module": "@jupyter-widgets/base",
      "model_module_version": "2.0.0",
      "model_name": "LayoutModel",
      "state": {
       "_model_module_version": "2.0.0",
       "_view_module_version": "2.0.0",
       "border_bottom": null,
       "border_left": null,
       "border_right": null,
       "border_top": null
      }
     },
     "af55bda6fd7649cbb4fbec02cd740a94": {
      "model_module": "evince",
      "model_module_version": "^0.30.0",
      "model_name": "BraketModel",
      "state": {
       "_model_module_version": "^0.30.0",
       "_view_module_version": "^0.30.0",
       "additive": false,
       "ao": [
        1
       ],
       "bg_color": [
        1,
        1,
        1
       ],
       "fragment_shader": "uniform vec3 user_color;\nuniform float time;\n\nvarying vec2 vUv;\nvarying vec3 pos;\nvarying vec3 tex;\nvarying float q;\nvarying float csI;\nvarying float csR;\nvarying float cs0;\nvarying float cs;\n\nvoid main() {\n\n    vec2 p = vUv;\n    float q = tex[0]*tex[0] ;\n    float cs0 = 1.0*exp(-q);\n    float csI = 0.0 ;\n    float csR = cs0 ;\n    csR = smoothstep(0.9*tex[1], tex[1], csR);\n    csI = smoothstep(0.9*tex[1], tex[1], csI);\n    gl_FragColor = gl_FragColor + vec4(csR + .06*csI, csR + .1*csI, .7*csR + .5*csI, 1.0);\n}",
       "layout": "IPY_MODEL_e1e8f46576534fd49e349ea9b5bd5fac",
       "pos": [],
       "surf": [],
       "surface_view": true,
       "tabbable": null,
       "tooltip": null
      }
     },
     "b14344e518154c7caa77f0a79a7c9e16": {
      "model_module": "@jupyter-widgets/base",
      "model_module_version": "1.2.0",
      "model_name": "LayoutModel",
      "state": {}
     },
     "b22a19b31ad44e9fa6c0757a626e1c62": {
      "model_module": "evince",
      "model_module_version": "^0.30.0",
      "model_name": "BraketModel",
      "state": {
       "_model_module_version": "^0.30.0",
       "_view_module_version": "^0.30.0",
       "additive": false,
       "ao": [
        1
       ],
       "bg_color": [
        1,
        1,
        1
       ],
       "fragment_shader": "uniform vec3 user_color;\nuniform float time;\n\nvarying vec2 vUv;\nvarying vec3 pos;\nvarying vec3 tex;\nvarying float q;\nvarying float csI;\nvarying float csR;\nvarying float cs0;\nvarying float cs;\n\nvoid main() {\n\n    vec2 p = vUv;\n    float q = tex[0]*tex[0] ;\n    float cs0 = 1.0*exp(-q);\n    float csI = 0.0 ;\n    float csR = cs0 ;\n    csR = smoothstep(0.9*tex[1], tex[1], csR);\n    csI = smoothstep(0.9*tex[1], tex[1], csI);\n    gl_FragColor = gl_FragColor + vec4(csR + .06*csI, csR + .1*csI, .7*csR + .5*csI, 1.0);\n}",
       "layout": "IPY_MODEL_46743bdf777548978fea118f07707958",
       "pos": [],
       "surf": [],
       "surface_view": true,
       "tabbable": null,
       "tooltip": null
      }
     },
     "b42fb75e1e09406a94ce6c4125a6cb03": {
      "model_module": "@jupyter-widgets/base",
      "model_module_version": "1.2.0",
      "model_name": "LayoutModel",
      "state": {}
     },
     "b621645e5b5b48d2974e5cbb52f93a82": {
      "model_module": "evince",
      "model_module_version": "^0.30.0",
      "model_name": "BraketModel",
      "state": {
       "_model_module_version": "^0.30.0",
       "_view_module_version": "^0.30.0",
       "additive": false,
       "ao": [
        1
       ],
       "bg_color": [
        1,
        1,
        1
       ],
       "fragment_shader": "uniform vec3 user_color;\nuniform float time;\n\nvarying vec2 vUv;\nvarying vec3 pos;\nvarying vec3 tex;\nvarying float q;\nvarying float csI;\nvarying float csR;\nvarying float cs0;\nvarying float cs;\n\nvoid main() {\n\n    vec2 p = vUv;\n    float q = tex[0]*tex[0] ;\n    float cs0 = 1.0*exp(-q);\n    float csI = 0.0 ;\n    float csR = cs0 ;\n    csR = smoothstep(0.9*tex[1], tex[1], csR);\n    csI = smoothstep(0.9*tex[1], tex[1], csI);\n    gl_FragColor = gl_FragColor + vec4(csR + .06*csI, csR + .1*csI, .7*csR + .5*csI, 1.0);\n}",
       "layout": "IPY_MODEL_121fb39f2ff54629b77ece9827ef3bc8",
       "pos": [],
       "surf": [],
       "surface_view": true,
       "tabbable": null,
       "tooltip": null
      }
     },
     "bc2ad08fb2e447a2abc711cb1cf8bf36": {
      "model_module": "@jupyter-widgets/base",
      "model_module_version": "2.0.0",
      "model_name": "LayoutModel",
      "state": {
       "_model_module_version": "2.0.0",
       "_view_module_version": "2.0.0",
       "border_bottom": null,
       "border_left": null,
       "border_right": null,
       "border_top": null
      }
     },
     "be757c18cddd4f9f99e906ca17880fb9": {
      "model_module": "@jupyter-widgets/base",
      "model_module_version": "2.0.0",
      "model_name": "LayoutModel",
      "state": {
       "_model_module_version": "2.0.0",
       "_view_module_version": "2.0.0",
       "border_bottom": null,
       "border_left": null,
       "border_right": null,
       "border_top": null
      }
     },
     "be99aaaf7e984152be8f3ef9e28fb8d7": {
      "model_module": "evince",
      "model_module_version": "^0.30.0",
      "model_name": "BraketModel",
      "state": {
       "_model_module_version": "^0.30.0",
       "_view_module_version": "^0.30.0",
       "additive": false,
       "ao": [
        1
       ],
       "bg_color": [
        1,
        1,
        1
       ],
       "fragment_shader": "uniform vec3 user_color;\nuniform float time;\n\nvarying vec2 vUv;\nvarying vec3 pos;\nvarying vec3 tex;\nvarying float q;\nvarying float csI;\nvarying float csR;\nvarying float cs0;\nvarying float cs;\n\nvoid main() {\n\n    vec2 p = vUv;\n    float q = tex[0]*tex[0] ;\n    float cs0 = 1.0*exp(-q);\n    float csI = 0.0 ;\n    float csR = cs0 ;\n    csR = smoothstep(0.9*tex[1], tex[1], csR);\n    csI = smoothstep(0.9*tex[1], tex[1], csI);\n    gl_FragColor = gl_FragColor + vec4(csR + .06*csI, csR + .1*csI, .7*csR + .5*csI, 1.0);\n}",
       "layout": "IPY_MODEL_46fe2971097d420d9e6166e2b049d7ff",
       "pos": [],
       "surf": [],
       "surface_view": true,
       "tabbable": null,
       "tooltip": null
      }
     },
     "bf276b2dca404a4cbfeed8933e2e34ee": {
      "model_module": "evince",
      "model_module_version": "^0.30.0",
      "model_name": "BraketModel",
      "state": {
       "_model_module_version": "^0.30.0",
       "_view_module_version": "^0.30.0",
       "additive": false,
       "ao": [
        1
       ],
       "bg_color": [
        1,
        1,
        1
       ],
       "fragment_shader": "uniform vec3 user_color;\nuniform float time;\n\nvarying vec2 vUv;\nvarying vec3 pos;\nvarying vec3 tex;\nvarying float q;\nvarying float csI;\nvarying float csR;\nvarying float cs0;\nvarying float cs;\n\nvoid main() {\n\n    vec2 p = vUv;\n    float q = tex[0]*tex[0] ;\n    float cs0 = 1.0*exp(-4.4100000000000001*pow(0.47619047619047616*tex[0] - 1.0, 2.0));\n    float csI = 0.0 ;\n    float csR = cs0 ;\n    csR = smoothstep(0.9*tex[1], tex[1], csR);\n    csI = smoothstep(0.9*tex[1], tex[1], csI);\n    gl_FragColor = gl_FragColor + vec4(csR + .06*csI, csR + .1*csI, .7*csR + .5*csI, 1.0);\n}",
       "layout": "IPY_MODEL_f1f48045e30a4891ac3ab9157facbfee",
       "pos": [],
       "surf": [],
       "surface_view": true,
       "tabbable": null,
       "tooltip": null
      }
     },
     "c2541dd2755c4356ad98a58a1bfa845d": {
      "model_module": "evince",
      "model_module_version": "^0.30.0",
      "model_name": "BraketModel",
      "state": {
       "_model_module_version": "^0.30.0",
       "_view_module_version": "^0.30.0",
       "additive": false,
       "ao": [
        1
       ],
       "bg_color": [
        1,
        1,
        1
       ],
       "fragment_shader": "uniform vec3 user_color;\nuniform float time;\n\nvarying vec2 vUv;\nvarying vec3 pos;\nvarying vec3 tex;\nvarying float q;\nvarying float csI;\nvarying float csR;\nvarying float cs0;\nvarying float cs;\n\nvoid main() {\n\n    vec2 p = vUv;\n    float q = tex[0]*tex[0] ;\n    float cs0 = 1.0*exp(-q);\n    float csI = 0.0 ;\n    float csR = cs0 ;\n    csR = smoothstep(0.9*tex[1], tex[1], csR);\n    csI = smoothstep(0.9*tex[1], tex[1], csI);\n    gl_FragColor = gl_FragColor + vec4(csR + .06*csI, csR + .1*csI, .7*csR + .5*csI, 1.0);\n}",
       "layout": "IPY_MODEL_7d5facc7b31749b4a45a687b8400c4a0",
       "pos": [],
       "surf": [],
       "surface_view": true,
       "tabbable": null,
       "tooltip": null
      }
     },
     "c255ac50a1614cadb4ef8cb0d2ee6ebf": {
      "model_module": "evince",
      "model_module_version": "^0.30.0",
      "model_name": "BraketModel",
      "state": {
       "_model_module_version": "^0.30.0",
       "_view_module_version": "^0.30.0",
       "additive": false,
       "ao": [
        1
       ],
       "bg_color": [
        1,
        1,
        1
       ],
       "fragment_shader": "uniform vec3 user_color;\nuniform float time;\n\nvarying vec2 vUv;\nvarying vec3 pos;\nvarying vec3 tex;\nvarying float q;\nvarying float csI;\nvarying float csR;\nvarying float cs0;\nvarying float cs;\n\nvoid main() {\n\n    vec2 p = vUv;\n    float q = tex[0]*tex[0] ;\n    float cs0 = 1.0*exp(-4.4100000000000001*pow(0.47619047619047616*tex[0] - 1.0, 2.0));\n    float csI = 0.0 ;\n    float csR = cs0 ;\n    csR = smoothstep(0.9*tex[1], tex[1], csR);\n    csI = smoothstep(0.9*tex[1], tex[1], csI);\n    gl_FragColor = gl_FragColor + vec4(csR + .06*csI, csR + .1*csI, .7*csR + .5*csI, 1.0);\n}",
       "layout": "IPY_MODEL_574a9f4522a64e398b5dde7fbfebb0b9",
       "pos": [],
       "surf": [],
       "surface_view": true,
       "tabbable": null,
       "tooltip": null
      }
     },
     "c6ef6d972bd249ce999e04e1f74ad0a6": {
      "model_module": "evince",
      "model_module_version": "^0.30.0",
      "model_name": "BraketModel",
      "state": {
       "_model_module_version": "^0.30.0",
       "_view_module_version": "^0.30.0",
       "additive": false,
       "ao": [
        1
       ],
       "bg_color": [
        1,
        1,
        1
       ],
       "fragment_shader": "uniform vec3 user_color;\nuniform float time;\n\nvarying vec2 vUv;\nvarying vec3 pos;\nvarying vec3 tex;\nvarying float q;\nvarying float csI;\nvarying float csR;\nvarying float cs0;\nvarying float cs;\n\nvoid main() {\n\n    vec2 p = vUv;\n    float q = tex[0]*tex[0] ;\n    float cs0 = 1.0*exp(-q);\n    float csI = 0.0 ;\n    float csR = cs0 ;\n    csR = smoothstep(0.9*tex[1], tex[1], csR);\n    csI = smoothstep(0.9*tex[1], tex[1], csI);\n    gl_FragColor = gl_FragColor + vec4(csR + .06*csI, csR + .1*csI, .7*csR + .5*csI, 1.0);\n}",
       "layout": "IPY_MODEL_6489d997ba074ab9b93f3866bdaf6911",
       "pos": [],
       "surf": [],
       "surface_view": true,
       "tabbable": null,
       "tooltip": null
      }
     },
     "c8274d11bd5c4cb6a9f1615a5d60049c": {
      "model_module": "@jupyter-widgets/base",
      "model_module_version": "2.0.0",
      "model_name": "LayoutModel",
      "state": {
       "_model_module_version": "2.0.0",
       "_view_module_version": "2.0.0",
       "border_bottom": null,
       "border_left": null,
       "border_right": null,
       "border_top": null
      }
     },
     "c866c5dab3e94f9d939128f80dfda7a2": {
      "model_module": "@jupyter-widgets/base",
      "model_module_version": "1.2.0",
      "model_name": "LayoutModel",
      "state": {}
     },
     "c9f938482c0b4995982f8740a40127b0": {
      "model_module": "evince",
      "model_module_version": "^0.30.0",
      "model_name": "BraketModel",
      "state": {
       "_model_module_version": "^0.30.0",
       "_view_module_version": "^0.30.0",
       "additive": false,
       "ao": [
        1
       ],
       "bg_color": [
        1,
        1,
        1
       ],
       "fragment_shader": "uniform vec3 user_color;\nuniform float time;\n\nvarying vec2 vUv;\nvarying vec3 pos;\nvarying vec3 tex;\nvarying float q;\nvarying float csI;\nvarying float csR;\nvarying float cs0;\nvarying float cs;\n\nvoid main() {\n\n    vec2 p = vUv;\n    float q = tex[0]*tex[0] ;\n    float cs0 = 1.0*exp(-4.4100000000000001*pow(0.47619047619047616*tex[0] - 1.0, 2.0));\n    float csI = 0.0 ;\n    float csR = cs0 ;\n    csR = smoothstep(0.9*tex[1], tex[1], csR);\n    csI = smoothstep(0.9*tex[1], tex[1], csI);\n    gl_FragColor = gl_FragColor + vec4(csR + .06*csI, csR + .1*csI, .7*csR + .5*csI, 1.0);\n}",
       "layout": "IPY_MODEL_e76ef071e5be4e2390120f2bc4832f65",
       "pos": [],
       "surf": [],
       "surface_view": true
      }
     },
     "cf589e3a2d11447d9be2f07e70e8a240": {
      "model_module": "@jupyter-widgets/base",
      "model_module_version": "1.2.0",
      "model_name": "LayoutModel",
      "state": {}
     },
     "d20137485d834f628373073bf84f5e67": {
      "model_module": "@jupyter-widgets/base",
      "model_module_version": "2.0.0",
      "model_name": "LayoutModel",
      "state": {
       "_model_module_version": "2.0.0",
       "_view_module_version": "2.0.0",
       "border_bottom": null,
       "border_left": null,
       "border_right": null,
       "border_top": null
      }
     },
     "d2c676e7929e4476b5216e336b0b218d": {
      "model_module": "evince",
      "model_module_version": "^0.30.0",
      "model_name": "BraketModel",
      "state": {
       "_model_module_version": "^0.30.0",
       "_view_module_version": "^0.30.0",
       "additive": false,
       "ao": [
        1
       ],
       "bg_color": [
        1,
        1,
        1
       ],
       "fragment_shader": "uniform vec3 user_color;\nuniform float time;\n\nvarying vec2 vUv;\nvarying vec3 pos;\nvarying vec3 tex;\nvarying float q;\nvarying float csI;\nvarying float csR;\nvarying float cs0;\nvarying float cs;\n\nvoid main() {\n\n    vec2 p = vUv;\n    float q = tex[0]*tex[0] ;\n    float cs0 = -2.0*tex[0]*exp(-q);\n    float csI = 0.0 ;\n    float csR = cs0 ;\n    csR = smoothstep(0.9*tex[1], tex[1], csR);\n    csI = smoothstep(0.9*tex[1], tex[1], csI);\n    gl_FragColor = gl_FragColor + vec4(csR + .06*csI, csR + .1*csI, .7*csR + .5*csI, 1.0);\n}",
       "layout": "IPY_MODEL_959e1766e6654cf0af18383cd2a0eacd",
       "pos": [],
       "surf": [],
       "surface_view": true,
       "tabbable": null,
       "tooltip": null
      }
     },
     "d49a22d31d0b4481a1ffcd53889b1f56": {
      "model_module": "@jupyter-widgets/base",
      "model_module_version": "1.2.0",
      "model_name": "LayoutModel",
      "state": {}
     },
     "d59072131acd42da8affb99b1ad29e3b": {
      "model_module": "@jupyter-widgets/base",
      "model_module_version": "2.0.0",
      "model_name": "LayoutModel",
      "state": {
       "_model_module_version": "2.0.0",
       "_view_module_version": "2.0.0",
       "border_bottom": null,
       "border_left": null,
       "border_right": null,
       "border_top": null
      }
     },
     "d7ca3cd473624ce99b245d0300a3288a": {
      "model_module": "evince",
      "model_module_version": "^0.30.0",
      "model_name": "BraketModel",
      "state": {
       "_model_module_version": "^0.30.0",
       "_view_module_version": "^0.30.0",
       "additive": false,
       "ao": [
        1
       ],
       "bg_color": [
        1,
        1,
        1
       ],
       "fragment_shader": "uniform vec3 user_color;\nuniform float time;\n\nvarying vec2 vUv;\nvarying vec3 pos;\nvarying vec3 tex;\nvarying float q;\nvarying float csI;\nvarying float csR;\nvarying float cs0;\nvarying float cs;\n\nvoid main() {\n\n    vec2 p = vUv;\n    float q = tex[0]*tex[0] ;\n    float cs0 = 1.0*exp(-q);\n    float csI = 0.0 ;\n    float csR = cs0 ;\n    csR = smoothstep(0.9*tex[1], tex[1], csR);\n    csI = smoothstep(0.9*tex[1], tex[1], csI);\n    gl_FragColor = gl_FragColor + vec4(csR + .06*csI, csR + .1*csI, .7*csR + .5*csI, 1.0);\n}",
       "layout": "IPY_MODEL_d59072131acd42da8affb99b1ad29e3b",
       "pos": [],
       "surf": [],
       "surface_view": true,
       "tabbable": null,
       "tooltip": null
      }
     },
     "d7d3d846d70441589d42cb69e32b8923": {
      "model_module": "evince",
      "model_module_version": "^0.30.0",
      "model_name": "BraketModel",
      "state": {
       "_model_module_version": "^0.30.0",
       "_view_module_version": "^0.30.0",
       "additive": false,
       "ao": [
        1
       ],
       "bg_color": [
        1,
        1,
        1
       ],
       "fragment_shader": "uniform vec3 user_color;\nuniform float time;\n\nvarying vec2 vUv;\nvarying vec3 pos;\nvarying vec3 tex;\nvarying float q;\nvarying float csI;\nvarying float csR;\nvarying float cs0;\nvarying float cs;\n\nvoid main() {\n\n    vec2 p = vUv;\n    float q = tex[0]*tex[0] ;\n    float cs0 = 1.0*exp(-q);\n    float csI = 0.0 ;\n    float csR = cs0 ;\n    csR = smoothstep(0.9*tex[1], tex[1], csR);\n    csI = smoothstep(0.9*tex[1], tex[1], csI);\n    gl_FragColor = gl_FragColor + vec4(csR + .06*csI, csR + .1*csI, .7*csR + .5*csI, 1.0);\n}",
       "layout": "IPY_MODEL_a296c49ab9b447f7807be1dcf01f4228",
       "pos": [],
       "surf": [],
       "surface_view": true,
       "tabbable": null,
       "tooltip": null
      }
     },
     "d841e47525544ff993f1cf0d9c5c3cd3": {
      "model_module": "evince",
      "model_module_version": "^0.31.0",
      "model_name": "BraketModel",
      "state": {
       "_model_module_version": "^0.31.0",
       "_view_module_version": "^0.31.0",
       "additive": false,
       "ao": [
        1
       ],
       "bg_color": [
        1,
        1,
        1
       ],
       "fragment_shader": "uniform vec3 user_color;\nuniform float time;\n\nvarying vec2 vUv;\nvarying vec3 pos;\nvarying vec3 tex;\nvarying float q;\nvarying float csI;\nvarying float csR;\nvarying float cs0;\nvarying float cs;\n\nvoid main() {\n\n    vec2 p = vUv;\n    float q = tex[0]*tex[0] ;\n    float cs0 = 1.0*exp(-q);\n    float csI = 0.0 ;\n    float csR = cs0 ;\n    csR = smoothstep(0.9*tex[1], tex[1], csR);\n    csI = smoothstep(0.9*tex[1], tex[1], csI);\n    gl_FragColor = gl_FragColor + vec4(csR + .06*csI, csR + .1*csI, .7*csR + .5*csI, 1.0);\n}",
       "layout": "IPY_MODEL_35c592bedae646c19c28ff5dcd93ed84",
       "pos": [],
       "surf": [],
       "surface_view": true,
       "tabbable": null,
       "tooltip": null
      }
     },
     "d8938409a9e34e8abe7654217c8e46dd": {
      "model_module": "evince",
      "model_module_version": "^0.30.0",
      "model_name": "BraketModel",
      "state": {
       "_model_module_version": "^0.30.0",
       "_view_module_version": "^0.30.0",
       "additive": false,
       "ao": [
        1
       ],
       "bg_color": [
        1,
        1,
        1
       ],
       "fragment_shader": "uniform vec3 user_color;\nuniform float time;\n\nvarying vec2 vUv;\nvarying vec3 pos;\nvarying vec3 tex;\nvarying float q;\nvarying float csI;\nvarying float csR;\nvarying float cs0;\nvarying float cs;\n\nvoid main() {\n\n    vec2 p = vUv;\n    float q = tex[0]*tex[0] ;\n    float cs0 = (4.0*q - 2.0)*exp(-q);\n    float csI = 0.0 ;\n    float csR = cs0 ;\n    csR = smoothstep(0.9*tex[1], tex[1], csR);\n    csI = smoothstep(0.9*tex[1], tex[1], csI);\n    gl_FragColor = gl_FragColor + vec4(csR + .06*csI, csR + .1*csI, .7*csR + .5*csI, 1.0);\n}",
       "layout": "IPY_MODEL_6fbd780f07104d708ee1ce61af35cce8",
       "pos": [],
       "surf": [],
       "surface_view": true,
       "tabbable": null,
       "tooltip": null
      }
     },
     "d9b3eb214e0d43688ec8fc68208279cd": {
      "model_module": "evince",
      "model_module_version": "^0.30.0",
      "model_name": "BraketModel",
      "state": {
       "_model_module_version": "^0.30.0",
       "_view_module_version": "^0.30.0",
       "additive": false,
       "ao": [
        1
       ],
       "bg_color": [
        1,
        1,
        1
       ],
       "fragment_shader": "uniform vec3 user_color;\nuniform float time;\n\nvarying vec2 vUv;\nvarying vec3 pos;\nvarying vec3 tex;\nvarying float q;\nvarying float csI;\nvarying float csR;\nvarying float cs0;\nvarying float cs;\n\nvoid main() {\n\n    vec2 p = vUv;\n    float q = tex[0]*tex[0] ;\n    float cs0 = 1.0*exp(-q);\n    float csI = 0.0 ;\n    float csR = cs0 ;\n    csR = smoothstep(0.9*tex[1], tex[1], csR);\n    csI = smoothstep(0.9*tex[1], tex[1], csI);\n    gl_FragColor = gl_FragColor + vec4(csR + .06*csI, csR + .1*csI, .7*csR + .5*csI, 1.0);\n}",
       "layout": "IPY_MODEL_2761c98256404850807d404a65a4ad44",
       "pos": [],
       "surf": [],
       "surface_view": true
      }
     },
     "db9dd30fe79b4a4c9d16a2d03f63a838": {
      "model_module": "@jupyter-widgets/base",
      "model_module_version": "2.0.0",
      "model_name": "LayoutModel",
      "state": {
       "_model_module_version": "2.0.0",
       "_view_module_version": "2.0.0",
       "border_bottom": null,
       "border_left": null,
       "border_right": null,
       "border_top": null
      }
     },
     "dbce5a1350c3484bbed231ff14f5c8d6": {
      "model_module": "@jupyter-widgets/base",
      "model_module_version": "2.0.0",
      "model_name": "LayoutModel",
      "state": {
       "_model_module_version": "2.0.0",
       "_view_module_version": "2.0.0",
       "border_bottom": null,
       "border_left": null,
       "border_right": null,
       "border_top": null
      }
     },
     "dcf21158de95468fa41c8ad34922c88c": {
      "model_module": "evince",
      "model_module_version": "^0.30.0",
      "model_name": "BraketModel",
      "state": {
       "_model_module_version": "^0.30.0",
       "_view_module_version": "^0.30.0",
       "additive": false,
       "ao": [
        1
       ],
       "bg_color": [
        1,
        1,
        1
       ],
       "fragment_shader": "uniform vec3 user_color;\nuniform float time;\n\nvarying vec2 vUv;\nvarying vec3 pos;\nvarying vec3 tex;\nvarying float q;\nvarying float csI;\nvarying float csR;\nvarying float cs0;\nvarying float cs;\n\nvoid main() {\n\n    vec2 p = vUv;\n    float q = tex[0]*tex[0] ;\n    float cs0 = 1.0*exp(-q);\n    float csI = 0.0 ;\n    float csR = cs0 ;\n    csR = smoothstep(0.9*tex[1], tex[1], csR);\n    csI = smoothstep(0.9*tex[1], tex[1], csI);\n    gl_FragColor = gl_FragColor + vec4(csR + .06*csI, csR + .1*csI, .7*csR + .5*csI, 1.0);\n}",
       "layout": "IPY_MODEL_00fb38cd1394440596085b2770704f13",
       "pos": [],
       "surf": [],
       "surface_view": true
      }
     },
     "df0ac94499fa400c869d6f581d714515": {
      "model_module": "@jupyter-widgets/base",
      "model_module_version": "2.0.0",
      "model_name": "LayoutModel",
      "state": {
       "_model_module_version": "2.0.0",
       "_view_module_version": "2.0.0",
       "border_bottom": null,
       "border_left": null,
       "border_right": null,
       "border_top": null
      }
     },
     "dfda4766f2eb4870bd49e08c6d74ba4a": {
      "model_module": "evince",
      "model_module_version": "^0.30.0",
      "model_name": "BraketModel",
      "state": {
       "_model_module_version": "^0.30.0",
       "_view_module_version": "^0.30.0",
       "additive": false,
       "ao": [
        1
       ],
       "bg_color": [
        1,
        1,
        1
       ],
       "fragment_shader": "uniform vec3 user_color;\nuniform float time;\n\nvarying vec2 vUv;\nvarying vec3 pos;\nvarying vec3 tex;\nvarying float q;\nvarying float csI;\nvarying float csR;\nvarying float cs0;\nvarying float cs;\n\nvoid main() {\n\n    vec2 p = vUv;\n    float q = tex[0]*tex[0] ;\n    float cs0 = 1.0*exp(-q);\n    float csI = 0.0 ;\n    float csR = cs0 ;\n    csR = smoothstep(0.9*tex[1], tex[1], csR);\n    csI = smoothstep(0.9*tex[1], tex[1], csI);\n    gl_FragColor = gl_FragColor + vec4(csR + .06*csI, csR + .1*csI, .7*csR + .5*csI, 1.0);\n}",
       "layout": "IPY_MODEL_5b2bbc759c314305b5b8fd4a137d9207",
       "pos": [],
       "surf": [],
       "surface_view": true,
       "tabbable": null,
       "tooltip": null
      }
     },
     "e1e8f46576534fd49e349ea9b5bd5fac": {
      "model_module": "@jupyter-widgets/base",
      "model_module_version": "2.0.0",
      "model_name": "LayoutModel",
      "state": {
       "_model_module_version": "2.0.0",
       "_view_module_version": "2.0.0",
       "border_bottom": null,
       "border_left": null,
       "border_right": null,
       "border_top": null
      }
     },
     "e26ea1e489d844db885a4a50fce42501": {
      "model_module": "@jupyter-widgets/base",
      "model_module_version": "1.2.0",
      "model_name": "LayoutModel",
      "state": {}
     },
     "e76ef071e5be4e2390120f2bc4832f65": {
      "model_module": "@jupyter-widgets/base",
      "model_module_version": "1.2.0",
      "model_name": "LayoutModel",
      "state": {}
     },
     "e834245d644e411da2f4adf91970c941": {
      "model_module": "evince",
      "model_module_version": "^0.30.0",
      "model_name": "BraketModel",
      "state": {
       "_model_module_version": "^0.30.0",
       "_view_module_version": "^0.30.0",
       "additive": false,
       "ao": [
        1
       ],
       "bg_color": [
        1,
        1,
        1
       ],
       "fragment_shader": "uniform vec3 user_color;\nuniform float time;\n\nvarying vec2 vUv;\nvarying vec3 pos;\nvarying vec3 tex;\nvarying float q;\nvarying float csI;\nvarying float csR;\nvarying float cs0;\nvarying float cs;\n\nvoid main() {\n\n    vec2 p = vUv;\n    float q = tex[0]*tex[0] ;\n    float cs0 = 1.0*exp(-4*q);\n    float csI = 0.0 ;\n    float csR = cs0 ;\n    csR = smoothstep(0.9*tex[1], tex[1], csR);\n    csI = smoothstep(0.9*tex[1], tex[1], csI);\n    gl_FragColor = gl_FragColor + vec4(csR + .06*csI, csR + .1*csI, .7*csR + .5*csI, 1.0);\n}",
       "layout": "IPY_MODEL_50e73cc910fa4968919c5de0f1d90a40",
       "pos": [],
       "surf": [],
       "surface_view": true
      }
     },
     "eaf41bf349e8494a965cc3b922f9afae": {
      "model_module": "evince",
      "model_module_version": "^0.30.0",
      "model_name": "BraketModel",
      "state": {
       "_model_module_version": "^0.30.0",
       "_view_module_version": "^0.30.0",
       "additive": false,
       "ao": [
        1
       ],
       "bg_color": [
        1,
        1,
        1
       ],
       "fragment_shader": "uniform vec3 user_color;\nuniform float time;\n\nvarying vec2 vUv;\nvarying vec3 pos;\nvarying vec3 tex;\nvarying float q;\nvarying float csI;\nvarying float csR;\nvarying float cs0;\nvarying float cs;\n\nvoid main() {\n\n    vec2 p = vUv;\n    float q = tex[0]*tex[0] ;\n    float cs0 = (4.0*q - 2.0)*exp(-q);\n    float csI = 0.0 ;\n    float csR = cs0 ;\n    csR = smoothstep(0.9*tex[1], tex[1], csR);\n    csI = smoothstep(0.9*tex[1], tex[1], csI);\n    gl_FragColor = gl_FragColor + vec4(csR + .06*csI, csR + .1*csI, .7*csR + .5*csI, 1.0);\n}",
       "layout": "IPY_MODEL_864e5adf7a2247c49519088e0a47bfc4",
       "pos": [],
       "surf": [],
       "surface_view": true
      }
     },
     "eb921896b0c0472cba41d06124efef32": {
      "model_module": "@jupyter-widgets/base",
      "model_module_version": "2.0.0",
      "model_name": "LayoutModel",
      "state": {
       "_model_module_version": "2.0.0",
       "_view_module_version": "2.0.0",
       "border_bottom": null,
       "border_left": null,
       "border_right": null,
       "border_top": null
      }
     },
     "eeadf5b14f8d4774bee2d015e6621ae4": {
      "model_module": "@jupyter-widgets/base",
      "model_module_version": "2.0.0",
      "model_name": "LayoutModel",
      "state": {
       "_model_module_version": "2.0.0",
       "_view_module_version": "2.0.0",
       "border_bottom": null,
       "border_left": null,
       "border_right": null,
       "border_top": null
      }
     },
     "eeb4150d471543368132e0c6bb5e81c7": {
      "model_module": "evince",
      "model_module_version": "^0.30.0",
      "model_name": "BraketModel",
      "state": {
       "_model_module_version": "^0.30.0",
       "_view_module_version": "^0.30.0",
       "additive": false,
       "ao": [
        1
       ],
       "bg_color": [
        1,
        1,
        1
       ],
       "fragment_shader": "uniform vec3 user_color;\nuniform float time;\n\nvarying vec2 vUv;\nvarying vec3 pos;\nvarying vec3 tex;\nvarying float q;\nvarying float csI;\nvarying float csR;\nvarying float cs0;\nvarying float cs;\n\nvoid main() {\n\n    vec2 p = vUv;\n    float q = tex[0]*tex[0] ;\n    float cs0 = 1.0*exp(-q);\n    float csI = 0.0 ;\n    float csR = cs0 ;\n    csR = smoothstep(0.9*tex[1], tex[1], csR);\n    csI = smoothstep(0.9*tex[1], tex[1], csI);\n    gl_FragColor = gl_FragColor + vec4(csR + .06*csI, csR + .1*csI, .7*csR + .5*csI, 1.0);\n}",
       "layout": "IPY_MODEL_df0ac94499fa400c869d6f581d714515",
       "pos": [],
       "surf": [],
       "surface_view": true,
       "tabbable": null,
       "tooltip": null
      }
     },
     "efdc2ddd27684ff9bed2237b01ef32f6": {
      "model_module": "evince",
      "model_module_version": "^0.30.0",
      "model_name": "BraketModel",
      "state": {
       "_model_module_version": "^0.30.0",
       "_view_module_version": "^0.30.0",
       "additive": false,
       "ao": [
        1
       ],
       "bg_color": [
        1,
        1,
        1
       ],
       "fragment_shader": "uniform vec3 user_color;\nuniform float time;\n\nvarying vec2 vUv;\nvarying vec3 pos;\nvarying vec3 tex;\nvarying float q;\nvarying float csI;\nvarying float csR;\nvarying float cs0;\nvarying float cs;\n\nvoid main() {\n\n    vec2 p = vUv;\n    float q = tex[0]*tex[0] ;\n    float cs0 = 1.0*exp(-q);\n    float csI = 0.0 ;\n    float csR = cs0 ;\n    csR = smoothstep(0.9*tex[1], tex[1], csR);\n    csI = smoothstep(0.9*tex[1], tex[1], csI);\n    gl_FragColor = gl_FragColor + vec4(csR + .06*csI, csR + .1*csI, .7*csR + .5*csI, 1.0);\n}",
       "layout": "IPY_MODEL_ae1854b0d3ed4b01b82e4e8185a2b230",
       "pos": [],
       "surf": [],
       "surface_view": true,
       "tabbable": null,
       "tooltip": null
      }
     },
     "f0ce5167aab440cc9e4b36ff9eb83e75": {
      "model_module": "evince",
      "model_module_version": "^0.30.0",
      "model_name": "BraketModel",
      "state": {
       "_model_module_version": "^0.30.0",
       "_view_module_version": "^0.30.0",
       "additive": false,
       "ao": [
        1
       ],
       "bg_color": [
        1,
        1,
        1
       ],
       "fragment_shader": "uniform vec3 user_color;\nuniform float time;\n\nvarying vec2 vUv;\nvarying vec3 pos;\nvarying vec3 tex;\nvarying float q;\nvarying float csI;\nvarying float csR;\nvarying float cs0;\nvarying float cs;\n\nvoid main() {\n\n    vec2 p = vUv;\n    float q = tex[0]*tex[0] ;\n    float cs0 = -2.0*tex[0]*exp(-q);\n    float csI = 0.0 ;\n    float csR = cs0 ;\n    csR = smoothstep(0.9*tex[1], tex[1], csR);\n    csI = smoothstep(0.9*tex[1], tex[1], csI);\n    gl_FragColor = gl_FragColor + vec4(csR + .06*csI, csR + .1*csI, .7*csR + .5*csI, 1.0);\n}",
       "layout": "IPY_MODEL_b14344e518154c7caa77f0a79a7c9e16",
       "pos": [],
       "surf": [],
       "surface_view": true
      }
     },
     "f1f48045e30a4891ac3ab9157facbfee": {
      "model_module": "@jupyter-widgets/base",
      "model_module_version": "2.0.0",
      "model_name": "LayoutModel",
      "state": {
       "_model_module_version": "2.0.0",
       "_view_module_version": "2.0.0",
       "border_bottom": null,
       "border_left": null,
       "border_right": null,
       "border_top": null
      }
     },
     "f4c4764a2ca34b9ebcc40302f6a215df": {
      "model_module": "evince",
      "model_module_version": "^0.31.0",
      "model_name": "BraketModel",
      "state": {
       "_model_module_version": "^0.31.0",
       "_view_module_version": "^0.31.0",
       "additive": false,
       "ao": [
        1
       ],
       "bg_color": [
        1,
        1,
        1
       ],
       "fragment_shader": "uniform vec3 user_color;\nuniform float time;\n\nvarying vec2 vUv;\nvarying vec3 pos;\nvarying vec3 tex;\nvarying float q;\nvarying float csI;\nvarying float csR;\nvarying float cs0;\nvarying float cs;\n\nvoid main() {\n\n    vec2 p = vUv;\n    float q = tex[0]*tex[0] ;\n    float cs0 = 1.0*exp(-q);\n    float csI = 0.0 ;\n    float csR = cs0 ;\n    csR = smoothstep(0.9*tex[1], tex[1], csR);\n    csI = smoothstep(0.9*tex[1], tex[1], csI);\n    gl_FragColor = gl_FragColor + vec4(csR + .06*csI, csR + .1*csI, .7*csR + .5*csI, 1.0);\n}",
       "layout": "IPY_MODEL_9aa9d70e2a1944d69d2755a1582d22fa",
       "pos": [],
       "surf": [],
       "surface_view": true,
       "tabbable": null,
       "tooltip": null
      }
     },
     "f5b3a8346bb445e1a49054519094506c": {
      "model_module": "@jupyter-widgets/base",
      "model_module_version": "2.0.0",
      "model_name": "LayoutModel",
      "state": {
       "_model_module_version": "2.0.0",
       "_view_module_version": "2.0.0",
       "border_bottom": null,
       "border_left": null,
       "border_right": null,
       "border_top": null
      }
     },
     "f6bf165c33804f77a86d8a70157937d5": {
      "model_module": "@jupyter-widgets/base",
      "model_module_version": "2.0.0",
      "model_name": "LayoutModel",
      "state": {
       "_model_module_version": "2.0.0",
       "_view_module_version": "2.0.0",
       "border_bottom": null,
       "border_left": null,
       "border_right": null,
       "border_top": null
      }
     },
     "f89175464f3f422daef91f0f211115e8": {
      "model_module": "evince",
      "model_module_version": "^0.30.0",
      "model_name": "BraketModel",
      "state": {
       "_model_module_version": "^0.30.0",
       "_view_module_version": "^0.30.0",
       "additive": false,
       "ao": [
        1
       ],
       "bg_color": [
        1,
        1,
        1
       ],
       "fragment_shader": "uniform vec3 user_color;\nuniform float time;\n\nvarying vec2 vUv;\nvarying vec3 pos;\nvarying vec3 tex;\nvarying float q;\nvarying float csI;\nvarying float csR;\nvarying float cs0;\nvarying float cs;\n\nvoid main() {\n\n    vec2 p = vUv;\n    float q = tex[0]*tex[0] ;\n    float cs0 = 1.0*exp(-4*pow(tex[0] + 0.89999999999999991, 2.0));\n    float csI = 0.0 ;\n    float csR = cs0 ;\n    csR = smoothstep(0.9*tex[1], tex[1], csR);\n    csI = smoothstep(0.9*tex[1], tex[1], csI);\n    gl_FragColor = gl_FragColor + vec4(csR + .06*csI, csR + .1*csI, .7*csR + .5*csI, 1.0);\n}",
       "layout": "IPY_MODEL_248454619c924fb9ba13e553aaf00952",
       "pos": [],
       "surf": [],
       "surface_view": true
      }
     },
     "f8deb9d7a5034dc6a0c1f674389c19e8": {
      "model_module": "evince",
      "model_module_version": "^0.30.0",
      "model_name": "BraketModel",
      "state": {
       "_model_module_version": "^0.30.0",
       "_view_module_version": "^0.30.0",
       "additive": false,
       "ao": [
        1
       ],
       "bg_color": [
        1,
        1,
        1
       ],
       "fragment_shader": "uniform vec3 user_color;\nuniform float time;\n\nvarying vec2 vUv;\nvarying vec3 pos;\nvarying vec3 tex;\nvarying float q;\nvarying float csI;\nvarying float csR;\nvarying float cs0;\nvarying float cs;\n\nvoid main() {\n\n    vec2 p = vUv;\n    float q = tex[0]*tex[0] ;\n    float cs0 = 1.0*exp(-q);\n    float csI = 0.0 ;\n    float csR = cs0 ;\n    csR = smoothstep(0.9*tex[1], tex[1], csR);\n    csI = smoothstep(0.9*tex[1], tex[1], csI);\n    gl_FragColor = gl_FragColor + vec4(csR + .06*csI, csR + .1*csI, .7*csR + .5*csI, 1.0);\n}",
       "layout": "IPY_MODEL_e26ea1e489d844db885a4a50fce42501",
       "pos": [],
       "surf": [],
       "surface_view": true
      }
     },
     "f9a7a7656cbf45f6812d5a543453f533": {
      "model_module": "@jupyter-widgets/base",
      "model_module_version": "2.0.0",
      "model_name": "LayoutModel",
      "state": {
       "_model_module_version": "2.0.0",
       "_view_module_version": "2.0.0",
       "border_bottom": null,
       "border_left": null,
       "border_right": null,
       "border_top": null
      }
     },
     "fb04158b97354b1889b9e5ac92752151": {
      "model_module": "evince",
      "model_module_version": "^0.30.0",
      "model_name": "BraketModel",
      "state": {
       "_model_module_version": "^0.30.0",
       "_view_module_version": "^0.30.0",
       "additive": false,
       "ao": [
        1
       ],
       "bg_color": [
        1,
        1,
        1
       ],
       "fragment_shader": "uniform vec3 user_color;\nuniform float time;\n\nvarying vec2 vUv;\nvarying vec3 pos;\nvarying vec3 tex;\nvarying float q;\nvarying float csI;\nvarying float csR;\nvarying float cs0;\nvarying float cs;\n\nvoid main() {\n\n    vec2 p = vUv;\n    float q = tex[0]*tex[0] ;\n    float cs0 = 1.0*exp(-q);\n    float csI = 0.0 ;\n    float csR = cs0 ;\n    csR = smoothstep(0.9*tex[1], tex[1], csR);\n    csI = smoothstep(0.9*tex[1], tex[1], csI);\n    gl_FragColor = gl_FragColor + vec4(csR + .06*csI, csR + .1*csI, .7*csR + .5*csI, 1.0);\n}",
       "layout": "IPY_MODEL_6a9eda666f384922925dbdfe0829d39d",
       "pos": [],
       "surf": [],
       "surface_view": true,
       "tabbable": null,
       "tooltip": null
      }
     },
     "fbcd4c2f397149719960cf23a6e15b2c": {
      "model_module": "@jupyter-widgets/base",
      "model_module_version": "2.0.0",
      "model_name": "LayoutModel",
      "state": {
       "_model_module_version": "2.0.0",
       "_view_module_version": "2.0.0",
       "border_bottom": null,
       "border_left": null,
       "border_right": null,
       "border_top": null
      }
     }
    },
    "version_major": 2,
    "version_minor": 0
   }
  }
 },
 "nbformat": 4,
 "nbformat_minor": 5
}
